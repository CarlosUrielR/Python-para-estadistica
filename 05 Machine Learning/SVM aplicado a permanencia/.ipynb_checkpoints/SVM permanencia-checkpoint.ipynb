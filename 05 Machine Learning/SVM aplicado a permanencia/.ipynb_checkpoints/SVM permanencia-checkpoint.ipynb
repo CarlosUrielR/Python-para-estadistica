{
 "cells": [
  {
   "cell_type": "markdown",
   "metadata": {},
   "source": [
    "# Predección del semestre en cual un estudiante abandona sus estudios de pregrado\n",
    "\n",
    "<img src=\"https://raw.githubusercontent.com/fhernanb/fhernanb.github.io/master/docs/logo_unal_color.png\" alt=\"drawing\" width=\"200\"/>\n",
    "\n"
   ]
  },
  {
   "cell_type": "code",
   "execution_count": 1,
   "metadata": {},
   "outputs": [],
   "source": [
    "import numpy as np\n",
    "import matplotlib.pyplot as plt\n",
    "import pandas as pd\n",
    "\n",
    "from pandas import read_excel\n",
    "from sklearn.model_selection import train_test_split"
   ]
  },
  {
   "cell_type": "markdown",
   "metadata": {},
   "source": [
    "## Leyendo los datos"
   ]
  },
  {
   "cell_type": "code",
   "execution_count": 2,
   "metadata": {},
   "outputs": [
    {
     "data": {
      "text/plain": [
       "(6593, 64)"
      ]
     },
     "execution_count": 2,
     "metadata": {},
     "output_type": "execute_result"
    }
   ],
   "source": [
    "my_sheet = 'SinDuplicadosDepurada' # change it to your sheet name\n",
    "file_name = 'BDFinal.xlsx' # change it to the name of your excel file\n",
    "df = read_excel(file_name, sheet_name=my_sheet)\n",
    "df.shape"
   ]
  },
  {
   "cell_type": "markdown",
   "metadata": {},
   "source": [
    "En la siguiente línea se crea la variable `y` categórica."
   ]
  },
  {
   "cell_type": "code",
   "execution_count": 3,
   "metadata": {},
   "outputs": [],
   "source": [
    "df['y'] = pd.Categorical(df['NIVEL_PREGRADO'])"
   ]
  },
  {
   "cell_type": "code",
   "execution_count": 4,
   "metadata": {},
   "outputs": [
    {
     "data": {
      "text/html": [
       "<div>\n",
       "<style scoped>\n",
       "    .dataframe tbody tr th:only-of-type {\n",
       "        vertical-align: middle;\n",
       "    }\n",
       "\n",
       "    .dataframe tbody tr th {\n",
       "        vertical-align: top;\n",
       "    }\n",
       "\n",
       "    .dataframe thead th {\n",
       "        text-align: right;\n",
       "    }\n",
       "</style>\n",
       "<table border=\"1\" class=\"dataframe\">\n",
       "  <thead>\n",
       "    <tr style=\"text-align: right;\">\n",
       "      <th>col_0</th>\n",
       "      <th>Frecuencia</th>\n",
       "    </tr>\n",
       "    <tr>\n",
       "      <th>y</th>\n",
       "      <th></th>\n",
       "    </tr>\n",
       "  </thead>\n",
       "  <tbody>\n",
       "    <tr>\n",
       "      <th>1</th>\n",
       "      <td>4768</td>\n",
       "    </tr>\n",
       "    <tr>\n",
       "      <th>2</th>\n",
       "      <td>867</td>\n",
       "    </tr>\n",
       "    <tr>\n",
       "      <th>3</th>\n",
       "      <td>455</td>\n",
       "    </tr>\n",
       "    <tr>\n",
       "      <th>4</th>\n",
       "      <td>226</td>\n",
       "    </tr>\n",
       "    <tr>\n",
       "      <th>5</th>\n",
       "      <td>135</td>\n",
       "    </tr>\n",
       "    <tr>\n",
       "      <th>6</th>\n",
       "      <td>73</td>\n",
       "    </tr>\n",
       "    <tr>\n",
       "      <th>7</th>\n",
       "      <td>24</td>\n",
       "    </tr>\n",
       "    <tr>\n",
       "      <th>8</th>\n",
       "      <td>9</td>\n",
       "    </tr>\n",
       "    <tr>\n",
       "      <th>9</th>\n",
       "      <td>7</td>\n",
       "    </tr>\n",
       "    <tr>\n",
       "      <th>10</th>\n",
       "      <td>23</td>\n",
       "    </tr>\n",
       "    <tr>\n",
       "      <th>11</th>\n",
       "      <td>6</td>\n",
       "    </tr>\n",
       "  </tbody>\n",
       "</table>\n",
       "</div>"
      ],
      "text/plain": [
       "col_0  Frecuencia\n",
       "y                \n",
       "1            4768\n",
       "2             867\n",
       "3             455\n",
       "4             226\n",
       "5             135\n",
       "6              73\n",
       "7              24\n",
       "8               9\n",
       "9               7\n",
       "10             23\n",
       "11              6"
      ]
     },
     "execution_count": 4,
     "metadata": {},
     "output_type": "execute_result"
    }
   ],
   "source": [
    "pd.crosstab(index=df['y'], columns=\"Frecuencia\")"
   ]
  },
  {
   "cell_type": "markdown",
   "metadata": {},
   "source": [
    "## Creación de los datos de entrenamiento (train) y de validación (test)\n",
    "Para particionar los datos originales se usa la función `train_test_split`, para mayores detalles se recomienda consultar los parámetros de la función se recomienda consultar este [enlace](http://scikit-learn.org/stable/modules/generated/sklearn.model_selection.train_test_split.html)"
   ]
  },
  {
   "cell_type": "code",
   "execution_count": 5,
   "metadata": {},
   "outputs": [],
   "source": [
    "X_train, X_test, y_train, y_test = train_test_split(df[['PROMEDIO_ULTIMO_SEMESTRE_TERMINADO',\n",
    "                                                        'VERSION',\n",
    "                                                        'CREDITOS_ULTIM_SEMEST_MATRIC',\n",
    "                                                        'IND_POBREZA',\n",
    "                                                        'Puntaje_total_estan',\n",
    "                                                        'Puntaje_global',\n",
    "                                                        'estu_edad']], \n",
    "                                                    df['y'], test_size=0.20)"
   ]
  },
  {
   "cell_type": "markdown",
   "metadata": {},
   "source": [
    "## Ajuste del modelo SVM\n",
    "\n",
    "Para crear el modelo se usa la función `sklearn.svm.SVC`, para mayores detalles se recomienda consultar los parámetros de la función se recomienda consultar este [enlace](https://scikit-learn.org/0.16/modules/generated/sklearn.svm.SVC.html#sklearn.svm.SVC)"
   ]
  },
  {
   "cell_type": "code",
   "execution_count": 6,
   "metadata": {},
   "outputs": [
    {
     "name": "stdout",
     "output_type": "stream",
     "text": [
      "{1: 3808, 2: 699, 3: 359, 4: 182, 5: 105, 6: 61, 7: 19, 8: 8, 9: 7, 10: 20, 11: 6}\n"
     ]
    }
   ],
   "source": [
    "cw = {}\n",
    "for i in set(y_train):\n",
    "    cw[i] = np.sum(y_train == i)\n",
    "print(cw)"
   ]
  },
  {
   "cell_type": "code",
   "execution_count": 7,
   "metadata": {},
   "outputs": [],
   "source": [
    "from sklearn.svm import SVC\n",
    "\n",
    "model = SVC(class_weight=cw, coef0=0.0, degree=3, gamma='auto', kernel='linear')\n",
    "model_fit = model.fit(X=X_train, y=y_train)"
   ]
  },
  {
   "cell_type": "markdown",
   "metadata": {},
   "source": [
    "Para obtener la tabla de confusión hacemos lo siguiente:"
   ]
  },
  {
   "cell_type": "code",
   "execution_count": 8,
   "metadata": {},
   "outputs": [
    {
     "name": "stdout",
     "output_type": "stream",
     "text": [
      "\n",
      "\n",
      "La tabla de confusión usando train es: \n",
      "\n",
      "Membresia     1    2    3    4    5   6   7   8   9   10  11\n",
      "Prediccion                                                  \n",
      "1           3808  699  359  182  105  61  19   8   7  20   6\n",
      "\n",
      "\n",
      "La tabla de confusión usando test es: \n",
      "\n",
      "Membresia    1    2   3   4   5   6   7   8   10\n",
      "Prediccion                                      \n",
      "1           960  168  96  44  30  12   5   1   3\n"
     ]
    }
   ],
   "source": [
    "t1 = pd.crosstab(index=model.predict(X_train), columns=y_train, rownames=['Prediccion'], colnames=['Membresia'])\n",
    "t2 = pd.crosstab(index=model.predict(X_test), columns=y_test, rownames=['Prediccion'], colnames=['Membresia'])\n",
    "\n",
    "print('\\n')\n",
    "print('La tabla de confusión usando train es: \\n')\n",
    "print(t1)\n",
    "\n",
    "print('\\n')\n",
    "print('La tabla de confusión usando test es: \\n')\n",
    "print(t2)"
   ]
  },
  {
   "cell_type": "code",
   "execution_count": 9,
   "metadata": {},
   "outputs": [
    {
     "name": "stdout",
     "output_type": "stream",
     "text": [
      "El Accuracy con test es: 0.7220326128175958\n",
      "El Accuracy con train es: 0.7278241091736164\n"
     ]
    }
   ],
   "source": [
    "print('El Accuracy con test es:', model.score(X_train, y_train))\n",
    "print('El Accuracy con train es:', model.score(X_test, y_test))"
   ]
  },
  {
   "cell_type": "markdown",
   "metadata": {},
   "source": [
    "## Ajuste del modelo KNN"
   ]
  },
  {
   "cell_type": "code",
   "execution_count": 10,
   "metadata": {},
   "outputs": [
    {
     "name": "stdout",
     "output_type": "stream",
     "text": [
      "\n",
      "\n",
      "La tabla de confusión usando test es: \n",
      "\n",
      "Membresia    1    2   3   4   5   6   7   8   10\n",
      "Prediccion                                      \n",
      "1           950  166  95  44  30  11   5   1   3\n",
      "2             9    1   1   0   0   1   0   0   0\n",
      "3             0    1   0   0   0   0   0   0   0\n",
      "5             1    0   0   0   0   0   0   0   0\n",
      "\n",
      "\n",
      "El Accuracy con test es: 0.7222222222222222\n",
      "El Accuracy con train es: 0.7210007581501138\n"
     ]
    }
   ],
   "source": [
    "from sklearn.neighbors import KNeighborsClassifier\n",
    "\n",
    "model = KNeighborsClassifier(n_neighbors=10)\n",
    "model_fit = model.fit(X=X_train, y=y_train)\n",
    "\n",
    "print('\\n')\n",
    "t2 = pd.crosstab(index=model.predict(X_test), columns=y_test, rownames=['Prediccion'], colnames=['Membresia'])\n",
    "print('La tabla de confusión usando test es: \\n')\n",
    "print(t2)\n",
    "\n",
    "print('\\n')\n",
    "print('El Accuracy con test es:', model.score(X_train, y_train))\n",
    "print('El Accuracy con train es:', model.score(X_test, y_test))"
   ]
  },
  {
   "cell_type": "markdown",
   "metadata": {},
   "source": [
    "## Ajuste del modelo ARBOL"
   ]
  },
  {
   "cell_type": "code",
   "execution_count": 11,
   "metadata": {},
   "outputs": [
    {
     "name": "stdout",
     "output_type": "stream",
     "text": [
      "\n",
      "\n",
      "La tabla de confusión usando test es: \n",
      "\n",
      "Membresia    1    2   3   4   5   6   7   8   10\n",
      "Prediccion                                      \n",
      "1           722  102  57  26  11   2   4   0   1\n",
      "2           121   29  23   8   5   2   1   0   0\n",
      "3            50   19   7   5   3   2   0   0   0\n",
      "4            24    9   4   3   7   4   0   0   0\n",
      "5            23    3   2   1   0   1   0   0   0\n",
      "6            13    5   3   1   2   1   0   1   2\n",
      "7             2    0   0   0   0   0   0   0   0\n",
      "8             2    0   0   0   0   0   0   0   0\n",
      "9             1    0   0   0   0   0   0   0   0\n",
      "10            2    1   0   0   2   0   0   0   0\n",
      "\n",
      "\n",
      "El Accuracy con test es: 1.0\n",
      "El Accuracy con train es: 0.577710386656558\n"
     ]
    }
   ],
   "source": [
    "from sklearn import tree\n",
    "\n",
    "model = tree.DecisionTreeClassifier()\n",
    "model_fit = model.fit(X=X_train, y=y_train)\n",
    "\n",
    "print('\\n')\n",
    "t2 = pd.crosstab(index=model.predict(X_test), columns=y_test, rownames=['Prediccion'], colnames=['Membresia'])\n",
    "print('La tabla de confusión usando test es: \\n')\n",
    "print(t2)\n",
    "\n",
    "print('\\n')\n",
    "print('El Accuracy con test es:', model.score(X_train, y_train))\n",
    "print('El Accuracy con train es:', model.score(X_test, y_test))"
   ]
  },
  {
   "cell_type": "markdown",
   "metadata": {},
   "source": [
    "## Ajuste del modelo Gradient Tree Boosting"
   ]
  },
  {
   "cell_type": "code",
   "execution_count": 12,
   "metadata": {},
   "outputs": [
    {
     "name": "stdout",
     "output_type": "stream",
     "text": [
      "\n",
      "\n",
      "La tabla de confusión usando test es: \n",
      "\n",
      "Membresia    1    2   3   4   5   6   7   8   10\n",
      "Prediccion                                      \n",
      "1           936  157  85  38  29   8   4   1   2\n",
      "2             6    3   2   3   0   1   1   0   0\n",
      "3             2    2   5   0   1   0   0   0   0\n",
      "4             2    1   2   2   0   1   0   0   0\n",
      "5             4    1   0   0   0   1   0   0   0\n",
      "6             2    2   0   1   0   0   0   0   0\n",
      "7             2    2   1   0   0   1   0   0   1\n",
      "8             1    0   1   0   0   0   0   0   0\n",
      "10            3    0   0   0   0   0   0   0   0\n",
      "11            2    0   0   0   0   0   0   0   0\n",
      "\n",
      "\n",
      "El Accuracy con test es: 0.7817595752749337\n",
      "El Accuracy con train es: 0.7172100075815011\n"
     ]
    }
   ],
   "source": [
    "from sklearn.ensemble import GradientBoostingClassifier\n",
    "\n",
    "model = GradientBoostingClassifier()\n",
    "model_fit = model.fit(X=X_train, y=y_train)\n",
    "\n",
    "print('\\n')\n",
    "t2 = pd.crosstab(index=model.predict(X_test), columns=y_test, rownames=['Prediccion'], colnames=['Membresia'])\n",
    "print('La tabla de confusión usando test es: \\n')\n",
    "print(t2)\n",
    "\n",
    "print('\\n')\n",
    "print('El Accuracy con test es:', model.score(X_train, y_train))\n",
    "print('El Accuracy con train es:', model.score(X_test, y_test))"
   ]
  },
  {
   "cell_type": "markdown",
   "metadata": {},
   "source": [
    "## Ajuste del modelo Forests of randomized trees¶"
   ]
  },
  {
   "cell_type": "code",
   "execution_count": 13,
   "metadata": {},
   "outputs": [
    {
     "name": "stdout",
     "output_type": "stream",
     "text": [
      "\n",
      "\n",
      "La tabla de confusión usando test es: \n",
      "\n",
      "Membresia    1   2   3   4   5   6   7   8   10\n",
      "Prediccion                                     \n",
      "1           715  98  56  25  10   4   4   0   1\n",
      "2           132  26  22   7   5   1   1   0   1\n",
      "3            51  20   6   7   3   2   0   0   1\n",
      "4            24  12   4   3   6   2   0   0   0\n",
      "5            19   3   4   1   2   2   0   0   0\n",
      "6            12   5   4   1   3   0   0   1   0\n",
      "7             3   2   0   0   0   0   0   0   0\n",
      "8             2   1   0   0   0   0   0   0   0\n",
      "10            1   1   0   0   1   0   0   0   0\n",
      "11            1   0   0   0   0   1   0   0   0\n",
      "\n",
      "\n",
      "El Accuracy con test es: 1.0\n",
      "El Accuracy con train es: 0.5701288855193328\n"
     ]
    }
   ],
   "source": [
    "from sklearn.tree import DecisionTreeClassifier\n",
    "\n",
    "model = DecisionTreeClassifier()\n",
    "model_fit = model.fit(X=X_train, y=y_train)\n",
    "\n",
    "print('\\n')\n",
    "t2 = pd.crosstab(index=model.predict(X_test), columns=y_test, rownames=['Prediccion'], colnames=['Membresia'])\n",
    "print('La tabla de confusión usando test es: \\n')\n",
    "print(t2)\n",
    "\n",
    "print('\\n')\n",
    "print('El Accuracy con test es:', model.score(X_train, y_train))\n",
    "print('El Accuracy con train es:', model.score(X_test, y_test))"
   ]
  },
  {
   "cell_type": "markdown",
   "metadata": {},
   "source": [
    "## Ajuste del modelo Multioutput classification"
   ]
  },
  {
   "cell_type": "code",
   "execution_count": 22,
   "metadata": {},
   "outputs": [
    {
     "name": "stdout",
     "output_type": "stream",
     "text": [
      "\n",
      "\n",
      "La tabla de confusión usando test es: \n",
      "\n",
      "Membresia    1    2   3   4   5   6   7   8   10\n",
      "Prediccion                                      \n",
      "1           960  168  96  44  30  12   5   1   3\n",
      "\n",
      "\n",
      "El Accuracy con test es: 0.7220326128175958\n",
      "El Accuracy con train es: 0.7278241091736164\n"
     ]
    }
   ],
   "source": [
    "from sklearn.neural_network import MLPClassifier\n",
    "\n",
    "model = MLPClassifier(solver='lbfgs', alpha=1e-5,\n",
    "                      hidden_layer_sizes=(5, 5, 5), random_state=1)\n",
    "model_fit = model.fit(X=X_train, y=y_train)\n",
    "\n",
    "print('\\n')\n",
    "t2 = pd.crosstab(index=model.predict(X_test), columns=y_test, rownames=['Prediccion'], colnames=['Membresia'])\n",
    "print('La tabla de confusión usando test es: \\n')\n",
    "print(t2)\n",
    "\n",
    "print('\\n')\n",
    "print('El Accuracy con test es:', model.score(X_train, y_train))\n",
    "print('El Accuracy con train es:', model.score(X_test, y_test))"
   ]
  },
  {
   "cell_type": "code",
   "execution_count": null,
   "metadata": {},
   "outputs": [],
   "source": []
  }
 ],
 "metadata": {
  "kernelspec": {
   "display_name": "Python 3",
   "language": "python",
   "name": "python3"
  },
  "language_info": {
   "codemirror_mode": {
    "name": "ipython",
    "version": 3
   },
   "file_extension": ".py",
   "mimetype": "text/x-python",
   "name": "python",
   "nbconvert_exporter": "python",
   "pygments_lexer": "ipython3",
   "version": "3.7.3"
  }
 },
 "nbformat": 4,
 "nbformat_minor": 2
}
