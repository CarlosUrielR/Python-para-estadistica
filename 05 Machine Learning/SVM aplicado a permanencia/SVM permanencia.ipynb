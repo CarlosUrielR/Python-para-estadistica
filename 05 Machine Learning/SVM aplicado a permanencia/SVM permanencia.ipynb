{
 "cells": [
  {
   "cell_type": "markdown",
   "metadata": {},
   "source": [
    "# Predección del semestre en cual un estudiante abandona sus estudios de pregrado\n",
    "\n",
    "<img src=\"logo_udea.png\" alt=\"drawing\" width=\"100\"/>\n",
    "\n"
   ]
  },
  {
   "cell_type": "code",
   "execution_count": 1,
   "metadata": {},
   "outputs": [],
   "source": [
    "import numpy as np\n",
    "import matplotlib.pyplot as plt\n",
    "import pandas as pd\n",
    "\n",
    "from pandas import read_excel\n",
    "from sklearn.model_selection import train_test_split"
   ]
  },
  {
   "cell_type": "markdown",
   "metadata": {},
   "source": [
    "## Leyendo los datos"
   ]
  },
  {
   "cell_type": "code",
   "execution_count": 2,
   "metadata": {},
   "outputs": [
    {
     "data": {
      "text/plain": [
       "(6593, 64)"
      ]
     },
     "execution_count": 2,
     "metadata": {},
     "output_type": "execute_result"
    }
   ],
   "source": [
    "my_sheet = 'SinDuplicadosDepurada' # change it to your sheet name\n",
    "file_name = 'BDFinal.xlsx' # change it to the name of your excel file\n",
    "df = read_excel(file_name, sheet_name=my_sheet)\n",
    "df.shape"
   ]
  },
  {
   "cell_type": "markdown",
   "metadata": {},
   "source": [
    "En la siguiente fila se filtra por sede y modalidad."
   ]
  },
  {
   "cell_type": "code",
   "execution_count": 3,
   "metadata": {},
   "outputs": [],
   "source": [
    "df = df[(df.SEDE == 'MEDELLIN') & (df.MODALIDAD == 'PRESENCIAL')]\n"
   ]
  },
  {
   "cell_type": "markdown",
   "metadata": {},
   "source": [
    "En la siguiente línea se crea la variable `y` categórica."
   ]
  },
  {
   "cell_type": "code",
   "execution_count": 4,
   "metadata": {},
   "outputs": [],
   "source": [
    "df['y'] = pd.Categorical(df['NIVEL_PREGRADO'])"
   ]
  },
  {
   "cell_type": "code",
   "execution_count": 5,
   "metadata": {},
   "outputs": [
    {
     "data": {
      "text/html": [
       "<div>\n",
       "<style scoped>\n",
       "    .dataframe tbody tr th:only-of-type {\n",
       "        vertical-align: middle;\n",
       "    }\n",
       "\n",
       "    .dataframe tbody tr th {\n",
       "        vertical-align: top;\n",
       "    }\n",
       "\n",
       "    .dataframe thead th {\n",
       "        text-align: right;\n",
       "    }\n",
       "</style>\n",
       "<table border=\"1\" class=\"dataframe\">\n",
       "  <thead>\n",
       "    <tr style=\"text-align: right;\">\n",
       "      <th>col_0</th>\n",
       "      <th>Frecuencia</th>\n",
       "    </tr>\n",
       "    <tr>\n",
       "      <th>y</th>\n",
       "      <th></th>\n",
       "    </tr>\n",
       "  </thead>\n",
       "  <tbody>\n",
       "    <tr>\n",
       "      <th>1</th>\n",
       "      <td>3482</td>\n",
       "    </tr>\n",
       "    <tr>\n",
       "      <th>2</th>\n",
       "      <td>714</td>\n",
       "    </tr>\n",
       "    <tr>\n",
       "      <th>3</th>\n",
       "      <td>384</td>\n",
       "    </tr>\n",
       "    <tr>\n",
       "      <th>4</th>\n",
       "      <td>199</td>\n",
       "    </tr>\n",
       "    <tr>\n",
       "      <th>5</th>\n",
       "      <td>117</td>\n",
       "    </tr>\n",
       "    <tr>\n",
       "      <th>6</th>\n",
       "      <td>61</td>\n",
       "    </tr>\n",
       "    <tr>\n",
       "      <th>7</th>\n",
       "      <td>24</td>\n",
       "    </tr>\n",
       "    <tr>\n",
       "      <th>8</th>\n",
       "      <td>9</td>\n",
       "    </tr>\n",
       "    <tr>\n",
       "      <th>9</th>\n",
       "      <td>5</td>\n",
       "    </tr>\n",
       "    <tr>\n",
       "      <th>10</th>\n",
       "      <td>18</td>\n",
       "    </tr>\n",
       "    <tr>\n",
       "      <th>11</th>\n",
       "      <td>6</td>\n",
       "    </tr>\n",
       "  </tbody>\n",
       "</table>\n",
       "</div>"
      ],
      "text/plain": [
       "col_0  Frecuencia\n",
       "y                \n",
       "1            3482\n",
       "2             714\n",
       "3             384\n",
       "4             199\n",
       "5             117\n",
       "6              61\n",
       "7              24\n",
       "8               9\n",
       "9               5\n",
       "10             18\n",
       "11              6"
      ]
     },
     "execution_count": 5,
     "metadata": {},
     "output_type": "execute_result"
    }
   ],
   "source": [
    "pd.crosstab(index=df['y'], columns=\"Frecuencia\")"
   ]
  },
  {
   "cell_type": "markdown",
   "metadata": {},
   "source": [
    "## Creación de los datos de entrenamiento (train) y de validación (test)\n",
    "Para particionar los datos originales se usa la función `train_test_split`, para mayores detalles se recomienda consultar los parámetros de la función se recomienda consultar este [enlace](http://scikit-learn.org/stable/modules/generated/sklearn.model_selection.train_test_split.html)"
   ]
  },
  {
   "cell_type": "code",
   "execution_count": 6,
   "metadata": {},
   "outputs": [],
   "source": [
    "X_train, X_test, y_train, y_test = train_test_split(df[['PROMEDIO_ULTIMO_SEMESTRE_TERMINADO',\n",
    "                                                        'VERSION',\n",
    "                                                        'CREDITOS_ULTIM_SEMEST_MATRIC',\n",
    "                                                        'IND_POBREZA',\n",
    "                                                        'Puntaje_total_estan',\n",
    "                                                        'Puntaje_global',\n",
    "                                                        'estu_edad']], \n",
    "                                                    df['y'], test_size=0.20)"
   ]
  },
  {
   "cell_type": "markdown",
   "metadata": {},
   "source": [
    "## Ajuste del modelo SVM\n",
    "\n",
    "Para crear el modelo se usa la función `sklearn.svm.SVC`, para mayores detalles se recomienda consultar los parámetros de la función se recomienda consultar este [enlace](https://scikit-learn.org/0.16/modules/generated/sklearn.svm.SVC.html#sklearn.svm.SVC)"
   ]
  },
  {
   "cell_type": "code",
   "execution_count": 7,
   "metadata": {},
   "outputs": [
    {
     "name": "stdout",
     "output_type": "stream",
     "text": [
      "{1: 2773, 2: 577, 3: 295, 4: 170, 5: 96, 6: 53, 7: 21, 8: 6, 9: 4, 10: 15, 11: 5}\n"
     ]
    }
   ],
   "source": [
    "cw = {}\n",
    "for i in set(y_train):\n",
    "    cw[i] = np.sum(y_train == i)\n",
    "print(cw)"
   ]
  },
  {
   "cell_type": "code",
   "execution_count": 8,
   "metadata": {},
   "outputs": [],
   "source": [
    "from sklearn.svm import SVC\n",
    "\n",
    "model = SVC(class_weight=cw, coef0=0.0, degree=3, gamma='auto', kernel='linear')\n",
    "model_fit = model.fit(X=X_train, y=y_train)"
   ]
  },
  {
   "cell_type": "markdown",
   "metadata": {},
   "source": [
    "Para obtener la tabla de confusión hacemos lo siguiente:"
   ]
  },
  {
   "cell_type": "code",
   "execution_count": 9,
   "metadata": {},
   "outputs": [
    {
     "name": "stdout",
     "output_type": "stream",
     "text": [
      "\n",
      "\n",
      "La tabla de confusión usando train es: \n",
      "\n",
      "Membresia     1    2    3    4   5   6   7   8   9   10  11\n",
      "Prediccion                                                 \n",
      "1           2773  577  295  170  96  53  21   6   4  15   5\n",
      "\n",
      "\n",
      "La tabla de confusión usando test es: \n",
      "\n",
      "Membresia    1    2   3   4   5   6   7   8   9   10  11\n",
      "Prediccion                                              \n",
      "1           709  137  89  29  21   8   3   3   1   3   1\n"
     ]
    }
   ],
   "source": [
    "t1 = pd.crosstab(index=model.predict(X_train), columns=y_train, rownames=['Prediccion'], colnames=['Membresia'])\n",
    "t2 = pd.crosstab(index=model.predict(X_test), columns=y_test, rownames=['Prediccion'], colnames=['Membresia'])\n",
    "\n",
    "print('\\n')\n",
    "print('La tabla de confusión usando train es: \\n')\n",
    "print(t1)\n",
    "\n",
    "print('\\n')\n",
    "print('La tabla de confusión usando test es: \\n')\n",
    "print(t2)"
   ]
  },
  {
   "cell_type": "code",
   "execution_count": 10,
   "metadata": {},
   "outputs": [
    {
     "name": "stdout",
     "output_type": "stream",
     "text": [
      "El Accuracy con test es: 0.6906600249066003\n",
      "El Accuracy con train es: 0.7061752988047809\n"
     ]
    }
   ],
   "source": [
    "print('El Accuracy con test es:', model.score(X_train, y_train))\n",
    "print('El Accuracy con train es:', model.score(X_test, y_test))"
   ]
  },
  {
   "cell_type": "markdown",
   "metadata": {},
   "source": [
    "## Ajuste del modelo KNN"
   ]
  },
  {
   "cell_type": "code",
   "execution_count": 11,
   "metadata": {},
   "outputs": [
    {
     "name": "stdout",
     "output_type": "stream",
     "text": [
      "\n",
      "\n",
      "La tabla de confusión usando test es: \n",
      "\n",
      "Membresia    1    2   3   4   5   6   7   8   9   10  11\n",
      "Prediccion                                              \n",
      "1           698  134  86  29  21   8   3   3   1   3   1\n",
      "2            10    3   2   0   0   0   0   0   0   0   0\n",
      "3             1    0   1   0   0   0   0   0   0   0   0\n",
      "\n",
      "\n",
      "El Accuracy con test es: 0.6904109589041096\n",
      "El Accuracy con train es: 0.6992031872509961\n"
     ]
    }
   ],
   "source": [
    "from sklearn.neighbors import KNeighborsClassifier\n",
    "\n",
    "model = KNeighborsClassifier(n_neighbors=10)\n",
    "model_fit = model.fit(X=X_train, y=y_train)\n",
    "\n",
    "print('\\n')\n",
    "t2 = pd.crosstab(index=model.predict(X_test), columns=y_test, rownames=['Prediccion'], colnames=['Membresia'])\n",
    "print('La tabla de confusión usando test es: \\n')\n",
    "print(t2)\n",
    "\n",
    "print('\\n')\n",
    "print('El Accuracy con test es:', model.score(X_train, y_train))\n",
    "print('El Accuracy con train es:', model.score(X_test, y_test))"
   ]
  },
  {
   "cell_type": "markdown",
   "metadata": {},
   "source": [
    "## Ajuste del modelo ARBOL"
   ]
  },
  {
   "cell_type": "code",
   "execution_count": 12,
   "metadata": {},
   "outputs": [
    {
     "name": "stdout",
     "output_type": "stream",
     "text": [
      "\n",
      "\n",
      "La tabla de confusión usando test es: \n",
      "\n",
      "Membresia    1   2   3   4   5   6   7   8   9   10  11\n",
      "Prediccion                                             \n",
      "1           510  78  47  13  13   3   1   2   0   1   0\n",
      "2            87  28  21   1   4   2   1   0   1   2   0\n",
      "3            45  16   8   6   1   0   0   1   0   0   0\n",
      "4            32   6   6   3   1   1   1   0   0   0   0\n",
      "5            18   5   5   5   0   1   0   0   0   0   1\n",
      "6            10   1   1   1   0   0   0   0   0   0   0\n",
      "7             0   2   0   0   1   1   0   0   0   0   0\n",
      "8             1   1   1   0   0   0   0   0   0   0   0\n",
      "10            5   0   0   0   0   0   0   0   0   0   0\n",
      "11            1   0   0   0   1   0   0   0   0   0   0\n",
      "\n",
      "\n",
      "El Accuracy con test es: 1.0\n",
      "El Accuracy con train es: 0.546812749003984\n"
     ]
    }
   ],
   "source": [
    "from sklearn import tree\n",
    "\n",
    "model = tree.DecisionTreeClassifier()\n",
    "model_fit = model.fit(X=X_train, y=y_train)\n",
    "\n",
    "print('\\n')\n",
    "t2 = pd.crosstab(index=model.predict(X_test), columns=y_test, rownames=['Prediccion'], colnames=['Membresia'])\n",
    "print('La tabla de confusión usando test es: \\n')\n",
    "print(t2)\n",
    "\n",
    "print('\\n')\n",
    "print('El Accuracy con test es:', model.score(X_train, y_train))\n",
    "print('El Accuracy con train es:', model.score(X_test, y_test))"
   ]
  },
  {
   "cell_type": "markdown",
   "metadata": {},
   "source": [
    "## Ajuste del modelo Gradient Tree Boosting"
   ]
  },
  {
   "cell_type": "code",
   "execution_count": 13,
   "metadata": {},
   "outputs": [
    {
     "name": "stdout",
     "output_type": "stream",
     "text": [
      "\n",
      "\n",
      "La tabla de confusión usando test es: \n",
      "\n",
      "Membresia    1    2   3   4   5   6   7   8   9   10  11\n",
      "Prediccion                                              \n",
      "1           677  128  79  24  18   7   3   2   1   2   0\n",
      "2             8    7   1   1   1   0   0   0   0   0   0\n",
      "3             3    1   4   0   1   0   0   1   0   0   0\n",
      "4             2    1   2   2   1   1   0   0   0   0   0\n",
      "5             3    0   1   0   0   0   0   0   0   0   0\n",
      "6             6    0   1   0   0   0   0   0   0   0   0\n",
      "7             2    0   1   0   0   0   0   0   0   0   1\n",
      "8             6    0   0   0   0   0   0   0   0   0   0\n",
      "10            1    0   0   2   0   0   0   0   0   1   0\n",
      "11            1    0   0   0   0   0   0   0   0   0   0\n",
      "\n",
      "\n",
      "El Accuracy con test es: 0.7691158156911582\n",
      "El Accuracy con train es: 0.6882470119521913\n"
     ]
    }
   ],
   "source": [
    "from sklearn.ensemble import GradientBoostingClassifier\n",
    "\n",
    "model = GradientBoostingClassifier()\n",
    "model_fit = model.fit(X=X_train, y=y_train)\n",
    "\n",
    "print('\\n')\n",
    "t2 = pd.crosstab(index=model.predict(X_test), columns=y_test, rownames=['Prediccion'], colnames=['Membresia'])\n",
    "print('La tabla de confusión usando test es: \\n')\n",
    "print(t2)\n",
    "\n",
    "print('\\n')\n",
    "print('El Accuracy con test es:', model.score(X_train, y_train))\n",
    "print('El Accuracy con train es:', model.score(X_test, y_test))"
   ]
  },
  {
   "cell_type": "markdown",
   "metadata": {},
   "source": [
    "## Ajuste del modelo Forests of randomized trees¶"
   ]
  },
  {
   "cell_type": "code",
   "execution_count": 14,
   "metadata": {},
   "outputs": [
    {
     "name": "stdout",
     "output_type": "stream",
     "text": [
      "\n",
      "\n",
      "La tabla de confusión usando test es: \n",
      "\n",
      "Membresia    1   2   3   4   5   6   7   8   9   10  11\n",
      "Prediccion                                             \n",
      "1           510  78  46  13  13   3   1   2   0   1   0\n",
      "2            91  29  20   1   4   2   2   0   1   2   0\n",
      "3            37  17   9   7   2   0   0   0   0   0   0\n",
      "4            33   6   7   3   1   2   0   0   0   0   0\n",
      "5            23   6   5   4   0   1   0   1   0   0   1\n",
      "6            10   0   1   1   0   0   0   0   0   0   0\n",
      "7             0   1   0   0   0   0   0   0   0   0   0\n",
      "8             1   0   0   0   0   0   0   0   0   0   0\n",
      "10            2   0   1   0   0   0   0   0   0   0   0\n",
      "11            2   0   0   0   1   0   0   0   0   0   0\n",
      "\n",
      "\n",
      "El Accuracy con test es: 1.0\n",
      "El Accuracy con train es: 0.548804780876494\n"
     ]
    }
   ],
   "source": [
    "from sklearn.tree import DecisionTreeClassifier\n",
    "\n",
    "model = DecisionTreeClassifier()\n",
    "model_fit = model.fit(X=X_train, y=y_train)\n",
    "\n",
    "print('\\n')\n",
    "t2 = pd.crosstab(index=model.predict(X_test), columns=y_test, rownames=['Prediccion'], colnames=['Membresia'])\n",
    "print('La tabla de confusión usando test es: \\n')\n",
    "print(t2)\n",
    "\n",
    "print('\\n')\n",
    "print('El Accuracy con test es:', model.score(X_train, y_train))\n",
    "print('El Accuracy con train es:', model.score(X_test, y_test))"
   ]
  },
  {
   "cell_type": "markdown",
   "metadata": {},
   "source": [
    "## Ajuste del modelo Multioutput classification"
   ]
  },
  {
   "cell_type": "code",
   "execution_count": 15,
   "metadata": {},
   "outputs": [
    {
     "name": "stdout",
     "output_type": "stream",
     "text": [
      "\n",
      "\n",
      "La tabla de confusión usando test es: \n",
      "\n",
      "Membresia    1    2   3   4   5   6   7   8   9   10  11\n",
      "Prediccion                                              \n",
      "1           709  137  89  29  21   8   3   3   1   3   1\n",
      "\n",
      "\n",
      "El Accuracy con test es: 0.6906600249066003\n",
      "El Accuracy con train es: 0.7061752988047809\n"
     ]
    }
   ],
   "source": [
    "from sklearn.neural_network import MLPClassifier\n",
    "\n",
    "model = MLPClassifier(activation='logistic', hidden_layer_sizes=(100, 100, 100), max_iter=300)\n",
    "model_fit = model.fit(X=X_train, y=y_train)\n",
    "\n",
    "print('\\n')\n",
    "t2 = pd.crosstab(index=model.predict(X_test), columns=y_test, rownames=['Prediccion'], colnames=['Membresia'])\n",
    "print('La tabla de confusión usando test es: \\n')\n",
    "print(t2)\n",
    "\n",
    "print('\\n')\n",
    "print('El Accuracy con test es:', model.score(X_train, y_train))\n",
    "print('El Accuracy con train es:', model.score(X_test, y_test))"
   ]
  },
  {
   "cell_type": "markdown",
   "metadata": {},
   "source": [
    "## Ajuste del modelo Stochastic Gradient Descent"
   ]
  },
  {
   "cell_type": "code",
   "execution_count": 16,
   "metadata": {},
   "outputs": [
    {
     "name": "stdout",
     "output_type": "stream",
     "text": [
      "\n",
      "\n",
      "La tabla de confusión usando test es: \n",
      "\n",
      "Membresia    1    2   3   4   5   6   7   8   9   10  11\n",
      "Prediccion                                              \n",
      "1           709  137  89  29  21   8   3   3   1   3   1\n",
      "\n",
      "\n",
      "El Accuracy con test es: 0.6906600249066003\n",
      "El Accuracy con train es: 0.7061752988047809\n"
     ]
    }
   ],
   "source": [
    "from sklearn.linear_model import SGDClassifier\n",
    "\n",
    "model = SGDClassifier(loss=\"hinge\", penalty=\"l2\", max_iter=5000)\n",
    "model_fit = model.fit(X=X_train, y=y_train)\n",
    "\n",
    "print('\\n')\n",
    "t2 = pd.crosstab(index=model.predict(X_test), columns=y_test, rownames=['Prediccion'], colnames=['Membresia'])\n",
    "print('La tabla de confusión usando test es: \\n')\n",
    "print(t2)\n",
    "\n",
    "print('\\n')\n",
    "print('El Accuracy con test es:', model.score(X_train, y_train))\n",
    "print('El Accuracy con train es:', model.score(X_test, y_test))"
   ]
  },
  {
   "cell_type": "markdown",
   "metadata": {},
   "source": [
    "## Un modelo adivinando"
   ]
  },
  {
   "cell_type": "code",
   "execution_count": 17,
   "metadata": {},
   "outputs": [
    {
     "name": "stdout",
     "output_type": "stream",
     "text": [
      "\n",
      "\n",
      "La tabla de confusión usando test es: \n",
      "\n",
      "Membresia     1    2    3   4   5   6   7   8   9   10  11\n",
      "Prediccion                                                \n",
      "1           1071  255  137  92  58  38   6   4   2   6   3\n",
      "2            218   51   27  17  14   5   5   0   2   3   0\n",
      "3            110   24   13   8   5   5   5   1   0   2   0\n",
      "4             52   17    7   7   4   1   1   1   0   0   1\n",
      "5             37    8    9   2   1   0   1   0   0   0   0\n",
      "6             22    1    1   3   1   0   0   0   0   0   0\n",
      "7              8    2    0   3   0   0   0   0   0   0   1\n",
      "8              5    0    0   0   0   0   0   0   0   0   0\n",
      "9              2    1    0   0   0   0   0   0   0   0   0\n",
      "10             4    1    1   1   0   0   0   0   0   0   0\n",
      "11             7    0    0   0   0   0   0   0   0   0   0\n",
      "\n",
      "\n",
      "El Accuracy con train es: 0.47625\n"
     ]
    }
   ],
   "source": [
    "respuesta = pd.crosstab(index=df['y'], columns=\"Frecuencia\")\n",
    "\n",
    "import random\n",
    "\n",
    "n = X_train.shape[0] # numero observaciones en train\n",
    "y_al_azar = random.choices(population=respuesta.index.values, weights=respuesta['Frecuencia'], k=n)\n",
    "y_al_azar = pd.Series(y_al_azar)\n",
    "\n",
    "print('\\n')\n",
    "t2 = pd.crosstab(index=y_al_azar, columns=y_train, rownames=['Prediccion'], colnames=['Membresia'])\n",
    "print('La tabla de confusión usando test es: \\n')\n",
    "print(t2)\n",
    "\n",
    "print('\\n')\n",
    "accu = t2.values.diagonal().sum() / t2.values.sum()\n",
    "print('El Accuracy con train es:', accu)"
   ]
  }
 ],
 "metadata": {
  "kernelspec": {
   "display_name": "Python 3",
   "language": "python",
   "name": "python3"
  },
  "language_info": {
   "codemirror_mode": {
    "name": "ipython",
    "version": 3
   },
   "file_extension": ".py",
   "mimetype": "text/x-python",
   "name": "python",
   "nbconvert_exporter": "python",
   "pygments_lexer": "ipython3",
   "version": "3.7.3"
  }
 },
 "nbformat": 4,
 "nbformat_minor": 2
}
