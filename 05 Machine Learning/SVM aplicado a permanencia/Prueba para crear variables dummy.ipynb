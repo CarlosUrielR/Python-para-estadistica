{
 "cells": [
  {
   "cell_type": "code",
   "execution_count": 4,
   "metadata": {},
   "outputs": [
    {
     "data": {
      "text/plain": [
       "array(['B'], dtype='<U1')"
      ]
     },
     "execution_count": 4,
     "metadata": {},
     "output_type": "execute_result"
    }
   ],
   "source": [
    "from sklearn import svm\n",
    "X = [[0, 0], [1, 1],[2,3]]\n",
    "y = ['A', 'B','C']\n",
    "clf = svm.SVC(gamma=0.001, C=100.)\n",
    "clf.fit(X, y)  \n",
    "clf.predict([[2, 1]])"
   ]
  },
  {
   "cell_type": "code",
   "execution_count": 22,
   "metadata": {},
   "outputs": [
    {
     "data": {
      "text/plain": [
       "array([[1., 0., 0., 1.],\n",
       "       [1., 0., 1., 0.],\n",
       "       [0., 1., 0., 1.],\n",
       "       [0., 1., 1., 0.],\n",
       "       [1., 0., 0., 1.],\n",
       "       [1., 0., 1., 0.]])"
      ]
     },
     "execution_count": 22,
     "metadata": {},
     "output_type": "execute_result"
    }
   ],
   "source": [
    "from sklearn.preprocessing import OneHotEncoder\n",
    "\n",
    "enc = OneHotEncoder(handle_unknown='ignore')\n",
    "X = [['Male', 'salsa'], ['Female', 'rock'], ['Female', 'salsa']]\n",
    "enc.fit(X)\n",
    "\n",
    "n = [['Female', 'salsa'], ['Female', 'rock'], ['Male', 'salsa'], ['Male', 'rock'], ['Female', 'salsa'], ['Female', 'rock']]\n",
    "enc.transform(n).toarray()"
   ]
  },
  {
   "cell_type": "code",
   "execution_count": 25,
   "metadata": {},
   "outputs": [
    {
     "data": {
      "text/plain": [
       "array([2, 2, 1, 0, 1, 2, 2, 2], dtype=int64)"
      ]
     },
     "execution_count": 25,
     "metadata": {},
     "output_type": "execute_result"
    }
   ],
   "source": [
    "from sklearn import preprocessing\n",
    "le = preprocessing.LabelEncoder()\n",
    "le.fit([\"paris\", \"paris\", \"tokyo\", \"amsterdam\"])\n",
    "le.transform([\"tokyo\", \"tokyo\", \"paris\", \"amsterdam\", \"paris\", \"tokyo\", \"tokyo\", \"tokyo\"]) "
   ]
  },
  {
   "cell_type": "code",
   "execution_count": 36,
   "metadata": {},
   "outputs": [
    {
     "data": {
      "text/plain": [
       "DecisionTreeClassifier(class_weight=None, criterion='gini', max_depth=None,\n",
       "                       max_features=None, max_leaf_nodes=None,\n",
       "                       min_impurity_decrease=0.0, min_impurity_split=None,\n",
       "                       min_samples_leaf=1, min_samples_split=2,\n",
       "                       min_weight_fraction_leaf=0.0, presort=False,\n",
       "                       random_state=None, splitter='best')"
      ]
     },
     "execution_count": 36,
     "metadata": {},
     "output_type": "execute_result"
    }
   ],
   "source": [
    "import pandas as pd\n",
    "from sklearn.tree import DecisionTreeClassifier\n",
    "\n",
    "data = pd.DataFrame()\n",
    "data['x1'] = ['a','a','b','a']\n",
    "data['x2'] = ['b','b','a','b']\n",
    "data['x3'] = [0, 0, 1, 0]\n",
    "data['Class'] = ['n','n','y','n']\n",
    "\n",
    "tree = DecisionTreeClassifier()\n",
    "\n",
    "one_hot_data = pd.get_dummies(data[['x1','x2','x3']], drop_first=True)\n",
    "tree.fit(one_hot_data, data['Class'])"
   ]
  },
  {
   "cell_type": "code",
   "execution_count": 37,
   "metadata": {},
   "outputs": [
    {
     "name": "stdout",
     "output_type": "stream",
     "text": [
      "  x1 x2  x3 Class\n",
      "0  a  b   0     n\n",
      "1  a  b   0     n\n",
      "2  b  a   1     y\n",
      "3  a  b   0     n\n",
      "\n",
      "\n",
      "   x3  x1_b  x2_b\n",
      "0   0     0     1\n",
      "1   0     0     1\n",
      "2   1     1     0\n",
      "3   0     0     1\n"
     ]
    }
   ],
   "source": [
    "print(data)\n",
    "print('\\n')\n",
    "print(one_hot_data)"
   ]
  }
 ],
 "metadata": {
  "kernelspec": {
   "display_name": "Python 3",
   "language": "python",
   "name": "python3"
  },
  "language_info": {
   "codemirror_mode": {
    "name": "ipython",
    "version": 3
   },
   "file_extension": ".py",
   "mimetype": "text/x-python",
   "name": "python",
   "nbconvert_exporter": "python",
   "pygments_lexer": "ipython3",
   "version": "3.7.3"
  }
 },
 "nbformat": 4,
 "nbformat_minor": 2
}
