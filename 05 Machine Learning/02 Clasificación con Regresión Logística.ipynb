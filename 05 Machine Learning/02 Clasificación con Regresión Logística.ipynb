{
 "cells": [
  {
   "cell_type": "markdown",
   "metadata": {},
   "source": [
    "# Ejemplo de Regresión Logística\n",
    "<img src=\"https://raw.githubusercontent.com/fhernanb/fhernanb.github.io/master/docs/logo_unal_color.png\" alt=\"drawing\" width=\"200\"/>"
   ]
  },
  {
   "cell_type": "markdown",
   "metadata": {},
   "source": [
    "# Objetivo\n",
    "En este ejemplo se busca crear un clasificador para saber si una persona sobrevive o no en el naufragio del Titanic.\n",
    "\n",
    "<img src=\"https://raw.githubusercontent.com/fhernanb/Python-para-estadistica/master/imagenes/titanic.png\" alt=\"drawing\" width=\"900\">"
   ]
  },
  {
   "cell_type": "code",
   "execution_count": 1,
   "metadata": {},
   "outputs": [],
   "source": [
    "import pandas as pd  # Librería con las funciones read_table y read_csv\n",
    "from sklearn.model_selection import train_test_split\n",
    "from sklearn.datasets import load_iris\n",
    "from sklearn.linear_model import LogisticRegression"
   ]
  },
  {
   "cell_type": "code",
   "execution_count": 2,
   "metadata": {},
   "outputs": [
    {
     "data": {
      "text/html": [
       "<div>\n",
       "<style scoped>\n",
       "    .dataframe tbody tr th:only-of-type {\n",
       "        vertical-align: middle;\n",
       "    }\n",
       "\n",
       "    .dataframe tbody tr th {\n",
       "        vertical-align: top;\n",
       "    }\n",
       "\n",
       "    .dataframe thead th {\n",
       "        text-align: right;\n",
       "    }\n",
       "</style>\n",
       "<table border=\"1\" class=\"dataframe\">\n",
       "  <thead>\n",
       "    <tr style=\"text-align: right;\">\n",
       "      <th></th>\n",
       "      <th>Survived</th>\n",
       "      <th>Pclass</th>\n",
       "      <th>Name</th>\n",
       "      <th>Sex</th>\n",
       "      <th>Age</th>\n",
       "      <th>Siblings/Spouses Aboard</th>\n",
       "      <th>Parents/Children Aboard</th>\n",
       "      <th>Fare</th>\n",
       "    </tr>\n",
       "  </thead>\n",
       "  <tbody>\n",
       "    <tr>\n",
       "      <th>0</th>\n",
       "      <td>0</td>\n",
       "      <td>3</td>\n",
       "      <td>Mr. Owen Harris Braund</td>\n",
       "      <td>male</td>\n",
       "      <td>22.0</td>\n",
       "      <td>1</td>\n",
       "      <td>0</td>\n",
       "      <td>7.2500</td>\n",
       "    </tr>\n",
       "    <tr>\n",
       "      <th>1</th>\n",
       "      <td>1</td>\n",
       "      <td>1</td>\n",
       "      <td>Mrs. John Bradley (Florence Briggs Thayer) Cum...</td>\n",
       "      <td>female</td>\n",
       "      <td>38.0</td>\n",
       "      <td>1</td>\n",
       "      <td>0</td>\n",
       "      <td>71.2833</td>\n",
       "    </tr>\n",
       "    <tr>\n",
       "      <th>2</th>\n",
       "      <td>1</td>\n",
       "      <td>3</td>\n",
       "      <td>Miss. Laina Heikkinen</td>\n",
       "      <td>female</td>\n",
       "      <td>26.0</td>\n",
       "      <td>0</td>\n",
       "      <td>0</td>\n",
       "      <td>7.9250</td>\n",
       "    </tr>\n",
       "    <tr>\n",
       "      <th>3</th>\n",
       "      <td>1</td>\n",
       "      <td>1</td>\n",
       "      <td>Mrs. Jacques Heath (Lily May Peel) Futrelle</td>\n",
       "      <td>female</td>\n",
       "      <td>35.0</td>\n",
       "      <td>1</td>\n",
       "      <td>0</td>\n",
       "      <td>53.1000</td>\n",
       "    </tr>\n",
       "    <tr>\n",
       "      <th>4</th>\n",
       "      <td>0</td>\n",
       "      <td>3</td>\n",
       "      <td>Mr. William Henry Allen</td>\n",
       "      <td>male</td>\n",
       "      <td>35.0</td>\n",
       "      <td>0</td>\n",
       "      <td>0</td>\n",
       "      <td>8.0500</td>\n",
       "    </tr>\n",
       "  </tbody>\n",
       "</table>\n",
       "</div>"
      ],
      "text/plain": [
       "   Survived  Pclass                                               Name  \\\n",
       "0         0       3                             Mr. Owen Harris Braund   \n",
       "1         1       1  Mrs. John Bradley (Florence Briggs Thayer) Cum...   \n",
       "2         1       3                              Miss. Laina Heikkinen   \n",
       "3         1       1        Mrs. Jacques Heath (Lily May Peel) Futrelle   \n",
       "4         0       3                            Mr. William Henry Allen   \n",
       "\n",
       "      Sex   Age  Siblings/Spouses Aboard  Parents/Children Aboard     Fare  \n",
       "0    male  22.0                        1                        0   7.2500  \n",
       "1  female  38.0                        1                        0  71.2833  \n",
       "2  female  26.0                        0                        0   7.9250  \n",
       "3  female  35.0                        1                        0  53.1000  \n",
       "4    male  35.0                        0                        0   8.0500  "
      ]
     },
     "execution_count": 2,
     "metadata": {},
     "output_type": "execute_result"
    }
   ],
   "source": [
    "dt = pd.read_csv(\"titanic.csv\", sep=\",\")\n",
    "dt.head()"
   ]
  },
  {
   "cell_type": "code",
   "execution_count": 3,
   "metadata": {},
   "outputs": [
    {
     "data": {
      "text/html": [
       "<div>\n",
       "<style scoped>\n",
       "    .dataframe tbody tr th:only-of-type {\n",
       "        vertical-align: middle;\n",
       "    }\n",
       "\n",
       "    .dataframe tbody tr th {\n",
       "        vertical-align: top;\n",
       "    }\n",
       "\n",
       "    .dataframe thead th {\n",
       "        text-align: right;\n",
       "    }\n",
       "</style>\n",
       "<table border=\"1\" class=\"dataframe\">\n",
       "  <thead>\n",
       "    <tr style=\"text-align: right;\">\n",
       "      <th></th>\n",
       "      <th>Survived</th>\n",
       "      <th>Pclass</th>\n",
       "      <th>Name</th>\n",
       "      <th>Sex</th>\n",
       "      <th>Age</th>\n",
       "      <th>Siblings/Spouses Aboard</th>\n",
       "      <th>Parents/Children Aboard</th>\n",
       "      <th>Fare</th>\n",
       "      <th>1</th>\n",
       "      <th>2</th>\n",
       "      <th>3</th>\n",
       "    </tr>\n",
       "  </thead>\n",
       "  <tbody>\n",
       "    <tr>\n",
       "      <th>0</th>\n",
       "      <td>0</td>\n",
       "      <td>3</td>\n",
       "      <td>Mr. Owen Harris Braund</td>\n",
       "      <td>male</td>\n",
       "      <td>22.0</td>\n",
       "      <td>1</td>\n",
       "      <td>0</td>\n",
       "      <td>7.2500</td>\n",
       "      <td>0</td>\n",
       "      <td>0</td>\n",
       "      <td>1</td>\n",
       "    </tr>\n",
       "    <tr>\n",
       "      <th>1</th>\n",
       "      <td>1</td>\n",
       "      <td>1</td>\n",
       "      <td>Mrs. John Bradley (Florence Briggs Thayer) Cum...</td>\n",
       "      <td>female</td>\n",
       "      <td>38.0</td>\n",
       "      <td>1</td>\n",
       "      <td>0</td>\n",
       "      <td>71.2833</td>\n",
       "      <td>1</td>\n",
       "      <td>0</td>\n",
       "      <td>0</td>\n",
       "    </tr>\n",
       "    <tr>\n",
       "      <th>2</th>\n",
       "      <td>1</td>\n",
       "      <td>3</td>\n",
       "      <td>Miss. Laina Heikkinen</td>\n",
       "      <td>female</td>\n",
       "      <td>26.0</td>\n",
       "      <td>0</td>\n",
       "      <td>0</td>\n",
       "      <td>7.9250</td>\n",
       "      <td>0</td>\n",
       "      <td>0</td>\n",
       "      <td>1</td>\n",
       "    </tr>\n",
       "    <tr>\n",
       "      <th>3</th>\n",
       "      <td>1</td>\n",
       "      <td>1</td>\n",
       "      <td>Mrs. Jacques Heath (Lily May Peel) Futrelle</td>\n",
       "      <td>female</td>\n",
       "      <td>35.0</td>\n",
       "      <td>1</td>\n",
       "      <td>0</td>\n",
       "      <td>53.1000</td>\n",
       "      <td>1</td>\n",
       "      <td>0</td>\n",
       "      <td>0</td>\n",
       "    </tr>\n",
       "    <tr>\n",
       "      <th>4</th>\n",
       "      <td>0</td>\n",
       "      <td>3</td>\n",
       "      <td>Mr. William Henry Allen</td>\n",
       "      <td>male</td>\n",
       "      <td>35.0</td>\n",
       "      <td>0</td>\n",
       "      <td>0</td>\n",
       "      <td>8.0500</td>\n",
       "      <td>0</td>\n",
       "      <td>0</td>\n",
       "      <td>1</td>\n",
       "    </tr>\n",
       "  </tbody>\n",
       "</table>\n",
       "</div>"
      ],
      "text/plain": [
       "   Survived  Pclass                                               Name  \\\n",
       "0         0       3                             Mr. Owen Harris Braund   \n",
       "1         1       1  Mrs. John Bradley (Florence Briggs Thayer) Cum...   \n",
       "2         1       3                              Miss. Laina Heikkinen   \n",
       "3         1       1        Mrs. Jacques Heath (Lily May Peel) Futrelle   \n",
       "4         0       3                            Mr. William Henry Allen   \n",
       "\n",
       "      Sex   Age  Siblings/Spouses Aboard  Parents/Children Aboard     Fare  1  \\\n",
       "0    male  22.0                        1                        0   7.2500  0   \n",
       "1  female  38.0                        1                        0  71.2833  1   \n",
       "2  female  26.0                        0                        0   7.9250  0   \n",
       "3  female  35.0                        1                        0  53.1000  1   \n",
       "4    male  35.0                        0                        0   8.0500  0   \n",
       "\n",
       "   2  3  \n",
       "0  0  1  \n",
       "1  0  0  \n",
       "2  0  1  \n",
       "3  0  0  \n",
       "4  0  1  "
      ]
     },
     "execution_count": 3,
     "metadata": {},
     "output_type": "execute_result"
    }
   ],
   "source": [
    "dt_pclass = pd.get_dummies(dt['Pclass'])\n",
    "dt_new = pd.concat([dt, dt_pclass], axis=1)\n",
    "dt_new.head()"
   ]
  },
  {
   "cell_type": "code",
   "execution_count": 4,
   "metadata": {},
   "outputs": [
    {
     "data": {
      "text/html": [
       "<div>\n",
       "<style scoped>\n",
       "    .dataframe tbody tr th:only-of-type {\n",
       "        vertical-align: middle;\n",
       "    }\n",
       "\n",
       "    .dataframe tbody tr th {\n",
       "        vertical-align: top;\n",
       "    }\n",
       "\n",
       "    .dataframe thead th {\n",
       "        text-align: right;\n",
       "    }\n",
       "</style>\n",
       "<table border=\"1\" class=\"dataframe\">\n",
       "  <thead>\n",
       "    <tr style=\"text-align: right;\">\n",
       "      <th></th>\n",
       "      <th>Survived</th>\n",
       "      <th>Pclass</th>\n",
       "      <th>Name</th>\n",
       "      <th>Sex</th>\n",
       "      <th>Age</th>\n",
       "      <th>Siblings/Spouses Aboard</th>\n",
       "      <th>Parents/Children Aboard</th>\n",
       "      <th>Fare</th>\n",
       "      <th>1</th>\n",
       "      <th>2</th>\n",
       "      <th>3</th>\n",
       "      <th>female</th>\n",
       "      <th>male</th>\n",
       "    </tr>\n",
       "  </thead>\n",
       "  <tbody>\n",
       "    <tr>\n",
       "      <th>0</th>\n",
       "      <td>0</td>\n",
       "      <td>3</td>\n",
       "      <td>Mr. Owen Harris Braund</td>\n",
       "      <td>male</td>\n",
       "      <td>22.0</td>\n",
       "      <td>1</td>\n",
       "      <td>0</td>\n",
       "      <td>7.2500</td>\n",
       "      <td>0</td>\n",
       "      <td>0</td>\n",
       "      <td>1</td>\n",
       "      <td>0</td>\n",
       "      <td>1</td>\n",
       "    </tr>\n",
       "    <tr>\n",
       "      <th>1</th>\n",
       "      <td>1</td>\n",
       "      <td>1</td>\n",
       "      <td>Mrs. John Bradley (Florence Briggs Thayer) Cum...</td>\n",
       "      <td>female</td>\n",
       "      <td>38.0</td>\n",
       "      <td>1</td>\n",
       "      <td>0</td>\n",
       "      <td>71.2833</td>\n",
       "      <td>1</td>\n",
       "      <td>0</td>\n",
       "      <td>0</td>\n",
       "      <td>1</td>\n",
       "      <td>0</td>\n",
       "    </tr>\n",
       "    <tr>\n",
       "      <th>2</th>\n",
       "      <td>1</td>\n",
       "      <td>3</td>\n",
       "      <td>Miss. Laina Heikkinen</td>\n",
       "      <td>female</td>\n",
       "      <td>26.0</td>\n",
       "      <td>0</td>\n",
       "      <td>0</td>\n",
       "      <td>7.9250</td>\n",
       "      <td>0</td>\n",
       "      <td>0</td>\n",
       "      <td>1</td>\n",
       "      <td>1</td>\n",
       "      <td>0</td>\n",
       "    </tr>\n",
       "    <tr>\n",
       "      <th>3</th>\n",
       "      <td>1</td>\n",
       "      <td>1</td>\n",
       "      <td>Mrs. Jacques Heath (Lily May Peel) Futrelle</td>\n",
       "      <td>female</td>\n",
       "      <td>35.0</td>\n",
       "      <td>1</td>\n",
       "      <td>0</td>\n",
       "      <td>53.1000</td>\n",
       "      <td>1</td>\n",
       "      <td>0</td>\n",
       "      <td>0</td>\n",
       "      <td>1</td>\n",
       "      <td>0</td>\n",
       "    </tr>\n",
       "    <tr>\n",
       "      <th>4</th>\n",
       "      <td>0</td>\n",
       "      <td>3</td>\n",
       "      <td>Mr. William Henry Allen</td>\n",
       "      <td>male</td>\n",
       "      <td>35.0</td>\n",
       "      <td>0</td>\n",
       "      <td>0</td>\n",
       "      <td>8.0500</td>\n",
       "      <td>0</td>\n",
       "      <td>0</td>\n",
       "      <td>1</td>\n",
       "      <td>0</td>\n",
       "      <td>1</td>\n",
       "    </tr>\n",
       "  </tbody>\n",
       "</table>\n",
       "</div>"
      ],
      "text/plain": [
       "   Survived  Pclass                                               Name  \\\n",
       "0         0       3                             Mr. Owen Harris Braund   \n",
       "1         1       1  Mrs. John Bradley (Florence Briggs Thayer) Cum...   \n",
       "2         1       3                              Miss. Laina Heikkinen   \n",
       "3         1       1        Mrs. Jacques Heath (Lily May Peel) Futrelle   \n",
       "4         0       3                            Mr. William Henry Allen   \n",
       "\n",
       "      Sex   Age  Siblings/Spouses Aboard  Parents/Children Aboard     Fare  1  \\\n",
       "0    male  22.0                        1                        0   7.2500  0   \n",
       "1  female  38.0                        1                        0  71.2833  1   \n",
       "2  female  26.0                        0                        0   7.9250  0   \n",
       "3  female  35.0                        1                        0  53.1000  1   \n",
       "4    male  35.0                        0                        0   8.0500  0   \n",
       "\n",
       "   2  3  female  male  \n",
       "0  0  1       0     1  \n",
       "1  0  0       1     0  \n",
       "2  0  1       1     0  \n",
       "3  0  0       1     0  \n",
       "4  0  1       0     1  "
      ]
     },
     "execution_count": 4,
     "metadata": {},
     "output_type": "execute_result"
    }
   ],
   "source": [
    "dtnew_sex = pd.get_dummies(dt['Sex'])\n",
    "dt_new = pd.concat([dt_new, dtnew_sex], axis=1)\n",
    "dt_new.head()"
   ]
  },
  {
   "cell_type": "markdown",
   "metadata": {},
   "source": [
    "## Creación de los datos de entrenamiento (train) y de validación (test)\n",
    "Para particionar los datos originales se usa la función `train_test_split`, para mayores detalles se recomienda consultar los parámetros de la función se recomienda consultar este [enlace](http://scikit-learn.org/stable/modules/generated/sklearn.model_selection.train_test_split.html)"
   ]
  },
  {
   "cell_type": "code",
   "execution_count": 5,
   "metadata": {},
   "outputs": [],
   "source": [
    "datos = dt_new[[2, 3, 'male', 'Age', 'Fare']]\n",
    "respuesta = dt_new['Survived']\n",
    "X_train, X_test, y_train, y_test = train_test_split(datos, respuesta, test_size=0.25)"
   ]
  },
  {
   "cell_type": "markdown",
   "metadata": {},
   "source": [
    "# Regresión logística usando `sklearn`"
   ]
  },
  {
   "cell_type": "code",
   "execution_count": 6,
   "metadata": {},
   "outputs": [
    {
     "data": {
      "text/plain": [
       "LogisticRegression(C=1.0, class_weight=None, dual=False, fit_intercept=True,\n",
       "          intercept_scaling=1, max_iter=100, multi_class='multinomial',\n",
       "          n_jobs=1, penalty='l2', random_state=0, solver='lbfgs',\n",
       "          tol=0.0001, verbose=0, warm_start=False)"
      ]
     },
     "execution_count": 6,
     "metadata": {},
     "output_type": "execute_result"
    }
   ],
   "source": [
    "mod = LogisticRegression(random_state=0, solver='lbfgs', multi_class='multinomial').fit(X_train, y_train)\n",
    "mod"
   ]
  },
  {
   "cell_type": "code",
   "execution_count": 7,
   "metadata": {},
   "outputs": [
    {
     "data": {
      "text/plain": [
       "{'C': 1.0,\n",
       " 'class_weight': None,\n",
       " 'dual': False,\n",
       " 'fit_intercept': True,\n",
       " 'intercept_scaling': 1,\n",
       " 'max_iter': 100,\n",
       " 'multi_class': 'multinomial',\n",
       " 'n_jobs': 1,\n",
       " 'penalty': 'l2',\n",
       " 'random_state': 0,\n",
       " 'solver': 'lbfgs',\n",
       " 'tol': 0.0001,\n",
       " 'verbose': 0,\n",
       " 'warm_start': False}"
      ]
     },
     "execution_count": 7,
     "metadata": {},
     "output_type": "execute_result"
    }
   ],
   "source": [
    "mod.get_params()"
   ]
  },
  {
   "cell_type": "code",
   "execution_count": 8,
   "metadata": {},
   "outputs": [
    {
     "data": {
      "text/plain": [
       "array([0, 0, 0, 0, 1, 0, 0, 0, 0, 1, 0, 0, 0, 0], dtype=int64)"
      ]
     },
     "execution_count": 8,
     "metadata": {},
     "output_type": "execute_result"
    }
   ],
   "source": [
    "mod.predict(X_train)[0:14]"
   ]
  },
  {
   "cell_type": "code",
   "execution_count": 9,
   "metadata": {},
   "outputs": [
    {
     "data": {
      "text/plain": [
       "array([1, 0, 0, 1, 0, 1, 0, 1, 1, 0, 0, 1, 0, 1], dtype=int64)"
      ]
     },
     "execution_count": 9,
     "metadata": {},
     "output_type": "execute_result"
    }
   ],
   "source": [
    "mod.predict(X_test)[0:14]"
   ]
  },
  {
   "cell_type": "code",
   "execution_count": 10,
   "metadata": {},
   "outputs": [
    {
     "data": {
      "text/plain": [
       "array([[0.77517676, 0.22482324],\n",
       "       [0.71468786, 0.28531214],\n",
       "       [0.73470519, 0.26529481],\n",
       "       ...,\n",
       "       [0.43880954, 0.56119046],\n",
       "       [0.67515343, 0.32484657],\n",
       "       [0.78153304, 0.21846696]])"
      ]
     },
     "execution_count": 10,
     "metadata": {},
     "output_type": "execute_result"
    }
   ],
   "source": [
    "mod.predict_proba(X_train)"
   ]
  },
  {
   "cell_type": "code",
   "execution_count": 11,
   "metadata": {},
   "outputs": [
    {
     "data": {
      "text/plain": [
       "array([[0.37809001, 0.62190999],\n",
       "       [0.75206657, 0.24793343],\n",
       "       [0.5180465 , 0.4819535 ],\n",
       "       [0.41870855, 0.58129145],\n",
       "       [0.73810861, 0.26189139],\n",
       "       [0.429638  , 0.570362  ],\n",
       "       [0.63798494, 0.36201506],\n",
       "       [0.47183963, 0.52816037],\n",
       "       [0.40414233, 0.59585767],\n",
       "       [0.75205909, 0.24794091],\n",
       "       [0.76026119, 0.23973881],\n",
       "       [0.18089323, 0.81910677],\n",
       "       [0.63318162, 0.36681838],\n",
       "       [0.22348295, 0.77651705],\n",
       "       [0.7621709 , 0.2378291 ],\n",
       "       [0.16813571, 0.83186429],\n",
       "       [0.65963331, 0.34036669],\n",
       "       [0.84269732, 0.15730268],\n",
       "       [0.19600784, 0.80399216],\n",
       "       [0.4539221 , 0.5460779 ],\n",
       "       [0.83516424, 0.16483576],\n",
       "       [0.26573373, 0.73426627],\n",
       "       [0.23459814, 0.76540186],\n",
       "       [0.7784048 , 0.2215952 ],\n",
       "       [0.73084488, 0.26915512],\n",
       "       [0.7311363 , 0.2688637 ],\n",
       "       [0.6995819 , 0.3004181 ],\n",
       "       [0.42524281, 0.57475719],\n",
       "       [0.74531555, 0.25468445],\n",
       "       [0.53422567, 0.46577433],\n",
       "       [0.77522715, 0.22477285],\n",
       "       [0.76102093, 0.23897907],\n",
       "       [0.76547586, 0.23452414],\n",
       "       [0.77342229, 0.22657771],\n",
       "       [0.58707828, 0.41292172],\n",
       "       [0.75553218, 0.24446782],\n",
       "       [0.75388322, 0.24611678],\n",
       "       [0.31171961, 0.68828039],\n",
       "       [0.44253394, 0.55746606],\n",
       "       [0.66080891, 0.33919109],\n",
       "       [0.73455016, 0.26544984],\n",
       "       [0.75883112, 0.24116888],\n",
       "       [0.54818548, 0.45181452],\n",
       "       [0.465098  , 0.534902  ],\n",
       "       [0.75357394, 0.24642606],\n",
       "       [0.74167229, 0.25832771],\n",
       "       [0.8590852 , 0.1409148 ],\n",
       "       [0.74869366, 0.25130634],\n",
       "       [0.74516838, 0.25483162],\n",
       "       [0.35288183, 0.64711817],\n",
       "       [0.61895294, 0.38104706],\n",
       "       [0.28144627, 0.71855373],\n",
       "       [0.75885243, 0.24114757],\n",
       "       [0.32305546, 0.67694454],\n",
       "       [0.4127621 , 0.5872379 ],\n",
       "       [0.19517374, 0.80482626],\n",
       "       [0.34959428, 0.65040572],\n",
       "       [0.69050728, 0.30949272],\n",
       "       [0.68097561, 0.31902439],\n",
       "       [0.25009181, 0.74990819],\n",
       "       [0.82493326, 0.17506674],\n",
       "       [0.36080003, 0.63919997],\n",
       "       [0.51895127, 0.48104873],\n",
       "       [0.55461243, 0.44538757],\n",
       "       [0.34532233, 0.65467767],\n",
       "       [0.54211656, 0.45788344],\n",
       "       [0.77199254, 0.22800746],\n",
       "       [0.74025777, 0.25974223],\n",
       "       [0.76872382, 0.23127618],\n",
       "       [0.51007678, 0.48992322],\n",
       "       [0.36716743, 0.63283257],\n",
       "       [0.74582315, 0.25417685],\n",
       "       [0.8326255 , 0.1673745 ],\n",
       "       [0.38604452, 0.61395548],\n",
       "       [0.77531461, 0.22468539],\n",
       "       [0.75894502, 0.24105498],\n",
       "       [0.43867374, 0.56132626],\n",
       "       [0.80273962, 0.19726038],\n",
       "       [0.76547586, 0.23452414],\n",
       "       [0.38876445, 0.61123555],\n",
       "       [0.19973682, 0.80026318],\n",
       "       [0.74163613, 0.25836387],\n",
       "       [0.81113152, 0.18886848],\n",
       "       [0.75639851, 0.24360149],\n",
       "       [0.50008245, 0.49991755],\n",
       "       [0.58342611, 0.41657389],\n",
       "       [0.80745423, 0.19254577],\n",
       "       [0.60786058, 0.39213942],\n",
       "       [0.44354308, 0.55645692],\n",
       "       [0.51568651, 0.48431349],\n",
       "       [0.50500915, 0.49499085],\n",
       "       [0.7554335 , 0.2445665 ],\n",
       "       [0.83529634, 0.16470366],\n",
       "       [0.49950162, 0.50049838],\n",
       "       [0.74522405, 0.25477595],\n",
       "       [0.30270292, 0.69729708],\n",
       "       [0.82093077, 0.17906923],\n",
       "       [0.77199254, 0.22800746],\n",
       "       [0.38085683, 0.61914317],\n",
       "       [0.23042547, 0.76957453],\n",
       "       [0.80263657, 0.19736343],\n",
       "       [0.78152139, 0.21847861],\n",
       "       [0.47831108, 0.52168892],\n",
       "       [0.7554335 , 0.2445665 ],\n",
       "       [0.58707828, 0.41292172],\n",
       "       [0.24667011, 0.75332989],\n",
       "       [0.72055044, 0.27944956],\n",
       "       [0.41625319, 0.58374681],\n",
       "       [0.42964391, 0.57035609],\n",
       "       [0.50900484, 0.49099516],\n",
       "       [0.62462667, 0.37537333],\n",
       "       [0.67227083, 0.32772917],\n",
       "       [0.78769571, 0.21230429],\n",
       "       [0.29031788, 0.70968212],\n",
       "       [0.73450317, 0.26549683],\n",
       "       [0.40802284, 0.59197716],\n",
       "       [0.81675252, 0.18324748],\n",
       "       [0.48396571, 0.51603429],\n",
       "       [0.34494109, 0.65505891],\n",
       "       [0.69132484, 0.30867516],\n",
       "       [0.50263927, 0.49736073],\n",
       "       [0.75182011, 0.24817989],\n",
       "       [0.23585198, 0.76414802],\n",
       "       [0.60290634, 0.39709366],\n",
       "       [0.74506237, 0.25493763],\n",
       "       [0.48079125, 0.51920875],\n",
       "       [0.5151689 , 0.4848311 ],\n",
       "       [0.16437646, 0.83562354],\n",
       "       [0.4119252 , 0.5880748 ],\n",
       "       [0.76557678, 0.23442322],\n",
       "       [0.73114971, 0.26885029],\n",
       "       [0.67745437, 0.32254563],\n",
       "       [0.78667033, 0.21332967],\n",
       "       [0.52742742, 0.47257258],\n",
       "       [0.4756702 , 0.5243298 ],\n",
       "       [0.44319193, 0.55680807],\n",
       "       [0.18889682, 0.81110318],\n",
       "       [0.61689589, 0.38310411],\n",
       "       [0.32894083, 0.67105917],\n",
       "       [0.81673449, 0.18326551],\n",
       "       [0.28386974, 0.71613026],\n",
       "       [0.24208427, 0.75791573],\n",
       "       [0.752555  , 0.247445  ],\n",
       "       [0.73484217, 0.26515783],\n",
       "       [0.7996031 , 0.2003969 ],\n",
       "       [0.6771963 , 0.3228037 ],\n",
       "       [0.77319862, 0.22680138],\n",
       "       [0.32530863, 0.67469137],\n",
       "       [0.73816838, 0.26183162],\n",
       "       [0.44319193, 0.55680807],\n",
       "       [0.50454401, 0.49545599],\n",
       "       [0.82748139, 0.17251861],\n",
       "       [0.46251125, 0.53748875],\n",
       "       [0.75517518, 0.24482482],\n",
       "       [0.73808843, 0.26191157],\n",
       "       [0.84620718, 0.15379282],\n",
       "       [0.64143515, 0.35856485],\n",
       "       [0.62462667, 0.37537333],\n",
       "       [0.56919939, 0.43080061],\n",
       "       [0.70665265, 0.29334735],\n",
       "       [0.44768875, 0.55231125],\n",
       "       [0.77195577, 0.22804423],\n",
       "       [0.52419758, 0.47580242],\n",
       "       [0.32894083, 0.67105917],\n",
       "       [0.63026639, 0.36973361],\n",
       "       [0.74021297, 0.25978703],\n",
       "       [0.22163123, 0.77836877],\n",
       "       [0.74876543, 0.25123457],\n",
       "       [0.76102165, 0.23897835],\n",
       "       [0.40734607, 0.59265393],\n",
       "       [0.67058863, 0.32941137],\n",
       "       [0.43964785, 0.56035215],\n",
       "       [0.78437813, 0.21562187],\n",
       "       [0.54663869, 0.45336131],\n",
       "       [0.55113824, 0.44886176],\n",
       "       [0.80698184, 0.19301816],\n",
       "       [0.68782302, 0.31217698],\n",
       "       [0.59315874, 0.40684126],\n",
       "       [0.56197732, 0.43802268],\n",
       "       [0.17406733, 0.82593267],\n",
       "       [0.46132655, 0.53867345],\n",
       "       [0.76875025, 0.23124975],\n",
       "       [0.59001475, 0.40998525],\n",
       "       [0.68011382, 0.31988618],\n",
       "       [0.88539105, 0.11460895],\n",
       "       [0.42277005, 0.57722995],\n",
       "       [0.18926174, 0.81073826],\n",
       "       [0.44877011, 0.55122989],\n",
       "       [0.76031778, 0.23968222],\n",
       "       [0.73458696, 0.26541304],\n",
       "       [0.6241642 , 0.3758358 ],\n",
       "       [0.36074132, 0.63925868],\n",
       "       [0.59771   , 0.40229   ],\n",
       "       [0.76216945, 0.23783055],\n",
       "       [0.59420022, 0.40579978],\n",
       "       [0.40710981, 0.59289019],\n",
       "       [0.48869692, 0.51130308],\n",
       "       [0.79090412, 0.20909588],\n",
       "       [0.84411867, 0.15588133],\n",
       "       [0.46653673, 0.53346327],\n",
       "       [0.30065687, 0.69934313],\n",
       "       [0.42360433, 0.57639567],\n",
       "       [0.74165921, 0.25834079],\n",
       "       [0.77531461, 0.22468539],\n",
       "       [0.67058863, 0.32941137],\n",
       "       [0.73459794, 0.26540206],\n",
       "       [0.76534316, 0.23465684],\n",
       "       [0.79378564, 0.20621436],\n",
       "       [0.62947647, 0.37052353],\n",
       "       [0.40075351, 0.59924649],\n",
       "       [0.78152139, 0.21847861],\n",
       "       [0.46582989, 0.53417011],\n",
       "       [0.78463954, 0.21536046],\n",
       "       [0.46887642, 0.53112358],\n",
       "       [0.356794  , 0.643206  ],\n",
       "       [0.57617673, 0.42382327],\n",
       "       [0.74874654, 0.25125346],\n",
       "       [0.18037469, 0.81962531],\n",
       "       [0.73084488, 0.26915512],\n",
       "       [0.74238113, 0.25761887],\n",
       "       [0.60210892, 0.39789108],\n",
       "       [0.67866128, 0.32133872]])"
      ]
     },
     "execution_count": 11,
     "metadata": {},
     "output_type": "execute_result"
    }
   ],
   "source": [
    "mod.predict_proba(X_test)"
   ]
  },
  {
   "cell_type": "code",
   "execution_count": 12,
   "metadata": {},
   "outputs": [
    {
     "data": {
      "text/plain": [
       "0.8135338345864662"
      ]
     },
     "execution_count": 12,
     "metadata": {},
     "output_type": "execute_result"
    }
   ],
   "source": [
    "mod.score(X_train, y_train)"
   ]
  },
  {
   "cell_type": "code",
   "execution_count": 13,
   "metadata": {},
   "outputs": [
    {
     "data": {
      "text/plain": [
       "0.7612612612612613"
      ]
     },
     "execution_count": 13,
     "metadata": {},
     "output_type": "execute_result"
    }
   ],
   "source": [
    "mod.score(X_test, y_test)"
   ]
  },
  {
   "cell_type": "markdown",
   "metadata": {},
   "source": [
    "# Regresión logística usando `statsmodels`"
   ]
  },
  {
   "cell_type": "code",
   "execution_count": 22,
   "metadata": {},
   "outputs": [
    {
     "name": "stdout",
     "output_type": "stream",
     "text": [
      "Optimization terminated successfully.\n",
      "         Current function value: 0.482121\n",
      "         Iterations 6\n",
      "                        Results: Logit\n",
      "===============================================================\n",
      "Model:              Logit            No. Iterations:   6.0000  \n",
      "Dependent Variable: Survived         Pseudo R-squared: 0.277   \n",
      "Date:               2018-10-04 07:36 AIC:              651.2204\n",
      "No. Observations:   665              BIC:              673.7193\n",
      "Df Model:           4                Log-Likelihood:   -320.61 \n",
      "Df Residuals:       660              LL-Null:          -443.18 \n",
      "Converged:          1.0000           Scale:            1.0000  \n",
      "-----------------------------------------------------------------\n",
      "        Coef.    Std.Err.      z       P>|z|     [0.025    0.975]\n",
      "-----------------------------------------------------------------\n",
      "2       0.6824     0.2370     2.8798   0.0040    0.2180    1.1469\n",
      "3      -0.1548     0.1798    -0.8608   0.3894   -0.5071    0.1976\n",
      "male   -2.2384     0.1982   -11.2916   0.0000   -2.6269   -1.8498\n",
      "Age     0.0061     0.0056     1.0964   0.2729   -0.0048    0.0171\n",
      "Fare    0.0142     0.0028     5.1182   0.0000    0.0087    0.0196\n",
      "===============================================================\n",
      "\n"
     ]
    }
   ],
   "source": [
    "import statsmodels.api as sm\n",
    "import statsmodels.formula.api as smf\n",
    "import numpy as np\n",
    "\n",
    "logit_model = sm.Logit(y_train, X_train)\n",
    "result = logit_model.fit()\n",
    "print(result.summary2())"
   ]
  },
  {
   "cell_type": "code",
   "execution_count": 23,
   "metadata": {},
   "outputs": [
    {
     "data": {
      "text/html": [
       "<table class=\"simpletable\">\n",
       "<tr>\n",
       "        <td>Model:</td>              <td>Logit</td>       <td>No. Iterations:</td>   <td>6.0000</td> \n",
       "</tr>\n",
       "<tr>\n",
       "  <td>Dependent Variable:</td>     <td>Survived</td>     <td>Pseudo R-squared:</td>   <td>0.277</td> \n",
       "</tr>\n",
       "<tr>\n",
       "         <td>Date:</td>        <td>2018-10-04 07:36</td>       <td>AIC:</td>        <td>651.2204</td>\n",
       "</tr>\n",
       "<tr>\n",
       "   <td>No. Observations:</td>         <td>665</td>             <td>BIC:</td>        <td>673.7193</td>\n",
       "</tr>\n",
       "<tr>\n",
       "       <td>Df Model:</td>              <td>4</td>         <td>Log-Likelihood:</td>   <td>-320.61</td>\n",
       "</tr>\n",
       "<tr>\n",
       "     <td>Df Residuals:</td>           <td>660</td>           <td>LL-Null:</td>       <td>-443.18</td>\n",
       "</tr>\n",
       "<tr>\n",
       "      <td>Converged:</td>           <td>1.0000</td>           <td>Scale:</td>        <td>1.0000</td> \n",
       "</tr>\n",
       "</table>\n",
       "<table class=\"simpletable\">\n",
       "<tr>\n",
       "    <td></td>    <th>Coef.</th>  <th>Std.Err.</th>     <th>z</th>     <th>P>|z|</th> <th>[0.025</th>  <th>0.975]</th> \n",
       "</tr>\n",
       "<tr>\n",
       "  <th>2</th>    <td>0.6824</td>   <td>0.2370</td>   <td>2.8798</td>  <td>0.0040</td> <td>0.2180</td>  <td>1.1469</td> \n",
       "</tr>\n",
       "<tr>\n",
       "  <th>3</th>    <td>-0.1548</td>  <td>0.1798</td>   <td>-0.8608</td> <td>0.3894</td> <td>-0.5071</td> <td>0.1976</td> \n",
       "</tr>\n",
       "<tr>\n",
       "  <th>male</th> <td>-2.2384</td>  <td>0.1982</td>  <td>-11.2916</td> <td>0.0000</td> <td>-2.6269</td> <td>-1.8498</td>\n",
       "</tr>\n",
       "<tr>\n",
       "  <th>Age</th>  <td>0.0061</td>   <td>0.0056</td>   <td>1.0964</td>  <td>0.2729</td> <td>-0.0048</td> <td>0.0171</td> \n",
       "</tr>\n",
       "<tr>\n",
       "  <th>Fare</th> <td>0.0142</td>   <td>0.0028</td>   <td>5.1182</td>  <td>0.0000</td> <td>0.0087</td>  <td>0.0196</td> \n",
       "</tr>\n",
       "</table>"
      ],
      "text/plain": [
       "<class 'statsmodels.iolib.summary2.Summary'>\n",
       "\"\"\"\n",
       "                        Results: Logit\n",
       "===============================================================\n",
       "Model:              Logit            No. Iterations:   6.0000  \n",
       "Dependent Variable: Survived         Pseudo R-squared: 0.277   \n",
       "Date:               2018-10-04 07:36 AIC:              651.2204\n",
       "No. Observations:   665              BIC:              673.7193\n",
       "Df Model:           4                Log-Likelihood:   -320.61 \n",
       "Df Residuals:       660              LL-Null:          -443.18 \n",
       "Converged:          1.0000           Scale:            1.0000  \n",
       "-----------------------------------------------------------------\n",
       "        Coef.    Std.Err.      z       P>|z|     [0.025    0.975]\n",
       "-----------------------------------------------------------------\n",
       "2       0.6824     0.2370     2.8798   0.0040    0.2180    1.1469\n",
       "3      -0.1548     0.1798    -0.8608   0.3894   -0.5071    0.1976\n",
       "male   -2.2384     0.1982   -11.2916   0.0000   -2.6269   -1.8498\n",
       "Age     0.0061     0.0056     1.0964   0.2729   -0.0048    0.0171\n",
       "Fare    0.0142     0.0028     5.1182   0.0000    0.0087    0.0196\n",
       "===============================================================\n",
       "\n",
       "\"\"\""
      ]
     },
     "execution_count": 23,
     "metadata": {},
     "output_type": "execute_result"
    }
   ],
   "source": [
    "result.summary2()"
   ]
  },
  {
   "cell_type": "code",
   "execution_count": 24,
   "metadata": {},
   "outputs": [
    {
     "ename": "NameError",
     "evalue": "name 'data' is not defined",
     "output_type": "error",
     "traceback": [
      "\u001b[1;31m---------------------------------------------------------------------------\u001b[0m",
      "\u001b[1;31mNameError\u001b[0m                                 Traceback (most recent call last)",
      "\u001b[1;32m<ipython-input-24-22a73540b1f0>\u001b[0m in \u001b[0;36m<module>\u001b[1;34m()\u001b[0m\n\u001b[1;32m----> 1\u001b[1;33m \u001b[0mtrain_cols\u001b[0m \u001b[1;33m=\u001b[0m \u001b[0mdata\u001b[0m\u001b[1;33m.\u001b[0m\u001b[0mcolumns\u001b[0m\u001b[1;33m[\u001b[0m\u001b[1;36m1\u001b[0m\u001b[1;33m:\u001b[0m\u001b[1;33m]\u001b[0m\u001b[1;33m\u001b[0m\u001b[0m\n\u001b[0m\u001b[0;32m      2\u001b[0m \u001b[1;31m# Index([gre, gpa, prestige_2, prestige_3, prestige_4], dtype=object)\u001b[0m\u001b[1;33m\u001b[0m\u001b[1;33m\u001b[0m\u001b[0m\n\u001b[0;32m      3\u001b[0m \u001b[1;33m\u001b[0m\u001b[0m\n\u001b[0;32m      4\u001b[0m \u001b[0mlogit\u001b[0m \u001b[1;33m=\u001b[0m \u001b[0msm\u001b[0m\u001b[1;33m.\u001b[0m\u001b[0mLogit\u001b[0m\u001b[1;33m(\u001b[0m\u001b[0mdata\u001b[0m\u001b[1;33m[\u001b[0m\u001b[1;34m'admit'\u001b[0m\u001b[1;33m]\u001b[0m\u001b[1;33m,\u001b[0m \u001b[0mdata\u001b[0m\u001b[1;33m[\u001b[0m\u001b[0mtrain_cols\u001b[0m\u001b[1;33m]\u001b[0m\u001b[1;33m)\u001b[0m\u001b[1;33m\u001b[0m\u001b[0m\n\u001b[0;32m      5\u001b[0m \u001b[1;33m\u001b[0m\u001b[0m\n",
      "\u001b[1;31mNameError\u001b[0m: name 'data' is not defined"
     ]
    }
   ],
   "source": [
    "train_cols = data.columns[1:]\n",
    "# Index([gre, gpa, prestige_2, prestige_3, prestige_4], dtype=object)\n",
    "\n",
    "logit = sm.Logit(data['admit'], data[train_cols])\n",
    "\n",
    "# fit the model\n",
    "result = logit.fit()"
   ]
  },
  {
   "cell_type": "code",
   "execution_count": 35,
   "metadata": {},
   "outputs": [
    {
     "name": "stdout",
     "output_type": "stream",
     "text": [
      "Optimization terminated successfully.\n",
      "         Current function value: 0.451853\n",
      "         Iterations 6\n",
      "Intercept      4.839682\n",
      "Sex[T.male]   -2.586525\n",
      "Age           -0.034239\n",
      "Fare           0.000320\n",
      "Pclass        -1.220037\n",
      "dtype: float64\n"
     ]
    }
   ],
   "source": [
    "mod3 = smf.logit(formula='Survived ~ Age + Fare + Sex + Pclass', data=dt).fit()\n",
    "print(mod3.params)"
   ]
  },
  {
   "cell_type": "code",
   "execution_count": 39,
   "metadata": {},
   "outputs": [
    {
     "data": {
      "text/html": [
       "<table class=\"simpletable\">\n",
       "<tr>\n",
       "        <td>Model:</td>              <td>Logit</td>       <td>No. Iterations:</td>   <td>6.0000</td> \n",
       "</tr>\n",
       "<tr>\n",
       "  <td>Dependent Variable:</td>     <td>Survived</td>     <td>Pseudo R-squared:</td>   <td>0.322</td> \n",
       "</tr>\n",
       "<tr>\n",
       "         <td>Date:</td>        <td>2018-10-04 07:49</td>       <td>AIC:</td>        <td>811.5880</td>\n",
       "</tr>\n",
       "<tr>\n",
       "   <td>No. Observations:</td>         <td>887</td>             <td>BIC:</td>        <td>835.5273</td>\n",
       "</tr>\n",
       "<tr>\n",
       "       <td>Df Model:</td>              <td>4</td>         <td>Log-Likelihood:</td>   <td>-400.79</td>\n",
       "</tr>\n",
       "<tr>\n",
       "     <td>Df Residuals:</td>           <td>882</td>           <td>LL-Null:</td>       <td>-591.38</td>\n",
       "</tr>\n",
       "<tr>\n",
       "      <td>Converged:</td>           <td>1.0000</td>           <td>Scale:</td>        <td>1.0000</td> \n",
       "</tr>\n",
       "</table>\n",
       "<table class=\"simpletable\">\n",
       "<tr>\n",
       "       <td></td>        <th>Coef.</th>  <th>Std.Err.</th>     <th>z</th>     <th>P>|z|</th> <th>[0.025</th>  <th>0.975]</th> \n",
       "</tr>\n",
       "<tr>\n",
       "  <th>Intercept</th>   <td>4.8397</td>   <td>0.5252</td>   <td>9.2153</td>  <td>0.0000</td> <td>3.8104</td>  <td>5.8690</td> \n",
       "</tr>\n",
       "<tr>\n",
       "  <th>Sex[T.male]</th> <td>-2.5865</td>  <td>0.1877</td>  <td>-13.7827</td> <td>0.0000</td> <td>-2.9543</td> <td>-2.2187</td>\n",
       "</tr>\n",
       "<tr>\n",
       "  <th>Age</th>         <td>-0.0342</td>  <td>0.0072</td>   <td>-4.7710</td> <td>0.0000</td> <td>-0.0483</td> <td>-0.0202</td>\n",
       "</tr>\n",
       "<tr>\n",
       "  <th>Fare</th>        <td>0.0003</td>   <td>0.0020</td>   <td>0.1568</td>  <td>0.8754</td> <td>-0.0037</td> <td>0.0043</td> \n",
       "</tr>\n",
       "<tr>\n",
       "  <th>Pclass</th>      <td>-1.2200</td>  <td>0.1417</td>   <td>-8.6098</td> <td>0.0000</td> <td>-1.4978</td> <td>-0.9423</td>\n",
       "</tr>\n",
       "</table>"
      ],
      "text/plain": [
       "<class 'statsmodels.iolib.summary2.Summary'>\n",
       "\"\"\"\n",
       "                        Results: Logit\n",
       "===============================================================\n",
       "Model:              Logit            No. Iterations:   6.0000  \n",
       "Dependent Variable: Survived         Pseudo R-squared: 0.322   \n",
       "Date:               2018-10-04 07:49 AIC:              811.5880\n",
       "No. Observations:   887              BIC:              835.5273\n",
       "Df Model:           4                Log-Likelihood:   -400.79 \n",
       "Df Residuals:       882              LL-Null:          -591.38 \n",
       "Converged:          1.0000           Scale:            1.0000  \n",
       "---------------------------------------------------------------\n",
       "                Coef.  Std.Err.    z     P>|z|   [0.025  0.975]\n",
       "---------------------------------------------------------------\n",
       "Intercept       4.8397   0.5252   9.2153 0.0000  3.8104  5.8690\n",
       "Sex[T.male]    -2.5865   0.1877 -13.7827 0.0000 -2.9543 -2.2187\n",
       "Age            -0.0342   0.0072  -4.7710 0.0000 -0.0483 -0.0202\n",
       "Fare            0.0003   0.0020   0.1568 0.8754 -0.0037  0.0043\n",
       "Pclass         -1.2200   0.1417  -8.6098 0.0000 -1.4978 -0.9423\n",
       "===============================================================\n",
       "\n",
       "\"\"\""
      ]
     },
     "execution_count": 39,
     "metadata": {},
     "output_type": "execute_result"
    }
   ],
   "source": [
    "mod3.summary2()"
   ]
  },
  {
   "cell_type": "code",
   "execution_count": null,
   "metadata": {},
   "outputs": [],
   "source": []
  }
 ],
 "metadata": {
  "kernelspec": {
   "display_name": "Python 3",
   "language": "python",
   "name": "python3"
  },
  "language_info": {
   "codemirror_mode": {
    "name": "ipython",
    "version": 3
   },
   "file_extension": ".py",
   "mimetype": "text/x-python",
   "name": "python",
   "nbconvert_exporter": "python",
   "pygments_lexer": "ipython3",
   "version": "3.6.4"
  }
 },
 "nbformat": 4,
 "nbformat_minor": 2
}
