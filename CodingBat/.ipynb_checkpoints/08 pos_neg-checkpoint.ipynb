{
 "cells": [
  {
   "cell_type": "markdown",
   "metadata": {},
   "source": [
    "# pos_neg\n",
    "\n",
    "Given 2 int values, return True if one is negative and one is positive. Except if the parameter \"negative\" is True, then return True only if both are negative.\n",
    "\n",
    "\n",
    "pos_neg(1, -1, False) → True   \n",
    "pos_neg(-1, 1, False) → True  \n",
    "pos_neg(-4, -5, True) → True"
   ]
  },
  {
   "cell_type": "code",
   "execution_count": null,
   "metadata": {},
   "outputs": [],
   "source": [
    "def pos_neg(a, b, negative):\n",
    "  "
   ]
  }
 ],
 "metadata": {
  "kernelspec": {
   "display_name": "Python 3",
   "language": "python",
   "name": "python3"
  },
  "language_info": {
   "codemirror_mode": {
    "name": "ipython",
    "version": 3
   },
   "file_extension": ".py",
   "mimetype": "text/x-python",
   "name": "python",
   "nbconvert_exporter": "python",
   "pygments_lexer": "ipython3",
   "version": "3.7.0"
  }
 },
 "nbformat": 4,
 "nbformat_minor": 2
}
