{
 "cells": [
  {
   "cell_type": "markdown",
   "metadata": {},
   "source": [
    "# Exploración con `seaborn`\n",
    "<figure>\n",
    "  <img src=\"logo_unal.png\" alt=\"The Pulpit Rock\" width=\"304\" height=\"228\">\n",
    "</figure>\n",
    "\n"
   ]
  },
  {
   "cell_type": "markdown",
   "metadata": {},
   "source": [
    "En esta lección se mostrará como usar `seaborn` para crear gráficos con el objetivo de explorar una base de datos."
   ]
  },
  {
   "cell_type": "code",
   "execution_count": 2,
   "metadata": {},
   "outputs": [],
   "source": [
    "import numpy as np\n",
    "import pandas as pd\n",
    "import seaborn as sns\n",
    "import matplotlib.pyplot as plt\n",
    "from scipy import stats"
   ]
  },
  {
   "cell_type": "markdown",
   "metadata": {},
   "source": [
    "## Leyendo los datos del ejemplo\n",
    "\n",
    "Para el ejemplo vamos a usar la base de datos sobre apartamentos usados en la ciudad de Medellín, la base de datos está disponible en [este enlace](https://raw.githubusercontent.com/fhernanb/datos/master/aptos2015). Para leer la base de datos usamos las siguientes instrucciones."
   ]
  },
  {
   "cell_type": "code",
   "execution_count": 11,
   "metadata": {},
   "outputs": [
    {
     "data": {
      "text/html": [
       "<div>\n",
       "<style scoped>\n",
       "    .dataframe tbody tr th:only-of-type {\n",
       "        vertical-align: middle;\n",
       "    }\n",
       "\n",
       "    .dataframe tbody tr th {\n",
       "        vertical-align: top;\n",
       "    }\n",
       "\n",
       "    .dataframe thead th {\n",
       "        text-align: right;\n",
       "    }\n",
       "</style>\n",
       "<table border=\"1\" class=\"dataframe\">\n",
       "  <thead>\n",
       "    <tr style=\"text-align: right;\">\n",
       "      <th></th>\n",
       "      <th>precio</th>\n",
       "      <th>mt2</th>\n",
       "      <th>ubicacion</th>\n",
       "      <th>estrato</th>\n",
       "      <th>alcobas</th>\n",
       "      <th>banos</th>\n",
       "      <th>balcon</th>\n",
       "      <th>parqueadero</th>\n",
       "      <th>administracion</th>\n",
       "      <th>avaluo</th>\n",
       "      <th>terminado</th>\n",
       "    </tr>\n",
       "  </thead>\n",
       "  <tbody>\n",
       "    <tr>\n",
       "      <th>1</th>\n",
       "      <td>79.0</td>\n",
       "      <td>43.16</td>\n",
       "      <td>norte</td>\n",
       "      <td>3</td>\n",
       "      <td>3</td>\n",
       "      <td>1</td>\n",
       "      <td>si</td>\n",
       "      <td>si</td>\n",
       "      <td>0.050</td>\n",
       "      <td>14.923002</td>\n",
       "      <td>no</td>\n",
       "    </tr>\n",
       "    <tr>\n",
       "      <th>2</th>\n",
       "      <td>93.0</td>\n",
       "      <td>56.92</td>\n",
       "      <td>norte</td>\n",
       "      <td>2</td>\n",
       "      <td>2</td>\n",
       "      <td>1</td>\n",
       "      <td>si</td>\n",
       "      <td>si</td>\n",
       "      <td>0.069</td>\n",
       "      <td>27.000000</td>\n",
       "      <td>si</td>\n",
       "    </tr>\n",
       "    <tr>\n",
       "      <th>3</th>\n",
       "      <td>100.0</td>\n",
       "      <td>66.40</td>\n",
       "      <td>norte</td>\n",
       "      <td>3</td>\n",
       "      <td>2</td>\n",
       "      <td>2</td>\n",
       "      <td>no</td>\n",
       "      <td>no</td>\n",
       "      <td>0.000</td>\n",
       "      <td>15.738427</td>\n",
       "      <td>no</td>\n",
       "    </tr>\n",
       "    <tr>\n",
       "      <th>4</th>\n",
       "      <td>123.0</td>\n",
       "      <td>61.85</td>\n",
       "      <td>norte</td>\n",
       "      <td>2</td>\n",
       "      <td>3</td>\n",
       "      <td>2</td>\n",
       "      <td>si</td>\n",
       "      <td>si</td>\n",
       "      <td>0.130</td>\n",
       "      <td>27.000000</td>\n",
       "      <td>no</td>\n",
       "    </tr>\n",
       "    <tr>\n",
       "      <th>5</th>\n",
       "      <td>135.0</td>\n",
       "      <td>89.80</td>\n",
       "      <td>norte</td>\n",
       "      <td>4</td>\n",
       "      <td>3</td>\n",
       "      <td>2</td>\n",
       "      <td>si</td>\n",
       "      <td>no</td>\n",
       "      <td>0.000</td>\n",
       "      <td>39.567000</td>\n",
       "      <td>si</td>\n",
       "    </tr>\n",
       "  </tbody>\n",
       "</table>\n",
       "</div>"
      ],
      "text/plain": [
       "   precio    mt2 ubicacion  estrato  alcobas  banos balcon parqueadero  \\\n",
       "1    79.0  43.16     norte        3        3      1     si          si   \n",
       "2    93.0  56.92     norte        2        2      1     si          si   \n",
       "3   100.0  66.40     norte        3        2      2     no          no   \n",
       "4   123.0  61.85     norte        2        3      2     si          si   \n",
       "5   135.0  89.80     norte        4        3      2     si          no   \n",
       "\n",
       "   administracion     avaluo terminado  \n",
       "1           0.050  14.923002        no  \n",
       "2           0.069  27.000000        si  \n",
       "3           0.000  15.738427        no  \n",
       "4           0.130  27.000000        no  \n",
       "5           0.000  39.567000        si  "
      ]
     },
     "execution_count": 11,
     "metadata": {},
     "output_type": "execute_result"
    }
   ],
   "source": [
    "url = 'https://raw.githubusercontent.com/fhernanb/datos/master/aptos2015'\n",
    "dt = pd.read_table(url, comment='#', sep=' ')\n",
    "dt.head()"
   ]
  },
  {
   "cell_type": "markdown",
   "metadata": {},
   "source": [
    "## Densidades"
   ]
  },
  {
   "cell_type": "code",
   "execution_count": 14,
   "metadata": {},
   "outputs": [
    {
     "data": {
      "text/plain": [
       "<matplotlib.axes._subplots.AxesSubplot at 0x1a50d1a8940>"
      ]
     },
     "execution_count": 14,
     "metadata": {},
     "output_type": "execute_result"
    },
    {
     "data": {
      "image/png": "[encoded data removed]",
      "text/plain": [
       "<matplotlib.figure.Figure at 0x1a50d1a8278>"
      ]
     },
     "metadata": {},
     "output_type": "display_data"
    }
   ],
   "source": [
    "sns.distplot(dt.precio)"
   ]
  },
  {
   "cell_type": "code",
   "execution_count": null,
   "metadata": {},
   "outputs": [],
   "source": []
  }
 ],
 "metadata": {
  "kernelspec": {
   "display_name": "Python 3",
   "language": "python",
   "name": "python3"
  },
  "language_info": {
   "codemirror_mode": {
    "name": "ipython",
    "version": 3
   },
   "file_extension": ".py",
   "mimetype": "text/x-python",
   "name": "python",
   "nbconvert_exporter": "python",
   "pygments_lexer": "ipython3",
   "version": "3.6.4"
  }
 },
 "nbformat": 4,
 "nbformat_minor": 2
}
