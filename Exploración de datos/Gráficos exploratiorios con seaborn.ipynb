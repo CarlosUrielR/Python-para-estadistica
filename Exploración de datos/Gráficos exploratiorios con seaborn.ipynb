{
 "cells": [
  {
   "cell_type": "markdown",
   "metadata": {},
   "source": [
    "# Gráficos exploratorios con `seaborn`\n",
    "\n",
    "![Logo unal](logo_unal.png)\n",
    "\n",
    "En esta lección se mostrará como usar `seaborn` para crear gráficos con el objetivo de explorar una base de datos. Los ejemplos aquí mostrados están basado en las explicaciones mostradas [aquí](https://seaborn.pydata.org/tutorial/distributions.html).\n",
    "\n",
    "A continuación las librerías necesarias para realizar los ejemplos."
   ]
  },
  {
   "cell_type": "code",
   "execution_count": 1,
   "metadata": {},
   "outputs": [],
   "source": [
    "import numpy as np\n",
    "import pandas as pd\n",
    "import seaborn as sns\n",
    "import matplotlib.pyplot as plt\n",
    "from scipy import stats\n",
    "\n",
    "sns.set(color_codes=True)"
   ]
  },
  {
   "cell_type": "markdown",
   "metadata": {},
   "source": [
    "## Leyendo los datos del ejemplo\n",
    "\n",
    "Para el ejemplo vamos a usar la base de datos sobre apartamentos usados en la ciudad de Medellín, la base de datos está disponible en [este enlace](https://raw.githubusercontent.com/fhernanb/datos/master/aptos2015). Para leer la base de datos usamos las siguientes instrucciones."
   ]
  },
  {
   "cell_type": "code",
   "execution_count": null,
   "metadata": {},
   "outputs": [
    {
     "data": {
      "text/html": [
       "<div>\n",
       "<style scoped>\n",
       "    .dataframe tbody tr th:only-of-type {\n",
       "        vertical-align: middle;\n",
       "    }\n",
       "\n",
       "    .dataframe tbody tr th {\n",
       "        vertical-align: top;\n",
       "    }\n",
       "\n",
       "    .dataframe thead th {\n",
       "        text-align: right;\n",
       "    }\n",
       "</style>\n",
       "<table border=\"1\" class=\"dataframe\">\n",
       "  <thead>\n",
       "    <tr style=\"text-align: right;\">\n",
       "      <th></th>\n",
       "      <th>precio</th>\n",
       "      <th>mt2</th>\n",
       "      <th>ubicacion</th>\n",
       "      <th>estrato</th>\n",
       "      <th>alcobas</th>\n",
       "      <th>banos</th>\n",
       "      <th>balcon</th>\n",
       "      <th>parqueadero</th>\n",
       "      <th>administracion</th>\n",
       "      <th>avaluo</th>\n",
       "      <th>terminado</th>\n",
       "    </tr>\n",
       "  </thead>\n",
       "  <tbody>\n",
       "    <tr>\n",
       "      <th>1</th>\n",
       "      <td>79.0</td>\n",
       "      <td>43.16</td>\n",
       "      <td>norte</td>\n",
       "      <td>3</td>\n",
       "      <td>3</td>\n",
       "      <td>1</td>\n",
       "      <td>si</td>\n",
       "      <td>si</td>\n",
       "      <td>0.050</td>\n",
       "      <td>14.923002</td>\n",
       "      <td>no</td>\n",
       "    </tr>\n",
       "    <tr>\n",
       "      <th>2</th>\n",
       "      <td>93.0</td>\n",
       "      <td>56.92</td>\n",
       "      <td>norte</td>\n",
       "      <td>2</td>\n",
       "      <td>2</td>\n",
       "      <td>1</td>\n",
       "      <td>si</td>\n",
       "      <td>si</td>\n",
       "      <td>0.069</td>\n",
       "      <td>27.000000</td>\n",
       "      <td>si</td>\n",
       "    </tr>\n",
       "    <tr>\n",
       "      <th>3</th>\n",
       "      <td>100.0</td>\n",
       "      <td>66.40</td>\n",
       "      <td>norte</td>\n",
       "      <td>3</td>\n",
       "      <td>2</td>\n",
       "      <td>2</td>\n",
       "      <td>no</td>\n",
       "      <td>no</td>\n",
       "      <td>0.000</td>\n",
       "      <td>15.738427</td>\n",
       "      <td>no</td>\n",
       "    </tr>\n",
       "    <tr>\n",
       "      <th>4</th>\n",
       "      <td>123.0</td>\n",
       "      <td>61.85</td>\n",
       "      <td>norte</td>\n",
       "      <td>2</td>\n",
       "      <td>3</td>\n",
       "      <td>2</td>\n",
       "      <td>si</td>\n",
       "      <td>si</td>\n",
       "      <td>0.130</td>\n",
       "      <td>27.000000</td>\n",
       "      <td>no</td>\n",
       "    </tr>\n",
       "    <tr>\n",
       "      <th>5</th>\n",
       "      <td>135.0</td>\n",
       "      <td>89.80</td>\n",
       "      <td>norte</td>\n",
       "      <td>4</td>\n",
       "      <td>3</td>\n",
       "      <td>2</td>\n",
       "      <td>si</td>\n",
       "      <td>no</td>\n",
       "      <td>0.000</td>\n",
       "      <td>39.567000</td>\n",
       "      <td>si</td>\n",
       "    </tr>\n",
       "  </tbody>\n",
       "</table>\n",
       "</div>"
      ],
      "text/plain": [
       "   precio    mt2 ubicacion  estrato  alcobas  banos balcon parqueadero  \\\n",
       "1    79.0  43.16     norte        3        3      1     si          si   \n",
       "2    93.0  56.92     norte        2        2      1     si          si   \n",
       "3   100.0  66.40     norte        3        2      2     no          no   \n",
       "4   123.0  61.85     norte        2        3      2     si          si   \n",
       "5   135.0  89.80     norte        4        3      2     si          no   \n",
       "\n",
       "   administracion     avaluo terminado  \n",
       "1           0.050  14.923002        no  \n",
       "2           0.069  27.000000        si  \n",
       "3           0.000  15.738427        no  \n",
       "4           0.130  27.000000        no  \n",
       "5           0.000  39.567000        si  "
      ]
     },
     "execution_count": 2,
     "metadata": {},
     "output_type": "execute_result"
    }
   ],
   "source": [
    "url = 'https://raw.githubusercontent.com/fhernanb/datos/master/aptos2015'\n",
    "dt = pd.read_table(url, comment='#', sep=' ')\n",
    "dt.head()"
   ]
  },
  {
   "cell_type": "markdown",
   "metadata": {},
   "source": [
    "## Histogramas\n",
    "Para crear un histograma se usa la función `displot` con `hist=True` para que dibuje el histograma y con `kde=False` para que no aparezca la densidad, vamos a agregar `rug=True` para mostrar marcas en el eje horizontal que ilustren las observaciones.\n",
    "\n",
    "A continuación el histograma para la variable `precio`."
   ]
  },
  {
   "cell_type": "code",
   "execution_count": null,
   "metadata": {},
   "outputs": [],
   "source": [
    "sns.distplot(dt.precio, hist=True, kde=False, rug=True)"
   ]
  },
  {
   "cell_type": "markdown",
   "metadata": {},
   "source": [
    "## Densidades\n",
    "\n",
    "Para dibujar la densidad de una variable se usa la función `displot` con `kde=True` y `hist=False`. Agregaremos `rug=True` para ver la ubicación de las observaciones en el eje horizontal.\n",
    "\n",
    "A continuación la densidad para la variable área o `mt2`."
   ]
  },
  {
   "cell_type": "code",
   "execution_count": null,
   "metadata": {},
   "outputs": [],
   "source": [
    "sns.distplot(dt.mt2, kde=True, hist=False, rug=True, color='green')"
   ]
  },
  {
   "cell_type": "markdown",
   "metadata": {},
   "source": [
    "## Diagramas de dispersión\n",
    "\n",
    "Para dibujar diagramas de dispersión se usa la función `jointplot`.\n",
    "\n",
    "A continuación del diagrama de dispersión entre área y precio de los apartamentos."
   ]
  },
  {
   "cell_type": "code",
   "execution_count": null,
   "metadata": {},
   "outputs": [],
   "source": [
    "sns.jointplot(x=\"mt2\", y=\"precio\", data=dt);"
   ]
  },
  {
   "cell_type": "markdown",
   "metadata": {},
   "source": [
    "## Densidad bivariada\n",
    "\n",
    "Para crear una densidad bivariada se usa la función `jointplot`. Se debe usar `kind=\"kde\"` para obtener la densidad, otras opciones para el parámetro `kind` se pueden consultar [aquí](https://seaborn.pydata.org/generated/seaborn.jointplot.html).\n",
    "\n",
    "A continuación la densidad para las variables precio y área."
   ]
  },
  {
   "cell_type": "code",
   "execution_count": null,
   "metadata": {},
   "outputs": [],
   "source": [
    "sns.jointplot(x=\"mt2\", y=\"precio\", data=dt, kind=\"kde\");"
   ]
  },
  {
   "cell_type": "markdown",
   "metadata": {},
   "source": [
    "## Matriz con diagramas de dispersión\n",
    "\n",
    "Para crear una matriz con diagramas de dispersión se usa la función `pairplot`.\n",
    "\n",
    "A continuación un ejemplo de como usar la función para una subconjunto de las variables de los datos `dt`."
   ]
  },
  {
   "cell_type": "code",
   "execution_count": null,
   "metadata": {},
   "outputs": [],
   "source": [
    "sns.pairplot(dt[['precio', 'mt2', 'administracion', 'avaluo']])"
   ]
  },
  {
   "cell_type": "markdown",
   "metadata": {},
   "source": [
    "Para crear el mismo gráfico anterior pero diferenciando por la variable terminado se usa el siguiente código."
   ]
  },
  {
   "cell_type": "code",
   "execution_count": null,
   "metadata": {},
   "outputs": [],
   "source": [
    "sns.pairplot(dt[['precio', 'mt2', 'administracion', 'avaluo', 'terminado']], hue=\"terminado\")"
   ]
  },
  {
   "cell_type": "code",
   "execution_count": null,
   "metadata": {},
   "outputs": [],
   "source": []
  }
 ],
 "metadata": {
  "kernelspec": {
   "display_name": "Python 3",
   "language": "python",
   "name": "python3"
  },
  "language_info": {
   "codemirror_mode": {
    "name": "ipython",
    "version": 3
   },
   "file_extension": ".py",
   "mimetype": "text/x-python",
   "name": "python",
   "nbconvert_exporter": "python",
   "pygments_lexer": "ipython3",
   "version": "3.6.4"
  }
 },
 "nbformat": 4,
 "nbformat_minor": 2
}
