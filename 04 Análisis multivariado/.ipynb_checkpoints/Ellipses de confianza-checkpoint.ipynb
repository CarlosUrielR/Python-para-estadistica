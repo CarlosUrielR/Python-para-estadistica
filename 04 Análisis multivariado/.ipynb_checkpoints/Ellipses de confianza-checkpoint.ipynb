{
 "cells": [
  {
   "cell_type": "markdown",
   "metadata": {},
   "source": [
    "# Elipse de confianza para $\\boldsymbol{\\mu}$ de una $N_2(\\boldsymbol{\\mu}, \\boldsymbol{\\Sigma})$\n",
    "\n",
    "<img src=\"https://raw.githubusercontent.com/fhernanb/fhernanb.github.io/master/docs/logo_unal_color.png\" alt=\"drawing\" width=\"200\"/>"
   ]
  },
  {
   "cell_type": "code",
   "execution_count": 1,
   "metadata": {},
   "outputs": [],
   "source": [
    "import numpy as np\n",
    "import pandas as pd\n",
    "import matplotlib.pyplot as plt"
   ]
  },
  {
   "attachments": {},
   "cell_type": "markdown",
   "metadata": {},
   "source": [
    "Los datos usados aquí fueron tomados del ejemplo 5.3 de Johnson & Wichern."
   ]
  },
  {
   "cell_type": "code",
   "execution_count": 2,
   "metadata": {},
   "outputs": [
    {
     "data": {
      "text/html": [
       "<div>\n",
       "<style scoped>\n",
       "    .dataframe tbody tr th:only-of-type {\n",
       "        vertical-align: middle;\n",
       "    }\n",
       "\n",
       "    .dataframe tbody tr th {\n",
       "        vertical-align: top;\n",
       "    }\n",
       "\n",
       "    .dataframe thead th {\n",
       "        text-align: right;\n",
       "    }\n",
       "</style>\n",
       "<table border=\"1\" class=\"dataframe\">\n",
       "  <thead>\n",
       "    <tr style=\"text-align: right;\">\n",
       "      <th></th>\n",
       "      <th>rad_closed</th>\n",
       "      <th>rad_open</th>\n",
       "    </tr>\n",
       "  </thead>\n",
       "  <tbody>\n",
       "    <tr>\n",
       "      <th>0</th>\n",
       "      <td>0.622333</td>\n",
       "      <td>0.740083</td>\n",
       "    </tr>\n",
       "    <tr>\n",
       "      <th>1</th>\n",
       "      <td>0.547723</td>\n",
       "      <td>0.547723</td>\n",
       "    </tr>\n",
       "    <tr>\n",
       "      <th>2</th>\n",
       "      <td>0.651356</td>\n",
       "      <td>0.740083</td>\n",
       "    </tr>\n",
       "    <tr>\n",
       "      <th>3</th>\n",
       "      <td>0.562341</td>\n",
       "      <td>0.562341</td>\n",
       "    </tr>\n",
       "    <tr>\n",
       "      <th>4</th>\n",
       "      <td>0.472871</td>\n",
       "      <td>0.562341</td>\n",
       "    </tr>\n",
       "  </tbody>\n",
       "</table>\n",
       "</div>"
      ],
      "text/plain": [
       "   rad_closed  rad_open\n",
       "0    0.622333  0.740083\n",
       "1    0.547723  0.547723\n",
       "2    0.651356  0.740083\n",
       "3    0.562341  0.562341\n",
       "4    0.472871  0.562341"
      ]
     },
     "execution_count": 2,
     "metadata": {},
     "output_type": "execute_result"
    }
   ],
   "source": [
    "dt = pd.read_table(\"table_4-1_and_4-5.txt\", sep=\"\\t\")  # Los datos están en table_4-1_and_4-5.txt\n",
    "dt = dt**0.25  # Para transformar los datos según el libro\n",
    "dt.head()      # Para ver el inicio de los datos"
   ]
  },
  {
   "cell_type": "markdown",
   "metadata": {},
   "source": [
    "Para conocer las dimensiones de `dt` usamos:"
   ]
  },
  {
   "cell_type": "code",
   "execution_count": 3,
   "metadata": {},
   "outputs": [
    {
     "data": {
      "text/plain": [
       "(42, 2)"
      ]
     },
     "execution_count": 3,
     "metadata": {},
     "output_type": "execute_result"
    }
   ],
   "source": [
    "dt.shape"
   ]
  },
  {
   "cell_type": "markdown",
   "metadata": {},
   "source": [
    "Para calcular el vector de medias muestral $\\bar{\\boldsymbol{X}}$ y la matriz de covarianzas $\\boldsymbol{S}$:"
   ]
  },
  {
   "cell_type": "code",
   "execution_count": 4,
   "metadata": {},
   "outputs": [
    {
     "name": "stdout",
     "output_type": "stream",
     "text": [
      "Vector de medias \n",
      "\n",
      "rad_closed    0.564258\n",
      "rad_open      0.602981\n",
      "dtype: float64\n",
      "\n",
      "\n",
      "Matriz de covarianzas \n",
      "\n",
      "            rad_closed  rad_open\n",
      "rad_closed    0.014350  0.011715\n",
      "rad_open      0.011715  0.014545\n"
     ]
    }
   ],
   "source": [
    "print('Vector de medias \\n')\n",
    "medias = dt.mean()\n",
    "print(medias)\n",
    "\n",
    "print('\\n')\n",
    "print('Matriz de covarianzas \\n')\n",
    "sigma = dt.cov()\n",
    "print(sigma)"
   ]
  },
  {
   "cell_type": "markdown",
   "metadata": {},
   "source": [
    "Para dibujar las observaciones en $\\Re^2$ y agregando el vector de medias $\\bar{\\boldsymbol{X}}$ usamos:"
   ]
  },
  {
   "cell_type": "code",
   "execution_count": 5,
   "metadata": {},
   "outputs": [
    {
     "data": {
      "image/png": "[encoded data removed]",
      "text/plain": [
       "<Figure size 432x288 with 1 Axes>"
      ]
     },
     "metadata": {
      "needs_background": "light"
     },
     "output_type": "display_data"
    }
   ],
   "source": [
    "plt.scatter(x=dt.rad_closed, y=dt.rad_open, color='purple', alpha=0.15)\n",
    "plt.plot(medias[0], medias[1], color='blue', marker='*', markersize=15)\n",
    "plt.xlabel('x1')\n",
    "plt.ylabel('x2')\n",
    "plt.title('Diagrama de dispersión con vector X barra');"
   ]
  },
  {
   "cell_type": "markdown",
   "metadata": {},
   "source": [
    "La siguiente función es una modificación de la función propuesta por [Syrtis Major](https://stackoverflow.com/users/2144720/syrtis-major)"
   ]
  },
  {
   "cell_type": "code",
   "execution_count": 6,
   "metadata": {},
   "outputs": [],
   "source": [
    "from scipy.stats import f\n",
    "\n",
    "def conf_ellipse(cov, q=None, n=None, **kwargs):\n",
    "    \"\"\"\n",
    "    Parameters\n",
    "    ----------\n",
    "    cov : (2, 2) array Covariance matrix.\n",
    "    q : float, optional. Confidence level, should be in (0, 1)\n",
    "    n : number of observations in the sample\n",
    "\n",
    "    Returns\n",
    "    -------\n",
    "    width, height, rotation :\n",
    "         The lengths of two axises and the rotation angle in degree\n",
    "    for the ellipse.\n",
    "    \"\"\"\n",
    "\n",
    "    r2 = 2 * (n-1) * f.ppf(q, 2, n-2) / (n * (n-2))\n",
    "    r2 = r2**0.5\n",
    "\n",
    "    val, vec = np.linalg.eigh(cov)\n",
    "    width, height = 2 * (val[:, None] * r2)**0.5\n",
    "    rotation = np.degrees(np.arctan2(*vec[::-1, 0]))\n",
    "\n",
    "    return width, height, rotation"
   ]
  },
  {
   "cell_type": "markdown",
   "metadata": {},
   "source": [
    "A continuación la información para construir la elipse de 95% de confianza y se almacena en el objeto `elip_95`"
   ]
  },
  {
   "cell_type": "code",
   "execution_count": 7,
   "metadata": {},
   "outputs": [],
   "source": [
    "elip_95 = conf_ellipse(cov=sigma, q=0.95, n=42)"
   ]
  },
  {
   "cell_type": "markdown",
   "metadata": {},
   "source": [
    "Para crear la elipse se usa la función `Ellipse`"
   ]
  },
  {
   "cell_type": "code",
   "execution_count": 10,
   "metadata": {},
   "outputs": [
    {
     "data": {
      "image/png": "[encoded data removed]",
      "text/plain": [
       "<Figure size 432x288 with 1 Axes>"
      ]
     },
     "metadata": {
      "needs_background": "light"
     },
     "output_type": "display_data"
    }
   ],
   "source": [
    "from matplotlib.patches import Ellipse\n",
    "\n",
    "elipse = Ellipse(xy=medias, width=elip_95[0], height=elip_95[1], angle=elip_95[2], color='blue')\n",
    "elipse.set_facecolor('none')\n",
    "\n",
    "ax = plt.subplot(111)\n",
    "plt.scatter(x=dt.rad_closed, y=dt.rad_open, color='purple', alpha=0.15)\n",
    "plt.plot(medias[0], medias[1], color='blue', marker='*', markersize=12)\n",
    "plt.xlabel('x1')\n",
    "plt.ylabel('x2')\n",
    "plt.title('Elipse de confianza del 95% para mu')\n",
    "ax.add_artist(elipse)  # Para agregar la elipse\n",
    "plt.plot(0.562, 0.589, color='red', marker='+', markersize=12);"
   ]
  },
  {
   "cell_type": "markdown",
   "metadata": {},
   "source": [
    "<div class=\"alert alert-success\">\n",
    "Como el vector $\\boldsymbol{\\mu}_0=(0.562, 0.589)^\\top$ está __dentro__ de la elipse de confianza del 95%, no podemos rechazar $H_0: \\boldsymbol{\\mu}=\\boldsymbol{\\mu}_0$ frente a $H_1:\\boldsymbol{\\mu} \\neq \\boldsymbol{\\mu}_0$.\n",
    "</div>"
   ]
  },
  {
   "cell_type": "markdown",
   "metadata": {},
   "source": [
    "<div class=\"alert alert-info\">\n",
    "  <strong>Tarea</strong> Replicar este mismo ejemplo con R.\n",
    "</div>"
   ]
  }
 ],
 "metadata": {
  "kernelspec": {
   "display_name": "Python 3",
   "language": "python",
   "name": "python3"
  },
  "language_info": {
   "codemirror_mode": {
    "name": "ipython",
    "version": 3
   },
   "file_extension": ".py",
   "mimetype": "text/x-python",
   "name": "python",
   "nbconvert_exporter": "python",
   "pygments_lexer": "ipython3",
   "version": "3.7.0"
  }
 },
 "nbformat": 4,
 "nbformat_minor": 2
}
