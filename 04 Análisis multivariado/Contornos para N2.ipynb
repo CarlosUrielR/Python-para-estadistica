{
 "cells": [
  {
   "cell_type": "markdown",
   "metadata": {},
   "source": [
    "# Contornos para $N_2(\\boldsymbol{\\mu}, \\boldsymbol{\\Sigma})$\n",
    "\n",
    "<img src=\"https://raw.githubusercontent.com/fhernanb/fhernanb.github.io/master/docs/logo_unal_color.png\" alt=\"drawing\" width=\"200\"/>"
   ]
  },
  {
   "cell_type": "code",
   "execution_count": 1,
   "metadata": {},
   "outputs": [],
   "source": [
    "import numpy as np\n",
    "import pandas as pd\n",
    "import matplotlib.pyplot as plt"
   ]
  },
  {
   "cell_type": "markdown",
   "metadata": {},
   "source": [
    "Para generar observaciones aleatorias de una normal bivariada usamos:"
   ]
  },
  {
   "cell_type": "code",
   "execution_count": 2,
   "metadata": {},
   "outputs": [
    {
     "data": {
      "image/png": "[encoded data removed]",
      "text/plain": [
       "<matplotlib.figure.Figure at 0x17e84908>"
      ]
     },
     "metadata": {},
     "output_type": "display_data"
    }
   ],
   "source": [
    "medias = (65, 165)\n",
    "sigma = [[20, 21],\n",
    "         [21, 30]]\n",
    "\n",
    "x = np.random.multivariate_normal(mean=medias, cov=sigma, size=20)\n",
    "\n",
    "plt.xlabel('Peso (kg)')\n",
    "plt.ylabel('Estatura (cm)')\n",
    "plt.scatter(x[:,0], x[:,1], alpha=0.3);"
   ]
  },
  {
   "cell_type": "markdown",
   "metadata": {},
   "source": [
    "The next function was made by [Syrtis Major](https://stackoverflow.com/users/2144720/syrtis-major)"
   ]
  },
  {
   "cell_type": "code",
   "execution_count": 3,
   "metadata": {},
   "outputs": [],
   "source": [
    "from scipy.stats import norm, chi2\n",
    "\n",
    "def cov_ellipse(cov, q=None, nsig=None, **kwargs):\n",
    "    \"\"\"\n",
    "    Parameters\n",
    "    ----------\n",
    "    cov : (2, 2) array Covariance matrix.\n",
    "    q : float, optional. Confidence level, should be in (0, 1)\n",
    "    nsig : int, optional. Confidence level in unit of standard deviations. \n",
    "        E.g. 1 stands for 68.3% and 2 stands for 95.4%.\n",
    "\n",
    "    Returns\n",
    "    -------\n",
    "    width, height, rotation :\n",
    "         The lengths of two axises and the rotation angle in degree\n",
    "    for the ellipse.\n",
    "    \"\"\"\n",
    "\n",
    "    if q is not None:\n",
    "        q = np.asarray(q)\n",
    "    elif nsig is not None:\n",
    "        q = 2 * norm.cdf(nsig) - 1\n",
    "    else:\n",
    "        raise ValueError('One of `q` and `nsig` should be specified.')\n",
    "    radius2 = chi2.ppf(q, 2)\n",
    "\n",
    "    val, vec = np.linalg.eigh(cov)\n",
    "    width, height = 2 * (val[:, None] * radius2)**0.5\n",
    "    rotation = np.degrees(np.arctan2(*vec[::-1, 0]))\n",
    "\n",
    "    return width, height, rotation"
   ]
  },
  {
   "cell_type": "markdown",
   "metadata": {},
   "source": [
    "A continuación la información para construir la elipse y se almacena en el objeto `elip`"
   ]
  },
  {
   "cell_type": "code",
   "execution_count": 4,
   "metadata": {},
   "outputs": [],
   "source": [
    "elip = cov_ellipse(cov=sigma, q=0.50)"
   ]
  },
  {
   "cell_type": "markdown",
   "metadata": {},
   "source": [
    "Para crear la elipse se usa la función `Ellipse`"
   ]
  },
  {
   "cell_type": "code",
   "execution_count": 5,
   "metadata": {},
   "outputs": [
    {
     "data": {
      "text/plain": [
       "<matplotlib.patches.Ellipse at 0x19eec358>"
      ]
     },
     "execution_count": 5,
     "metadata": {},
     "output_type": "execute_result"
    },
    {
     "data": {
      "image/png": "[encoded data removed]",
      "text/plain": [
       "<matplotlib.figure.Figure at 0x19eec208>"
      ]
     },
     "metadata": {},
     "output_type": "display_data"
    }
   ],
   "source": [
    "from matplotlib.patches import Ellipse\n",
    "\n",
    "elipse = Ellipse(xy=medias, width=elip[0], height=elip[1], angle=elip[2], color='red')\n",
    "elipse.set_facecolor('none')\n",
    "\n",
    "ax = plt.subplot(111)\n",
    "plt.scatter(x[:,0], x[:,1], alpha=0.3)\n",
    "plt.xlabel('Peso (kg)')\n",
    "plt.ylabel('Estatura (cm)')\n",
    "plt.title('Contorno del 50%')\n",
    "ax.add_artist(elipse)  # Para agregar la elipse"
   ]
  },
  {
   "cell_type": "markdown",
   "metadata": {},
   "source": [
    "## Calculando las distancias de Mahalanobis\n",
    "\n",
    "$D^2 = (\\boldsymbol{X}-\\boldsymbol{\\mu})^\\top \\boldsymbol{\\Sigma}^{-1} (\\boldsymbol{X}-\\boldsymbol{\\mu})$"
   ]
  },
  {
   "cell_type": "code",
   "execution_count": 6,
   "metadata": {},
   "outputs": [],
   "source": [
    "from scipy.spatial.distance import cdist\n",
    "\n",
    "medias = [[65, 165]]       # Vector de medias\n",
    "vi = np.linalg.inv(sigma)  # Inversa de Sigma\n",
    "\n",
    "d = cdist(XA=x, XB=medias, metric='mahalanobis', VI=vi)\n",
    "d2 = d**2  # Para que genere d2, de lo contrario entrega sólo d"
   ]
  },
  {
   "cell_type": "code",
   "execution_count": 7,
   "metadata": {},
   "outputs": [],
   "source": [
    "results = d2 < chi2.ppf(q=0.5, df=2)"
   ]
  },
  {
   "cell_type": "code",
   "execution_count": 8,
   "metadata": {},
   "outputs": [
    {
     "data": {
      "text/plain": [
       "11"
      ]
     },
     "execution_count": 8,
     "metadata": {},
     "output_type": "execute_result"
    }
   ],
   "source": [
    "sum(sum(results))  # Para saber cuántos puntos están dentro de la elipse"
   ]
  }
 ],
 "metadata": {
  "kernelspec": {
   "display_name": "Python 3",
   "language": "python",
   "name": "python3"
  },
  "language_info": {
   "codemirror_mode": {
    "name": "ipython",
    "version": 3
   },
   "file_extension": ".py",
   "mimetype": "text/x-python",
   "name": "python",
   "nbconvert_exporter": "python",
   "pygments_lexer": "ipython3",
   "version": "3.6.4"
  }
 },
 "nbformat": 4,
 "nbformat_minor": 2
}
