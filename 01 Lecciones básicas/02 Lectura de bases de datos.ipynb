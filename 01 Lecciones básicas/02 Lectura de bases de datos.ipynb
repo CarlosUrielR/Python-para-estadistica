{
 "cells": [
  {
   "cell_type": "markdown",
   "metadata": {},
   "source": [
    "# Lectura de bases de datos\n",
    "<br>\n",
    "<figure>\n",
    "  <img src=\"https://raw.githubusercontent.com/fhernanb/fhernanb.github.io/master/docs/logo_unal_color.png\" alt=\"Logo Unal\" width=\"304\" height=\"228\">\n",
    "</figure>\n",
    "<br>\n",
    "\n",
    "![Logo Unal](https://raw.githubusercontent.com/fhernanb/fhernanb.github.io/master/docs/logo_unal_color.png)"
   ]
  },
  {
   "cell_type": "markdown",
   "metadata": {},
   "source": [
    "En esta lección vamos a mostrar como leer bases de datos en:\n",
    "- formato .txt\n",
    "- formato .csv\n",
    "- desde una url\n",
    "\n",
    "En la carpeta Datos que está en este mismo repositorio se encuentran unas bases de datos sencillas que vamos a utilizar, los nombres de las bases de datos son: `datos1.txt` y `datos2.csv`.\n",
    "\n",
    "La librería que vamos a usar se muestra a continuación."
   ]
  },
  {
   "cell_type": "code",
   "execution_count": null,
   "metadata": {},
   "outputs": [],
   "source": [
    "import pandas as pd  # Librería con la función read_csv"
   ]
  },
  {
   "cell_type": "markdown",
   "metadata": {},
   "source": [
    "## Lectura de archivos .txt\n",
    "\n",
    "Para leer este tipo de archivos usamos la función `read_table`, la documentación completa de la función se puede consultar [aqui](https://pandas.pydata.org/pandas-docs/stable/generated/pandas.read_table.html).\n",
    "\n",
    "Vamos a leer la base de datos `datos1.txt`. La información se almacenará en el marco de datos `dt1`, a continuación la instrucción."
   ]
  },
  {
   "cell_type": "code",
   "execution_count": null,
   "metadata": {},
   "outputs": [],
   "source": [
    "dt1 = pd.read_table(\"Datos/datos1.txt\", sep=\" \")"
   ]
  },
  {
   "cell_type": "markdown",
   "metadata": {},
   "source": [
    "Para explorar lo que está dentro de `dt1` usamos la función `head` así:"
   ]
  },
  {
   "cell_type": "code",
   "execution_count": null,
   "metadata": {},
   "outputs": [],
   "source": [
    "dt1.head()"
   ]
  },
  {
   "cell_type": "markdown",
   "metadata": {},
   "source": [
    "De la salida anterior vemos que la base `dt1` tiene cuatro variables."
   ]
  },
  {
   "cell_type": "markdown",
   "metadata": {},
   "source": [
    "## Lectura de archivos .csv\n",
    "\n",
    "Para leer este tipo de archivos usamos la función `read_csv`, la documentación completa de la función se puede consultar [aqui](https://pandas.pydata.org/pandas-docs/stable/generated/pandas.read_csv.html).\n",
    "\n",
    "Vamos a leer la base de datos `datos2.txt`. La información se almacenará en el marco de datos `dt2`, a continuación la instrucción."
   ]
  },
  {
   "cell_type": "code",
   "execution_count": null,
   "metadata": {},
   "outputs": [],
   "source": [
    "dt2 = pd.read_csv(\"Datos/datos2.csv\", sep=\";\")"
   ]
  },
  {
   "cell_type": "markdown",
   "metadata": {},
   "source": [
    "Para explorar lo que está dentro de `dt2` usamos la función `head` así:"
   ]
  },
  {
   "cell_type": "code",
   "execution_count": null,
   "metadata": {},
   "outputs": [],
   "source": [
    "dt2.head()"
   ]
  },
  {
   "cell_type": "markdown",
   "metadata": {},
   "source": [
    "De la salida anterior vemos que la base `dt2` tiene tres variables."
   ]
  },
  {
   "cell_type": "markdown",
   "metadata": {},
   "source": [
    "## Lectura desde una url\n",
    "\n",
    "Para leer este tipo de archivos se puede usar nuevamente la función `read_csv`, la documentación completa de la función se puede consultar [aqui](https://pandas.pydata.org/pandas-docs/stable/generated/pandas.read_csv.html).\n",
    "\n",
    "Vamos a leer la base de datos `medidas_cuerpo2` que se encuentra disponible [aquí](https://raw.githubusercontent.com/fhernanb/datos/master/medidas_cuerpo2). La información se almacenará en el marco de datos `dt3`, a continuación la instrucción."
   ]
  },
  {
   "cell_type": "code",
   "execution_count": null,
   "metadata": {},
   "outputs": [],
   "source": [
    "url = 'https://raw.githubusercontent.com/fhernanb/datos/master/medidas_cuerpo2'\n",
    "dt3 = pd.read_csv(url, comment='#', delimiter='\\t')\n",
    "dt3.head()"
   ]
  },
  {
   "cell_type": "markdown",
   "metadata": {},
   "source": [
    "De la salida anterior vemos que la base `dt3` tiene cinco variables."
   ]
  },
  {
   "cell_type": "markdown",
   "metadata": {},
   "source": [
    "## Dimensión de la base de datos\n",
    "\n",
    "Para conocer la dimensión de una base de datos se usa la función `shape`.\n",
    "\n",
    "A continuación de muestran las dimensiones de las tres bases de datos leídas."
   ]
  },
  {
   "cell_type": "code",
   "execution_count": null,
   "metadata": {},
   "outputs": [],
   "source": [
    "dt1.shape"
   ]
  },
  {
   "cell_type": "code",
   "execution_count": null,
   "metadata": {},
   "outputs": [],
   "source": [
    "dt2.shape"
   ]
  },
  {
   "cell_type": "code",
   "execution_count": null,
   "metadata": {},
   "outputs": [],
   "source": [
    "dt3.shape"
   ]
  },
  {
   "cell_type": "markdown",
   "metadata": {},
   "source": [
    "## Usando las variables de las bases de datos\n",
    "\n",
    "Para usar cada variable de la base de datos se usa la siguiente estructura `nombre_datos.nombre_variable`. A continuación la forma de extraer las variables `edad`, `ventas` y `Sexo` de las bases de datos `dt1`, `dt2` y `dt3`."
   ]
  },
  {
   "cell_type": "code",
   "execution_count": null,
   "metadata": {},
   "outputs": [],
   "source": [
    "dt1.edad"
   ]
  },
  {
   "cell_type": "code",
   "execution_count": null,
   "metadata": {},
   "outputs": [],
   "source": [
    "dt2.ventas"
   ]
  },
  {
   "cell_type": "code",
   "execution_count": null,
   "metadata": {},
   "outputs": [],
   "source": [
    "dt3.Sexo"
   ]
  }
 ],
 "metadata": {
  "kernelspec": {
   "display_name": "Python 3",
   "language": "python",
   "name": "python3"
  },
  "language_info": {
   "codemirror_mode": {
    "name": "ipython",
    "version": 3
   },
   "file_extension": ".py",
   "mimetype": "text/x-python",
   "name": "python",
   "nbconvert_exporter": "python",
   "pygments_lexer": "ipython3",
   "version": "3.6.4"
  }
 },
 "nbformat": 4,
 "nbformat_minor": 2
}
