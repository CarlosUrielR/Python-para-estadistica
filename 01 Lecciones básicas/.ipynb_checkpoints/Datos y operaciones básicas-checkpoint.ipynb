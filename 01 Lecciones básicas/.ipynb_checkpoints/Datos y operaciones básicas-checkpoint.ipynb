{
 "cells": [
  {
   "cell_type": "markdown",
   "metadata": {},
   "source": [
    "# Tipos de datos\n",
    "<br>\n",
    "<figure>\n",
    "  <img src=\"https://raw.githubusercontent.com/fhernanb/fhernanb.github.io/master/docs/logo_unal_color.png\" alt=\"Logo unal\" width=\"304\" height=\"228\">\n",
    "</figure>\n",
    "<br>"
   ]
  },
  {
   "cell_type": "markdown",
   "metadata": {},
   "source": [
    "## Tipos de datos\n",
    "En Python se se tienen datos de tipo:\n",
    "- enteros (int)\n",
    "- enteros largos (long)\n",
    "- racionales (float)\n",
    "- complejos (complex)\n",
    "- booleanos (bool)\n",
    "- cadenas (str)\n",
    "- ninguno (None)\n",
    "\n",
    "A continuación se muestran algunos ejemplos"
   ]
  },
  {
   "cell_type": "code",
   "execution_count": 8,
   "metadata": {},
   "outputs": [],
   "source": [
    "mi_entero = 15\n",
    "mi_racional = 8.35\n",
    "mi_complejo = 25 + 3j\n",
    "mi_bool1 = True\n",
    "mi_bool2 = False\n",
    "mi_cadena1 = \"Este es un ejemplo\"\n",
    "mi_cadena2 = 'Y este es otro ejemplo'\n",
    "nada = None"
   ]
  },
  {
   "cell_type": "markdown",
   "metadata": {},
   "source": [
    "Se puede chequear el tipo de dato almacenado usando la función `type`, a continuación los ejemplos."
   ]
  },
  {
   "cell_type": "code",
   "execution_count": 13,
   "metadata": {},
   "outputs": [
    {
     "data": {
      "text/plain": [
       "NoneType"
      ]
     },
     "execution_count": 13,
     "metadata": {},
     "output_type": "execute_result"
    }
   ],
   "source": [
    "type(mi_entero)\n",
    "type(mi_racional)\n",
    "type(mi_complejo)\n",
    "type(mi_bool1)\n",
    "type(mi_bool2)\n",
    "type(mi_cadena1)\n",
    "type(mi_cadena2)\n",
    "type(nada)"
   ]
  },
  {
   "cell_type": "code",
   "execution_count": null,
   "metadata": {},
   "outputs": [],
   "source": []
  }
 ],
 "metadata": {
  "kernelspec": {
   "display_name": "Python 3",
   "language": "python",
   "name": "python3"
  },
  "language_info": {
   "codemirror_mode": {
    "name": "ipython",
    "version": 3
   },
   "file_extension": ".py",
   "mimetype": "text/x-python",
   "name": "python",
   "nbconvert_exporter": "python",
   "pygments_lexer": "ipython3",
   "version": "3.6.4"
  }
 },
 "nbformat": 4,
 "nbformat_minor": 2
}
