{
 "cells": [
  {
   "cell_type": "markdown",
   "metadata": {},
   "source": [
    "# Tipos de datos\n",
    "<br>\n",
    "<figure>\n",
    "  <img src=\"https://raw.githubusercontent.com/fhernanb/fhernanb.github.io/master/docs/logo_unal_color.png\" alt=\"Logo unal\" width=\"304\" height=\"228\">\n",
    "</figure>\n",
    "<br>"
   ]
  },
  {
   "cell_type": "markdown",
   "metadata": {},
   "source": [
    "En Python se tienen los siguientes tipos:\n",
    "- enteros (int)\n",
    "- enteros largos (long)\n",
    "- racionales (float)\n",
    "- complejos (complex)\n",
    "- booleanos (bool)\n",
    "- cadenas (str)\n",
    "- ninguno (None)\n",
    "\n",
    "A continuación se muestran algunos ejemplos de como crear variables con cada uno de los tipos de datos."
   ]
  },
  {
   "cell_type": "code",
   "execution_count": 8,
   "metadata": {},
   "outputs": [],
   "source": [
    "mi_entero = 15\n",
    "mi_racional = 8.35\n",
    "mi_complejo = 25 + 3j\n",
    "mi_bool1 = True\n",
    "mi_bool2 = False\n",
    "mi_cadena1 = \"Este es un ejemplo\"\n",
    "mi_cadena2 = 'Y este es otro ejemplo'\n",
    "nada = None"
   ]
  },
  {
   "cell_type": "markdown",
   "metadata": {},
   "source": [
    "Se puede chequear el tipo de dato almacenado usando la función `type`, a continuación los ejemplos."
   ]
  },
  {
   "cell_type": "code",
   "execution_count": 15,
   "metadata": {},
   "outputs": [
    {
     "name": "stdout",
     "output_type": "stream",
     "text": [
      "<class 'int'>\n",
      "<class 'float'>\n",
      "<class 'complex'>\n",
      "<class 'bool'>\n",
      "<class 'bool'>\n",
      "<class 'str'>\n",
      "<class 'str'>\n",
      "<class 'NoneType'>\n"
     ]
    }
   ],
   "source": [
    "print(type(mi_entero))\n",
    "print(type(mi_racional))\n",
    "print(type(mi_complejo))\n",
    "print(type(mi_bool1))\n",
    "print(type(mi_bool2))\n",
    "print(type(mi_cadena1))\n",
    "print(type(mi_cadena2))\n",
    "print(type(nada))"
   ]
  },
  {
   "cell_type": "code",
   "execution_count": null,
   "metadata": {},
   "outputs": [],
   "source": []
  }
 ],
 "metadata": {
  "kernelspec": {
   "display_name": "Python 3",
   "language": "python",
   "name": "python3"
  },
  "language_info": {
   "codemirror_mode": {
    "name": "ipython",
    "version": 3
   },
   "file_extension": ".py",
   "mimetype": "text/x-python",
   "name": "python",
   "nbconvert_exporter": "python",
   "pygments_lexer": "ipython3",
   "version": "3.6.4"
  }
 },
 "nbformat": 4,
 "nbformat_minor": 2
}
