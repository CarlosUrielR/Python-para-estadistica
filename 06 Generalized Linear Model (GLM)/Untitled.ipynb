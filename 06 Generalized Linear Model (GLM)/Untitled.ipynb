{
 "cells": [
  {
   "cell_type": "code",
   "execution_count": 2,
   "id": "d12ce69c",
   "metadata": {},
   "outputs": [],
   "source": [
    "import numpy as np\n",
    "import matplotlib.pyplot as plt\n",
    "\n",
    "import statsmodels.api as sm"
   ]
  },
  {
   "cell_type": "code",
   "execution_count": 4,
   "id": "f5b9d344",
   "metadata": {},
   "outputs": [],
   "source": [
    "nsample = 8\n",
    "sig = 0.25\n",
    "x1 = np.linspace(0, 20, nsample)\n",
    "X = np.column_stack((x1, np.sin(x1), (x1-5)**2))\n",
    "X = sm.add_constant(X)\n",
    "beta = [5., 0.5, 0.5, -0.02]\n",
    "y_true = np.dot(X, beta)\n",
    "y = y_true + sig * np.random.normal(size=nsample)"
   ]
  },
  {
   "cell_type": "code",
   "execution_count": 5,
   "id": "9f2d0a21",
   "metadata": {},
   "outputs": [
    {
     "name": "stdout",
     "output_type": "stream",
     "text": [
      "[[  1.           0.           0.          25.        ]\n",
      " [  1.           2.85714286   0.2806294    4.59183673]\n",
      " [  1.           5.71428571  -0.53870529   0.51020408]\n",
      " [  1.           8.57142857   0.75348673  12.75510204]\n",
      " [  1.          11.42857143  -0.90771225  41.32653061]\n",
      " [  1.          14.28571429   0.98898712  86.2244898 ]\n",
      " [  1.          17.14285714  -0.99077947 147.44897959]\n",
      " [  1.          20.           0.91294525 225.        ]]\n"
     ]
    }
   ],
   "source": [
    "print(X)"
   ]
  },
  {
   "cell_type": "code",
   "execution_count": 6,
   "id": "f5cc1148",
   "metadata": {},
   "outputs": [
    {
     "data": {
      "text/plain": [
       "array([[  0.        ,   0.        ,  25.        ],\n",
       "       [  2.85714286,   0.2806294 ,   4.59183673],\n",
       "       [  5.71428571,  -0.53870529,   0.51020408],\n",
       "       [  8.57142857,   0.75348673,  12.75510204],\n",
       "       [ 11.42857143,  -0.90771225,  41.32653061],\n",
       "       [ 14.28571429,   0.98898712,  86.2244898 ],\n",
       "       [ 17.14285714,  -0.99077947, 147.44897959],\n",
       "       [ 20.        ,   0.91294525, 225.        ]])"
      ]
     },
     "execution_count": 6,
     "metadata": {},
     "output_type": "execute_result"
    }
   ],
   "source": [
    "np.column_stack((x1, np.sin(x1), (x1-5)**2))"
   ]
  }
 ],
 "metadata": {
  "kernelspec": {
   "display_name": "Python 3",
   "language": "python",
   "name": "python3"
  },
  "language_info": {
   "codemirror_mode": {
    "name": "ipython",
    "version": 3
   },
   "file_extension": ".py",
   "mimetype": "text/x-python",
   "name": "python",
   "nbconvert_exporter": "python",
   "pygments_lexer": "ipython3",
   "version": "3.7.10"
  }
 },
 "nbformat": 4,
 "nbformat_minor": 5
}
