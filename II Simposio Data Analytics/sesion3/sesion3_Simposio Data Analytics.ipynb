{
 "cells": [
  {
   "cell_type": "markdown",
   "metadata": {
    "cell_style": "center"
   },
   "source": [
    "# Sistemas de recomendación.\n",
    "\n",
    "Ahora veremos cómo crear un sistema de recomendación. Con este fin exploraremos diferentes propiedades de los sistemas de recomendación, desarrollaremos y evaluaremos un sistema de recomendación colaborativa.\n"
   ]
  },
  {
   "cell_type": "markdown",
   "metadata": {},
   "source": [
    "<div style=\"text-align: right\"> <sub>Referencia: Igual L. & Seguí, S. (2017). *Introduction to Data Science*. Springer. Código fuente: https://github.com/DataScienceUB/introduction-datascience-python-book </sub> </div>"
   ]
  },
  {
   "cell_type": "code",
   "execution_count": 2,
   "metadata": {
    "ExecuteTime": {
     "end_time": "2018-09-20T01:18:33.049458Z",
     "start_time": "2018-09-20T01:18:33.038201Z"
    }
   },
   "outputs": [],
   "source": [
    "import matplotlib.pylab as plt\n",
    "\n",
    "%matplotlib inline \n",
    "plt.style.use('seaborn-whitegrid')\n",
    "plt.rc('text', usetex=True)\n",
    "plt.rc('font', family='times')\n",
    "plt.rc('xtick', labelsize=10) \n",
    "plt.rc('ytick', labelsize=10) \n",
    "plt.rc('font', size=12) "
   ]
  },
  {
   "cell_type": "markdown",
   "metadata": {},
   "source": [
    "## Descripción de datos\n",
    "\n",
    "Trabajaremos con el bien conocido conjunto de datos MovieLens (http://grouplens.org/datasets/movielens/). Este conjunto de datos se construyó inicialmente para ayudar a los participantes en el Premio Netflix. Hoy en día, podemos encontrar varias versiones de este conjunto de datos con diferentes tipos de datos, desde la versión de 100k muestras hasta la versión de muestra de 20m.\n",
    "Aunque se espera que el rendimiento en un conjunto de datos más grande sea mejor, trabajaremos con el conjunto de datos más pequeño: MovieLens *100K Dataset (ml-100k-zip)*. Trabajar con esta versión lite tiene el beneficio de menos costos computacionales, mientras que también obtendremos las habilidades requeridas en los sistemas de recomendación basados en el usuario.\n",
    "\n",
    "Con una máquina Unix, el conjunto de datos se puede descargar con el siguiente código:"
   ]
  },
  {
   "cell_type": "code",
   "execution_count": 1,
   "metadata": {
    "ExecuteTime": {
     "end_time": "2018-09-20T01:19:55.437632Z",
     "start_time": "2018-09-20T01:19:50.188626Z"
    }
   },
   "outputs": [
    {
     "name": "stderr",
     "output_type": "stream",
     "text": [
      "\"wget\" no se reconoce como un comando interno o externo,\n",
      "programa o archivo por lotes ejecutable.\n",
      "\"unzip\" no se reconoce como un comando interno o externo,\n",
      "programa o archivo por lotes ejecutable.\n"
     ]
    }
   ],
   "source": [
    "!wget http://files.grouplens.org/datasets/movielens/ml-100k.zip \n",
    "!unzip ml-100k.zip "
   ]
  },
  {
   "cell_type": "markdown",
   "metadata": {
    "cell_style": "center"
   },
   "source": [
    "Puede encontrar el archivo descomprimido en esta misma carpeta."
   ]
  },
  {
   "cell_type": "markdown",
   "metadata": {},
   "source": [
    "Una vez que haya descargado y descomprimido el archivo en un directorio, puede crear un DataFrame con el siguiente código:"
   ]
  },
  {
   "cell_type": "code",
   "execution_count": 4,
   "metadata": {
    "ExecuteTime": {
     "end_time": "2018-09-20T01:24:46.656149Z",
     "start_time": "2018-09-20T01:24:46.452701Z"
    }
   },
   "outputs": [
    {
     "name": "stdout",
     "output_type": "stream",
     "text": [
      "La BD has 100000 ratings\n",
      "La BD has  943  users\n",
      "La BD has  1682  movies\n",
      "   user_id         title  movie_id  rating release_date sex  age\n",
      "0      196  Kolya (1996)       242       3  24-Jan-1997   M   49\n",
      "1      305  Kolya (1996)       242       5  24-Jan-1997   M   23\n",
      "2        6  Kolya (1996)       242       4  24-Jan-1997   M   42\n",
      "3      234  Kolya (1996)       242       4  24-Jan-1997   M   60\n",
      "4       63  Kolya (1996)       242       3  24-Jan-1997   M   31\n"
     ]
    }
   ],
   "source": [
    "#NETFLIX REAL 50.000.000 usuaris and 100.000 items\n",
    "import pandas as pd\n",
    "import numpy as np\n",
    "import math\n",
    "import matplotlib.pylab as plt\n",
    "from math import isnan\n",
    "\n",
    "\n",
    "# Load Data set\n",
    "u_cols = ['user_id', 'age', 'sex', 'occupation', 'zip_code']\n",
    "users = pd.read_csv('ml-100k/u.user', sep='|', names=u_cols)\n",
    "\n",
    "r_cols = ['user_id', 'movie_id', 'rating', 'unix_timestamp']\n",
    "ratings = pd.read_csv('ml-100k/u.data', sep='\\t', names=r_cols)\n",
    "\n",
    "# the movies file contains columns indicating the movie's genres\n",
    "# let's only load the first three columns of the file with usecols\n",
    "m_cols = ['movie_id', 'title', 'release_date']\n",
    "movies = pd.read_csv('ml-100k/u.item', sep='|', names=m_cols, usecols=range(3),encoding='latin-1')\n",
    "\n",
    "# Construcció del DataFrame\n",
    "data = pd.merge(pd.merge(ratings, users), movies)\n",
    "data = data[['user_id','title', 'movie_id','rating','release_date','sex','age']]\n",
    "\n",
    "\n",
    "print(\"La BD has \"+ str(data.shape[0]) +\" ratings\")\n",
    "print(\"La BD has \", data.user_id.nunique(),\" users\")\n",
    "print(\"La BD has \", data.movie_id.nunique(), \" movies\")\n",
    "print(data.head())"
   ]
  },
  {
   "cell_type": "code",
   "execution_count": 5,
   "metadata": {},
   "outputs": [
    {
     "ename": "TypeError",
     "evalue": "'numpy.int32' object is not callable",
     "output_type": "error",
     "traceback": [
      "\u001b[1;31m---------------------------------------------------------------------------\u001b[0m",
      "\u001b[1;31mTypeError\u001b[0m                                 Traceback (most recent call last)",
      "\u001b[1;32m<ipython-input-5-db8d0b42c964>\u001b[0m in \u001b[0;36m<module>\u001b[1;34m()\u001b[0m\n\u001b[1;32m----> 1\u001b[1;33m \u001b[0mdata\u001b[0m\u001b[1;33m.\u001b[0m\u001b[0msize\u001b[0m\u001b[1;33m(\u001b[0m\u001b[1;33m)\u001b[0m\u001b[1;33m\u001b[0m\u001b[0m\n\u001b[0m",
      "\u001b[1;31mTypeError\u001b[0m: 'numpy.int32' object is not callable"
     ]
    }
   ],
   "source": [
    "data.s"
   ]
  },
  {
   "cell_type": "code",
   "execution_count": null,
   "metadata": {},
   "outputs": [],
   "source": []
  },
  {
   "cell_type": "markdown",
   "metadata": {},
   "source": [
    "Si explora el conjunto de datos en detalle, verá que consiste en:\n",
    "<ul>\n",
    "<li> 100.000 calificaciones de 943 usuarios de 1682 películas. Las calificaciones son de 1 a 5. </li>\n",
    "<li> Cada usuario ha calificado al menos 20 películas. </li>\n",
    "<li> Información demográfica simple para los usuarios (edad, sexo, ocupación, código postal) </li>\n",
    "</ul>"
   ]
  },
  {
   "cell_type": "markdown",
   "metadata": {},
   "source": [
    "## Crear un filtro colaborativo (CF) para el conjunto de datos de Movilens\n",
    "La idea detrás de cualquier sistema de recomendación es sugerir o recomendar elementos que puedan ser de interés para el usuario. Si pensamos en el conjunto de datos de película y un sistema de recomendación de película, el objetivo consistirá en recomendar aquellas películas de uso de un \"usuario\" dado que es más probable que se interesen por él. Por lo tanto, el problema se puede tomar al predecir las calificaciones de las películas invisibles del \"usuario\" dado y recomendar aquellas con la calificación más alta predicha.\n",
    "\n",
    "<br> La siguiente tabla ilustra el problema. Este conjunto de datos de juguetes consiste en 4 usuarios y 4 elementos. Los usuarios 1, 2 y 3 han visto todas las películas, mientras que el usuario 3 solo ha visto Superman y Star Wars. Entonces, el problema consiste en la predicción de qué película, Matrix o Spiderman serán más probables para el usuario 4.\n",
    "<table style=\"width:60%\">\n",
    "  <tr>\n",
    "    <td></td>\n",
    "    <td>Superman</td> \n",
    "    <td>Star Wars 1</td>\n",
    "    <td>Matrix</td>\n",
    "    <td>Spiderman</td>\n",
    "    \n",
    "  </tr>\n",
    "  <tr>\n",
    "    <td>user1</td>\n",
    "    <td>3</td> \n",
    "    <td>3.5</td>\n",
    "    <td>4.5</td>\n",
    "    <td>3</td>\n",
    "  </tr>\n",
    "  <tr>\n",
    "    <td>user2</td>\n",
    "    <td>3.5</td> \n",
    "    <td>4</td>\n",
    "    <td>5</td>\n",
    "    <td>5</td>\n",
    "  </tr>\n",
    "  <tr>\n",
    "    <td>user3</td>\n",
    "    <td>3</td> \n",
    "    <td>4</td>\n",
    "    <td>4.5</td>\n",
    "    <td>3</td>\n",
    "  </tr>\n",
    "  <tr>\n",
    "    <td>user4</td>\n",
    "    <td>3.5</td> \n",
    "    <td>5</td>\n",
    "    <td><font color=\"red\"><b>¿?</b></font></td>\n",
    "    <td><font color=\"red\"><b>¿?</b></font></td>\n",
    "  </tr>\n",
    "</table>\n",
    "<br><br><br><br>\n",
    "\n",
    "\n",
    "Para crear un sistema de recomendación colaborativa, tendremos que definir: 1) una función de predicción, 2) una función de similitud de usuario y 3) una función de evaluación."
   ]
  },
  {
   "cell_type": "markdown",
   "metadata": {},
   "source": [
    "### Función de predicción:\n",
    "La función de predicción detrás del CF se basará en las clasificaciones de películas de usuarios similares.\n",
    "Entonces, para recomendar una película, $ p $, de un conjunto de películas, $ P $, a un usuario dado, $ a $, primero tenemos que ver el conjunto de usuarios, $ B $, que ya han visto $ p $. Entonces, necesitamos ver la similitud de sabor entre estos usuarios en $ B $ y el usuario $ a $. La función de predicción más simple para un usuario $ a $ y una película $ p $ se puede definir de la siguiente manera:\n",
    "\n",
    "$$pred(a,p) = \\frac{\\sum_{b \\in B}{sim(a,b)*(r_{b,p})}}{\\sum_{b \\in B}{sim(a,b)}}$$\n",
    "\n",
    "donde $ sim (a, b) $ es la similitud entre el usuario $ a $ y el usuario $ b $, $ B $ es el conjunto de usuarios en el conjunto de datos que ya han visto $ p $ y $ r_ {b, p} $ es la calificación de $ p $ por $ b $."
   ]
  },
  {
   "cell_type": "markdown",
   "metadata": {},
   "source": [
    "<h3>Similaridad entre usuarios</h3>\n",
    "El cálculo de la similitud entre elementos es uno de los pasos más críticos en los algoritmos CF. La idea básica detrás del cálculo de similitud entre dos usuarios $ a $ y $ b $ es que primero podemos aislar el conjunto $ P $ de los elementos calificados por ambos usuarios, y luego aplicar una técnica de cálculo de similitud para determinar la similitud.\n",
    "\n",
    "El conjunto de *common_movies* se puede obtener con el siguiente código:"
   ]
  },
  {
   "cell_type": "code",
   "execution_count": 11,
   "metadata": {
    "ExecuteTime": {
     "end_time": "2018-09-20T01:28:34.495597Z",
     "start_time": "2018-09-20T01:28:34.461561Z"
    }
   },
   "outputs": [
    {
     "name": "stdout",
     "output_type": "stream",
     "text": [
      "\n",
      "Number of common movies 96 \n",
      "\n",
      "                                    title  rating\n",
      "14                           Kolya (1996)       5\n",
      "940                Raising Arizona (1987)       4\n",
      "1306  Truth About Cats & Dogs, The (1996)       5\n",
      "2677                          Babe (1995)       1\n",
      "3073   Four Weddings and a Funeral (1994)       3\n",
      "                                    title  rating\n",
      "2                            Kolya (1996)       4\n",
      "885                Raising Arizona (1987)       5\n",
      "1255  Truth About Cats & Dogs, The (1996)       2\n",
      "2636                          Babe (1995)       4\n",
      "3022   Four Weddings and a Funeral (1994)       3\n"
     ]
    }
   ],
   "source": [
    "# dataframe with the data from user 1\n",
    "data_user_1 = data[data.user_id==1]\n",
    "# dataframe with the data from user 2\n",
    "data_user_2 = data[data.user_id==6]\n",
    "# We first compute the set of common movies\n",
    "common_movies = set(data_user_1.movie_id).intersection(data_user_2.movie_id)\n",
    "print(\"\\nNumber of common movies\",len(common_movies),'\\n')\n",
    "\n",
    "# creat the subdataframe with only with the common movies\n",
    "mask = (data_user_1.movie_id.isin(common_movies))\n",
    "data_user_1 = data_user_1[mask]\n",
    "print (data_user_1[['title','rating']].head())\n",
    "\n",
    "mask = (data_user_2.movie_id.isin(common_movies))\n",
    "data_user_2 = data_user_2[mask]\n",
    "print (data_user_2[['title','rating']].head())"
   ]
  },
  {
   "cell_type": "markdown",
   "metadata": {},
   "source": [
    "Una vez que se ha obtenido el conjunto de calificaciones para todas las películas comunes a los dos usuarios, podemos calcular la similitud del usuario. Estas son algunas de las funciones de similitud más comunes utilizadas en los métodos de CF:\n",
    "   <ul>\n",
    "    <li>Distancia Euclideana</li>\n",
    "    $$sim(a,b) = \\sqrt{\\sum_{p \\in P}{(r_{a,p} - r_{b,p})^2}}$$\n",
    "    <br>\n",
    "    <li>Correlación de Pearson</li>\n",
    "    $$sim(a,b) = \\frac{\\sum_{p\\in P} (r_{a,p}-\\bar{r_a})(r_{b,p}-\\bar{r_b})}{\\sqrt{\\sum_{p \\in P}(r_{a,p}-\\bar{r_a})²}\\sqrt{\\sum_{p \\in P}(r_{b,p}-\\bar{r_b})²}}$$\n",
    "    <br>\n",
    "    <li>Distancia del Coseno</li>\n",
    "    $$ sim(a,b) = \\frac{\\vec{a}· \\vec{b}}{|\\vec{a}| * |\\vec{b}|}$$\n",
    "    <br>\n",
    "    </ul>\n",
    "  \n",
    "<br>\n",
    "Dónde:\n",
    "\n",
    "* $ sim (a, b) $ es la similitud entre el usuario \"a\" y el usuario \"b\"\n",
    "* $ P $ es el conjunto de películas clasificadas comunes por el usuario \"a\" y \"b\"\n",
    "* $ r_{a, p} $ es la clasificación de la película \"p\" por el usuario \"a\"\n",
    "* $ \\bar {r_a} $ es la calificación media dada por el usuario \"a\"\n",
    "\n",
    "<br>\n",
    "\n",
    "<h4>Algunas cosas que tener en cuenta</h4>\n",
    "<ul>\n",
    "<li>La correlación de Pearson suele funcionar mejor que la distancia euclidiana ya que se basa más en el ranking que en los valores.</li>\n",
    "<li>La distancia del coseno generalmente se utiliza cuando nuestros datos son binarios / unarios, es decir, como \"versus\" no como \"comprar\" o \"no comprar\".</li>\n",
    "<li>¿Qué sucede si dos usuarios tienen muy pocos elementos en común?</li>\n",
    "</ul>\n",
    "\n"
   ]
  },
  {
   "cell_type": "markdown",
   "metadata": {},
   "source": [
    "Vamos a definir una función para calcular la similitud de los usuarios"
   ]
  },
  {
   "cell_type": "code",
   "execution_count": 12,
   "metadata": {
    "ExecuteTime": {
     "end_time": "2018-09-20T01:31:45.661738Z",
     "start_time": "2018-09-20T01:31:45.164530Z"
    },
    "scrolled": false
   },
   "outputs": [],
   "source": [
    "from scipy.stats import pearsonr\n",
    "from scipy.spatial.distance import euclidean\n",
    "import seaborn as sns;\n",
    "\n",
    "# Returns a distance-based similarity score for person1 and person2\n",
    "def SimEuclid(DataFrame,User1,User2,min_common_items=1):\n",
    "    # GET MOVIES OF USER1\n",
    "    movies_user1=DataFrame[DataFrame['user_id'] ==User1 ]\n",
    "    # GET MOVIES OF USER2\n",
    "    movies_user2=DataFrame[DataFrame['user_id'] ==User2 ]\n",
    "    \n",
    "    # FIND SHARED FILMS\n",
    "    rep=pd.merge(movies_user1 ,movies_user2,on='movie_id')    \n",
    "    if len(rep)==0:\n",
    "        return 0\n",
    "    if(len(rep)<min_common_items):\n",
    "        return 0\n",
    "    #return distEuclid(rep['rating_x'],rep['rating_y']) \n",
    "    return 1.0/(1.0+euclidean(rep['rating_x'],rep['rating_y'])) \n",
    "\n",
    "# Returns a pearsonCorrealation-based similarity score for person1 and person2\n",
    "def SimPearson(DataFrame,User1,User2,min_common_items=1):\n",
    "    # GET MOVIES OF USER1\n",
    "    movies_user1=DataFrame[DataFrame['user_id'] ==User1 ]\n",
    "    # GET MOVIES OF USER2\n",
    "    movies_user2=DataFrame[DataFrame['user_id'] ==User2 ]\n",
    "    \n",
    "    # FIND SHARED FILMS\n",
    "    rep=pd.merge(movies_user1 ,movies_user2,on='movie_id')\n",
    "    if len(rep)==0:\n",
    "        return 0    \n",
    "    if(len(rep)<min_common_items):\n",
    "        return 0    \n",
    "    res=pearsonr(rep['rating_x'],rep['rating_y'])[0]\n",
    "    if(isnan(res)):\n",
    "        return 0\n",
    "    return res\n"
   ]
  },
  {
   "cell_type": "markdown",
   "metadata": {},
   "source": [
    "Veamos qué tan similares son el usuario 1 con 8 y 1 con 31"
   ]
  },
  {
   "cell_type": "code",
   "execution_count": 13,
   "metadata": {
    "ExecuteTime": {
     "end_time": "2018-09-20T01:32:39.122829Z",
     "start_time": "2018-09-20T01:32:39.051912Z"
    }
   },
   "outputs": [
    {
     "name": "stdout",
     "output_type": "stream",
     "text": [
      "Euclidean Similarity 0.1566130288262323\n",
      "Pearson Similarity 0.6920863660773593\n",
      "-----\n",
      "Euclidean Similarity 0.1757340838011157\n",
      "Pearson Similarity -0.09221388919541468\n"
     ]
    }
   ],
   "source": [
    "print(\"Euclidean Similarity\",SimEuclid(data,1,8))\n",
    "print( \"Pearson Similarity\",SimPearson(data,1,8))\n",
    "print( \"-----\")\n",
    "print( \"Euclidean Similarity\",SimEuclid(data,1,31))\n",
    "print( \"Pearson Similarity\",SimPearson(data,1,31))\n"
   ]
  },
  {
   "cell_type": "code",
   "execution_count": 14,
   "metadata": {
    "ExecuteTime": {
     "end_time": "2018-09-20T01:32:51.319294Z",
     "start_time": "2018-09-20T01:32:48.274952Z"
    }
   },
   "outputs": [
    {
     "data": {
      "image/png": "[encoded data removed]",
      "text/plain": [
       "<matplotlib.figure.Figure at 0x7f8aff959b00>"
      ]
     },
     "metadata": {},
     "output_type": "display_data"
    }
   ],
   "source": [
    "movies_user1=data[data['user_id'] ==1 ][['user_id','movie_id','rating']]\n",
    "movies_user2=data[data['user_id'] ==8 ][['user_id','movie_id','rating']]\n",
    "    \n",
    "# FIND SHARED FILMS\n",
    "rep=pd.merge(movies_user1 ,movies_user2,on='movie_id')\n",
    "x= rep.rating_x + np.random.normal(loc=0.0, scale=0.1,size=len(rep.rating_x))\n",
    "y= rep.rating_y +np.random.normal(loc=0.0, scale=0.1,size=len(rep.rating_y))\n",
    "    \n",
    "a=rep.groupby(['rating_x', 'rating_y']).size()\n",
    "x=[]\n",
    "y=[]\n",
    "s=[]\n",
    "for item,b in a.iteritems():\n",
    "    x.append(item[0])\n",
    "    y.append(item[1])\n",
    "    s.append(b*30)\n",
    "\n",
    "fig = plt.figure(figsize=(6,4))\n",
    "plt.scatter(x,y, s=s)\n",
    "plt.xlabel('Rating User 1')\n",
    "plt.ylabel('Rating User '+str(8))\n",
    "plt.axis([0.5,5.5,0.5,5.5])\n",
    "plt.savefig(\"corre18.png\",dpi= 300, bbox_inches='tight')\n",
    "plt.show()"
   ]
  },
  {
   "cell_type": "markdown",
   "metadata": {},
   "source": [
    "Y con el usuario 31:"
   ]
  },
  {
   "cell_type": "code",
   "execution_count": 15,
   "metadata": {
    "ExecuteTime": {
     "end_time": "2018-09-20T01:33:43.734646Z",
     "start_time": "2018-09-20T01:33:42.696912Z"
    }
   },
   "outputs": [
    {
     "data": {
      "image/png": "[encoded data removed]",
      "text/plain": [
       "<matplotlib.figure.Figure at 0x7f8aff959a90>"
      ]
     },
     "metadata": {},
     "output_type": "display_data"
    }
   ],
   "source": [
    "movies_user1=data[data['user_id'] ==1 ][['user_id','movie_id','rating']]\n",
    "movies_user2=data[data['user_id'] ==31 ][['user_id','movie_id','rating']]\n",
    "    \n",
    "# FIND SHARED FILMS\n",
    "rep=pd.merge(movies_user1 ,movies_user2,on='movie_id')\n",
    "x= rep.rating_x + np.random.normal(loc=0.0, scale=0.1,size=len(rep.rating_x))\n",
    "y= rep.rating_y +np.random.normal(loc=0.0, scale=0.1,size=len(rep.rating_y))\n",
    "    \n",
    "a=rep.groupby(['rating_x', 'rating_y']).size()\n",
    "x=[]\n",
    "y=[]\n",
    "s=[]\n",
    "\n",
    "fig = plt.figure(figsize=(6,4))\n",
    "for item,b in a.iteritems():\n",
    "    x.append(item[0])\n",
    "    y.append(item[1])\n",
    "    s.append(b*30)\n",
    "plt.scatter(x,y, s=s)\n",
    "plt.xlabel('Rating User 1')\n",
    "plt.ylabel('Rating User '+str(31))\n",
    "plt.axis([0.5,5.5,0.5,5.5])\n",
    "plt.savefig(\"corre131.png\",dpi= 300, bbox_inches='tight')\n",
    "plt.show()\n"
   ]
  }
 ],
 "metadata": {
  "anaconda-cloud": {},
  "kernelspec": {
   "display_name": "Python 3",
   "language": "python",
   "name": "python3"
  },
  "language_info": {
   "codemirror_mode": {
    "name": "ipython",
    "version": 3
   },
   "file_extension": ".py",
   "mimetype": "text/x-python",
   "name": "python",
   "nbconvert_exporter": "python",
   "pygments_lexer": "ipython3",
   "version": "3.6.4"
  },
  "latex_envs": {
   "LaTeX_envs_menu_present": true,
   "autoclose": false,
   "autocomplete": true,
   "bibliofile": "biblio.bib",
   "cite_by": "apalike",
   "current_citInitial": 1,
   "eqLabelWithNumbers": true,
   "eqNumInitial": 1,
   "hotkeys": {
    "equation": "Ctrl-E",
    "itemize": "Ctrl-I"
   },
   "labels_anchors": false,
   "latex_user_defs": false,
   "report_style_numbering": false,
   "user_envs_cfg": false
  },
  "varInspector": {
   "cols": {
    "lenName": 16,
    "lenType": 16,
    "lenVar": 40
   },
   "kernels_config": {
    "python": {
     "delete_cmd_postfix": "",
     "delete_cmd_prefix": "del ",
     "library": "var_list.py",
     "varRefreshCmd": "print(var_dic_list())"
    },
    "r": {
     "delete_cmd_postfix": ") ",
     "delete_cmd_prefix": "rm(",
     "library": "var_list.r",
     "varRefreshCmd": "cat(var_dic_list()) "
    }
   },
   "types_to_exclude": [
    "module",
    "function",
    "builtin_function_or_method",
    "instance",
    "_Feature"
   ],
   "window_display": false
  }
 },
 "nbformat": 4,
 "nbformat_minor": 1
}
