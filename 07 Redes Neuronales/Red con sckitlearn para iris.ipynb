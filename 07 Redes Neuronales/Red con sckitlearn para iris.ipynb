{
 "cells": [
  {
   "cell_type": "markdown",
   "metadata": {},
   "source": [
    "# Red neuronal usando iris\n",
    "<img src=\"https://raw.githubusercontent.com/fhernanb/fhernanb.github.io/master/docs/logo_unal_color.png\" alt=\"drawing\" width=\"200\"/>\n",
    "\n",
    "\n",
    "El código mostrado aquí está basado en [este video](https://youtu.be/7wC9YDImpyY)"
   ]
  },
  {
   "cell_type": "code",
   "execution_count": 1,
   "metadata": {},
   "outputs": [],
   "source": [
    "import sklearn\n",
    "from sklearn.datasets import load_iris\n",
    "from sklearn.model_selection import train_test_split\n",
    "from sklearn.neural_network import MLPClassifier"
   ]
  },
  {
   "cell_type": "code",
   "execution_count": 2,
   "metadata": {},
   "outputs": [],
   "source": [
    "iris = load_iris()"
   ]
  },
  {
   "cell_type": "code",
   "execution_count": 3,
   "metadata": {},
   "outputs": [],
   "source": [
    "caract = iris.data"
   ]
  },
  {
   "cell_type": "code",
   "execution_count": 4,
   "metadata": {},
   "outputs": [
    {
     "data": {
      "text/plain": [
       "array([0, 0, 0, 0, 0, 0, 0, 0, 0, 0, 0, 0, 0, 0, 0, 0, 0, 0, 0, 0, 0, 0,\n",
       "       0, 0, 0, 0, 0, 0, 0, 0, 0, 0, 0, 0, 0, 0, 0, 0, 0, 0, 0, 0, 0, 0,\n",
       "       0, 0, 0, 0, 0, 0, 1, 1, 1, 1, 1, 1, 1, 1, 1, 1, 1, 1, 1, 1, 1, 1,\n",
       "       1, 1, 1, 1, 1, 1, 1, 1, 1, 1, 1, 1, 1, 1, 1, 1, 1, 1, 1, 1, 1, 1,\n",
       "       1, 1, 1, 1, 1, 1, 1, 1, 1, 1, 1, 1, 2, 2, 2, 2, 2, 2, 2, 2, 2, 2,\n",
       "       2, 2, 2, 2, 2, 2, 2, 2, 2, 2, 2, 2, 2, 2, 2, 2, 2, 2, 2, 2, 2, 2,\n",
       "       2, 2, 2, 2, 2, 2, 2, 2, 2, 2, 2, 2, 2, 2, 2, 2, 2, 2])"
      ]
     },
     "execution_count": 4,
     "metadata": {},
     "output_type": "execute_result"
    }
   ],
   "source": [
    "etiq = iris.target\n",
    "etiq # Para ver las tres clases de flores"
   ]
  },
  {
   "cell_type": "code",
   "execution_count": 5,
   "metadata": {},
   "outputs": [],
   "source": [
    "X_ent, X_test, y_ent, y_test = train_test_split(caract, etiq)"
   ]
  },
  {
   "cell_type": "code",
   "execution_count": 6,
   "metadata": {},
   "outputs": [],
   "source": [
    "# Para definir la red\n",
    "red = MLPClassifier(max_iter=5000, hidden_layer_sizes=(10), activation='logistic')"
   ]
  },
  {
   "cell_type": "code",
   "execution_count": 7,
   "metadata": {},
   "outputs": [
    {
     "data": {
      "text/plain": [
       "MLPClassifier(activation='logistic', alpha=0.0001, batch_size='auto',\n",
       "              beta_1=0.9, beta_2=0.999, early_stopping=False, epsilon=1e-08,\n",
       "              hidden_layer_sizes=10, learning_rate='constant',\n",
       "              learning_rate_init=0.001, max_iter=5000, momentum=0.9,\n",
       "              n_iter_no_change=10, nesterovs_momentum=True, power_t=0.5,\n",
       "              random_state=None, shuffle=True, solver='adam', tol=0.0001,\n",
       "              validation_fraction=0.1, verbose=False, warm_start=False)"
      ]
     },
     "execution_count": 7,
     "metadata": {},
     "output_type": "execute_result"
    }
   ],
   "source": [
    "# Para entrenar la red\n",
    "red.fit(X_ent, y_ent)"
   ]
  },
  {
   "cell_type": "code",
   "execution_count": 8,
   "metadata": {},
   "outputs": [
    {
     "data": {
      "text/plain": [
       "array([[1.04645161e-03, 2.93493809e-02, 9.69604167e-01],\n",
       "       [9.86249195e-01, 1.35798923e-02, 1.70912729e-04],\n",
       "       [1.10646052e-03, 3.47763259e-02, 9.64117214e-01],\n",
       "       [9.73275199e-01, 2.64348087e-02, 2.89992455e-04],\n",
       "       [3.71865945e-03, 1.45455087e-01, 8.50826254e-01],\n",
       "       [3.94917071e-03, 1.58735964e-01, 8.37314865e-01],\n",
       "       [8.07864717e-03, 3.64536382e-01, 6.27384971e-01],\n",
       "       [8.15566254e-04, 2.25795593e-02, 9.76604874e-01],\n",
       "       [9.90688863e-01, 9.18725307e-03, 1.23884136e-04],\n",
       "       [7.14944363e-03, 3.73549138e-01, 6.19301419e-01],\n",
       "       [9.84861924e-01, 1.49532471e-02, 1.84829206e-04],\n",
       "       [1.92737149e-03, 6.37947770e-02, 9.34277851e-01],\n",
       "       [1.37312074e-02, 9.64440478e-01, 2.18283145e-02],\n",
       "       [9.84088754e-01, 1.57189103e-02, 1.92335922e-04],\n",
       "       [1.60237255e-02, 9.02794402e-01, 8.11818729e-02],\n",
       "       [1.23110592e-02, 8.96573027e-01, 9.11159133e-02],\n",
       "       [1.31907691e-02, 9.24123468e-01, 6.26857626e-02],\n",
       "       [2.08280777e-03, 6.69872354e-02, 9.30929957e-01],\n",
       "       [9.86324552e-01, 1.35044100e-02, 1.71037812e-04],\n",
       "       [9.80290359e-01, 1.94848038e-02, 2.24836833e-04],\n",
       "       [9.47790380e-01, 5.16950149e-02, 5.14605085e-04],\n",
       "       [1.59677499e-02, 9.29664145e-01, 5.43681054e-02],\n",
       "       [9.86017939e-01, 1.38080281e-02, 1.74032980e-04],\n",
       "       [9.85484584e-01, 1.43379013e-02, 1.77515165e-04],\n",
       "       [1.67052000e-03, 5.33711544e-02, 9.44958326e-01],\n",
       "       [2.91272922e-04, 6.80755517e-03, 9.92901172e-01],\n",
       "       [2.32455151e-03, 8.24261322e-02, 9.15249316e-01],\n",
       "       [1.52594205e-02, 8.89744952e-01, 9.49956278e-02],\n",
       "       [9.86905220e-01, 1.29296623e-02, 1.65117385e-04],\n",
       "       [9.75337029e-01, 2.43799399e-02, 2.83030650e-04],\n",
       "       [1.22132967e-03, 4.06667550e-02, 9.58111915e-01],\n",
       "       [1.71386776e-02, 8.67103886e-01, 1.15757436e-01],\n",
       "       [1.30168738e-02, 8.63925012e-01, 1.23058114e-01],\n",
       "       [2.77936248e-03, 1.06406256e-01, 8.90814382e-01],\n",
       "       [1.67870579e-02, 9.46364771e-01, 3.68481706e-02],\n",
       "       [1.42351227e-02, 9.54269687e-01, 3.14951898e-02],\n",
       "       [7.37911542e-04, 2.13232507e-02, 9.77938838e-01],\n",
       "       [2.35840570e-03, 8.03268776e-02, 9.17314717e-01],\n",
       "       [2.23586019e-03, 7.89444182e-02, 9.18819722e-01],\n",
       "       [1.45260338e-02, 7.58434735e-01, 2.27039231e-01],\n",
       "       [1.24387378e-02, 8.53448347e-01, 1.34112915e-01],\n",
       "       [9.81561205e-01, 1.82215526e-02, 2.17242676e-04],\n",
       "       [1.03975360e-03, 2.82949024e-02, 9.70665344e-01],\n",
       "       [4.42247436e-04, 1.03528659e-02, 9.89204887e-01],\n",
       "       [9.79325456e-04, 2.87297130e-02, 9.70290962e-01],\n",
       "       [1.05220445e-02, 4.77135057e-01, 5.12342899e-01],\n",
       "       [1.67645731e-02, 9.51549789e-01, 3.16856378e-02],\n",
       "       [9.75675978e-01, 2.40510399e-02, 2.72982450e-04],\n",
       "       [9.75135250e-01, 2.45866910e-02, 2.78059160e-04],\n",
       "       [9.81263453e-01, 1.85171405e-02, 2.19406579e-04],\n",
       "       [9.33037016e-04, 2.63295752e-02, 9.72737388e-01],\n",
       "       [8.74523152e-03, 3.96098826e-01, 5.95155943e-01],\n",
       "       [9.83854751e-01, 1.59511069e-02, 1.94142142e-04],\n",
       "       [1.56923674e-02, 9.14967749e-01, 6.93398840e-02],\n",
       "       [1.26225092e-02, 9.63391088e-01, 2.39864024e-02],\n",
       "       [9.83543629e-01, 1.62595334e-02, 1.96837418e-04],\n",
       "       [2.65880898e-02, 9.53016756e-01, 2.03951538e-02],\n",
       "       [9.75797528e-01, 2.39307151e-02, 2.71757386e-04],\n",
       "       [6.68288943e-04, 1.94097592e-02, 9.79921952e-01],\n",
       "       [9.63612162e-01, 3.60131240e-02, 3.74714398e-04],\n",
       "       [9.83943241e-01, 1.58605967e-02, 1.96162162e-04],\n",
       "       [9.61510525e-03, 5.47886250e-01, 4.42498644e-01],\n",
       "       [7.72057634e-03, 3.59374279e-01, 6.32905145e-01],\n",
       "       [9.77097643e-01, 2.26400516e-02, 2.62305569e-04],\n",
       "       [2.39910373e-03, 8.77671675e-02, 9.09833729e-01],\n",
       "       [1.63949906e-02, 9.63180904e-01, 2.04241049e-02],\n",
       "       [2.19864444e-02, 9.60958715e-01, 1.70548407e-02],\n",
       "       [1.45227201e-02, 8.77745964e-01, 1.07731316e-01],\n",
       "       [1.41170729e-02, 9.59243408e-01, 2.66395190e-02],\n",
       "       [1.42836347e-03, 4.41871083e-02, 9.54384528e-01],\n",
       "       [2.16623076e-03, 7.32670462e-02, 9.24566723e-01],\n",
       "       [9.87011200e-01, 1.28261268e-02, 1.62673586e-04],\n",
       "       [9.90316303e-01, 9.55503648e-03, 1.28660783e-04],\n",
       "       [5.39545600e-03, 2.35513972e-01, 7.59090572e-01],\n",
       "       [4.08147206e-03, 1.60598356e-01, 8.35320172e-01],\n",
       "       [9.76074340e-01, 2.36568114e-02, 2.68848964e-04],\n",
       "       [1.33979480e-02, 8.95102878e-01, 9.14991743e-02],\n",
       "       [1.72893263e-02, 9.42256565e-01, 4.04541084e-02],\n",
       "       [1.59726262e-02, 9.31924316e-01, 5.21030579e-02],\n",
       "       [1.40518791e-02, 8.26963942e-01, 1.58984178e-01],\n",
       "       [6.13187406e-03, 2.77146279e-01, 7.16721847e-01],\n",
       "       [1.69047861e-02, 9.58152550e-01, 2.49426639e-02],\n",
       "       [9.83869114e-01, 1.59354392e-02, 1.95446874e-04],\n",
       "       [8.74379977e-03, 4.73084807e-01, 5.18171393e-01],\n",
       "       [1.43563526e-02, 8.32638677e-01, 1.53004970e-01],\n",
       "       [4.23206226e-03, 1.68667156e-01, 8.27100782e-01],\n",
       "       [3.14705019e-03, 1.07941639e-01, 8.88911311e-01],\n",
       "       [1.47874883e-03, 4.86599971e-02, 9.49861254e-01],\n",
       "       [1.41387538e-02, 6.91376637e-01, 2.94484609e-01],\n",
       "       [1.73754564e-03, 5.18155810e-02, 9.46446873e-01],\n",
       "       [1.41715590e-02, 8.87222757e-01, 9.86056841e-02],\n",
       "       [1.56204297e-02, 9.47000308e-01, 3.73792621e-02],\n",
       "       [9.85136056e-01, 1.46826744e-02, 1.81269570e-04],\n",
       "       [3.74548749e-03, 1.63038514e-01, 8.33215999e-01],\n",
       "       [1.92737149e-03, 6.37947770e-02, 9.34277851e-01],\n",
       "       [3.82783049e-02, 9.50172332e-01, 1.15493635e-02],\n",
       "       [1.26571922e-02, 9.08956011e-01, 7.83867970e-02],\n",
       "       [9.59945667e-04, 2.70923905e-02, 9.71947664e-01],\n",
       "       [9.86386074e-01, 1.34436817e-02, 1.70244302e-04],\n",
       "       [1.13885585e-02, 6.53306743e-01, 3.35304699e-01],\n",
       "       [3.34933530e-03, 1.38406474e-01, 8.58244190e-01],\n",
       "       [9.80352279e-01, 1.94128952e-02, 2.34825566e-04],\n",
       "       [9.52147651e-03, 5.08380651e-01, 4.82097873e-01],\n",
       "       [8.60483581e-04, 2.31904663e-02, 9.75949050e-01],\n",
       "       [4.72523144e-03, 1.84165368e-01, 8.11109400e-01],\n",
       "       [9.85818929e-01, 1.40061534e-02, 1.74917579e-04],\n",
       "       [4.24819432e-03, 1.81300437e-01, 8.14451368e-01],\n",
       "       [9.70317110e-01, 2.93603264e-02, 3.22563531e-04],\n",
       "       [9.83301910e-01, 1.64922806e-02, 2.05809467e-04],\n",
       "       [9.81189440e-01, 1.85876891e-02, 2.22871251e-04],\n",
       "       [1.64690682e-02, 9.50024624e-01, 3.35063075e-02],\n",
       "       [1.18731327e-03, 3.57946585e-02, 9.63018028e-01]])"
      ]
     },
     "execution_count": 8,
     "metadata": {},
     "output_type": "execute_result"
    }
   ],
   "source": [
    "# Para ver las probabilidades de pertenecer a cada clase con el conjunto de datos de entrenamiento\n",
    "red.predict_proba(X_ent)"
   ]
  },
  {
   "cell_type": "code",
   "execution_count": 9,
   "metadata": {},
   "outputs": [
    {
     "data": {
      "text/plain": [
       "array([2, 0, 2, 0, 2, 2, 2, 2, 0, 2, 0, 2, 1, 0, 1, 1, 1, 2, 0, 0, 0, 1,\n",
       "       0, 0, 2, 2, 2, 1, 0, 0, 2, 1, 1, 2, 1, 1, 2, 2, 2, 1, 1, 0, 2, 2,\n",
       "       2, 2, 1, 0, 0, 0, 2, 2, 0, 1, 1, 0, 1, 0, 2, 0, 0, 1, 2, 0, 2, 1,\n",
       "       1, 1, 1, 2, 2, 0, 0, 2, 2, 0, 1, 1, 1, 1, 2, 1, 0, 2, 1, 2, 2, 2,\n",
       "       1, 2, 1, 1, 0, 2, 2, 1, 1, 2, 0, 1, 2, 0, 1, 2, 2, 0, 2, 0, 0, 0,\n",
       "       1, 2])"
      ]
     },
     "execution_count": 9,
     "metadata": {},
     "output_type": "execute_result"
    }
   ],
   "source": [
    "# Para ver las etiquetas de clasficacion con el conjunto de datos de entrenamiento\n",
    "y_hat = red.predict(X_ent)\n",
    "y_hat"
   ]
  },
  {
   "cell_type": "code",
   "execution_count": 10,
   "metadata": {},
   "outputs": [
    {
     "data": {
      "text/html": [
       "<div>\n",
       "<style scoped>\n",
       "    .dataframe tbody tr th:only-of-type {\n",
       "        vertical-align: middle;\n",
       "    }\n",
       "\n",
       "    .dataframe tbody tr th {\n",
       "        vertical-align: top;\n",
       "    }\n",
       "\n",
       "    .dataframe thead th {\n",
       "        text-align: right;\n",
       "    }\n",
       "</style>\n",
       "<table border=\"1\" class=\"dataframe\">\n",
       "  <thead>\n",
       "    <tr style=\"text-align: right;\">\n",
       "      <th>col_0</th>\n",
       "      <th>0</th>\n",
       "      <th>1</th>\n",
       "      <th>2</th>\n",
       "    </tr>\n",
       "    <tr>\n",
       "      <th>row_0</th>\n",
       "      <th></th>\n",
       "      <th></th>\n",
       "      <th></th>\n",
       "    </tr>\n",
       "  </thead>\n",
       "  <tbody>\n",
       "    <tr>\n",
       "      <th>0</th>\n",
       "      <td>33</td>\n",
       "      <td>0</td>\n",
       "      <td>0</td>\n",
       "    </tr>\n",
       "    <tr>\n",
       "      <th>1</th>\n",
       "      <td>0</td>\n",
       "      <td>34</td>\n",
       "      <td>1</td>\n",
       "    </tr>\n",
       "    <tr>\n",
       "      <th>2</th>\n",
       "      <td>0</td>\n",
       "      <td>3</td>\n",
       "      <td>41</td>\n",
       "    </tr>\n",
       "  </tbody>\n",
       "</table>\n",
       "</div>"
      ],
      "text/plain": [
       "col_0   0   1   2\n",
       "row_0            \n",
       "0      33   0   0\n",
       "1       0  34   1\n",
       "2       0   3  41"
      ]
     },
     "execution_count": 10,
     "metadata": {},
     "output_type": "execute_result"
    }
   ],
   "source": [
    "# Para construir la matriz de confusion con el conjunto de datos de entrenamiento\n",
    "import pandas as pd\n",
    "pd.crosstab(index=y_hat, columns=y_ent)"
   ]
  },
  {
   "cell_type": "code",
   "execution_count": 11,
   "metadata": {},
   "outputs": [
    {
     "data": {
      "text/plain": [
       "0.9642857142857143"
      ]
     },
     "execution_count": 11,
     "metadata": {},
     "output_type": "execute_result"
    }
   ],
   "source": [
    "# Para obtener la tasa de clasificación correcta con el conjunto de datos de entrenamiento\n",
    "red.score(X_ent, y_ent) "
   ]
  },
  {
   "cell_type": "code",
   "execution_count": 12,
   "metadata": {},
   "outputs": [
    {
     "data": {
      "text/plain": [
       "array([[9.79308551e-01, 2.04540716e-02, 2.37377194e-04],\n",
       "       [1.62607440e-03, 5.77481661e-02, 9.40625760e-01],\n",
       "       [9.89604782e-01, 1.02568379e-02, 1.38379895e-04],\n",
       "       [1.44910351e-02, 9.50906707e-01, 3.46022578e-02],\n",
       "       [2.55933872e-02, 9.64847117e-01, 9.55949586e-03],\n",
       "       [1.36251562e-02, 9.56624182e-01, 2.97506618e-02],\n",
       "       [1.42455630e-02, 8.30890483e-01, 1.54863954e-01],\n",
       "       [1.53910383e-02, 8.83973285e-01, 1.00635677e-01],\n",
       "       [9.87137655e-01, 1.27014308e-02, 1.60914231e-04],\n",
       "       [1.35092283e-02, 8.29015463e-01, 1.57475309e-01],\n",
       "       [9.71491909e-01, 2.81953024e-02, 3.12788428e-04],\n",
       "       [9.81884519e-01, 1.78977660e-02, 2.17714843e-04],\n",
       "       [9.83649256e-01, 1.61537459e-02, 1.96997932e-04],\n",
       "       [1.43445712e-02, 8.42585752e-01, 1.43069677e-01],\n",
       "       [1.43557633e-02, 9.38184688e-01, 4.74595491e-02],\n",
       "       [1.84248619e-03, 5.76454050e-02, 9.40512109e-01],\n",
       "       [3.85297504e-03, 1.47632207e-01, 8.48514818e-01],\n",
       "       [7.85633087e-04, 2.18294342e-02, 9.77384933e-01],\n",
       "       [1.69283808e-03, 6.12209450e-02, 9.37086217e-01],\n",
       "       [9.87700033e-01, 1.21456662e-02, 1.54300783e-04],\n",
       "       [6.17349535e-03, 2.78084038e-01, 7.15742466e-01],\n",
       "       [9.88295021e-01, 1.15551815e-02, 1.49797972e-04],\n",
       "       [2.47052802e-02, 9.54057093e-01, 2.12376269e-02],\n",
       "       [1.29302157e-02, 9.46181708e-01, 4.08880762e-02],\n",
       "       [9.82577825e-01, 1.72102846e-02, 2.11890256e-04],\n",
       "       [9.80664499e-01, 1.91142675e-02, 2.21233268e-04],\n",
       "       [6.82365509e-03, 2.93494879e-01, 6.99681466e-01],\n",
       "       [9.89790281e-01, 1.00749005e-02, 1.34818164e-04],\n",
       "       [1.85738709e-02, 9.59721479e-01, 2.17046501e-02],\n",
       "       [9.77587067e-01, 2.21540683e-02, 2.58864718e-04],\n",
       "       [9.78643675e-01, 2.11121447e-02, 2.44180673e-04],\n",
       "       [9.87799279e-01, 1.20444495e-02, 1.56271999e-04],\n",
       "       [9.89583451e-01, 1.02803065e-02, 1.36242338e-04],\n",
       "       [6.79211773e-04, 1.74379812e-02, 9.81882807e-01],\n",
       "       [1.79806361e-02, 9.26121653e-01, 5.58977107e-02],\n",
       "       [9.84754429e-01, 1.50627979e-02, 1.82772698e-04],\n",
       "       [9.85582412e-01, 1.42353343e-02, 1.82254039e-04],\n",
       "       [1.57823234e-02, 9.59861346e-01, 2.43563307e-02]])"
      ]
     },
     "execution_count": 12,
     "metadata": {},
     "output_type": "execute_result"
    }
   ],
   "source": [
    "# Para ver las probabilidades de pertenecer a cada clase con el conjunto de datos de prueba\n",
    "red.predict_proba(X_test)"
   ]
  },
  {
   "cell_type": "code",
   "execution_count": 13,
   "metadata": {},
   "outputs": [
    {
     "data": {
      "text/plain": [
       "array([0, 2, 0, 1, 1, 1, 1, 1, 0, 1, 0, 0, 0, 1, 1, 2, 2, 2, 2, 0, 2, 0,\n",
       "       1, 1, 0, 0, 2, 0, 1, 0, 0, 0, 0, 2, 1, 0, 0, 1])"
      ]
     },
     "execution_count": 13,
     "metadata": {},
     "output_type": "execute_result"
    }
   ],
   "source": [
    "# Para ver las etiquetas de clasficacion con el conjunto de datos de prueba\n",
    "y_hat = red.predict(X_test)\n",
    "y_hat"
   ]
  },
  {
   "cell_type": "code",
   "execution_count": 14,
   "metadata": {},
   "outputs": [
    {
     "data": {
      "text/html": [
       "<div>\n",
       "<style scoped>\n",
       "    .dataframe tbody tr th:only-of-type {\n",
       "        vertical-align: middle;\n",
       "    }\n",
       "\n",
       "    .dataframe tbody tr th {\n",
       "        vertical-align: top;\n",
       "    }\n",
       "\n",
       "    .dataframe thead th {\n",
       "        text-align: right;\n",
       "    }\n",
       "</style>\n",
       "<table border=\"1\" class=\"dataframe\">\n",
       "  <thead>\n",
       "    <tr style=\"text-align: right;\">\n",
       "      <th>col_0</th>\n",
       "      <th>0</th>\n",
       "      <th>1</th>\n",
       "      <th>2</th>\n",
       "    </tr>\n",
       "    <tr>\n",
       "      <th>row_0</th>\n",
       "      <th></th>\n",
       "      <th></th>\n",
       "      <th></th>\n",
       "    </tr>\n",
       "  </thead>\n",
       "  <tbody>\n",
       "    <tr>\n",
       "      <th>0</th>\n",
       "      <td>17</td>\n",
       "      <td>0</td>\n",
       "      <td>0</td>\n",
       "    </tr>\n",
       "    <tr>\n",
       "      <th>1</th>\n",
       "      <td>0</td>\n",
       "      <td>13</td>\n",
       "      <td>0</td>\n",
       "    </tr>\n",
       "    <tr>\n",
       "      <th>2</th>\n",
       "      <td>0</td>\n",
       "      <td>0</td>\n",
       "      <td>8</td>\n",
       "    </tr>\n",
       "  </tbody>\n",
       "</table>\n",
       "</div>"
      ],
      "text/plain": [
       "col_0   0   1  2\n",
       "row_0           \n",
       "0      17   0  0\n",
       "1       0  13  0\n",
       "2       0   0  8"
      ]
     },
     "execution_count": 14,
     "metadata": {},
     "output_type": "execute_result"
    }
   ],
   "source": [
    "# Para construir la matriz de confusion con el conjunto de datos de prueba\n",
    "pd.crosstab(index=y_hat, columns=y_test)"
   ]
  },
  {
   "cell_type": "code",
   "execution_count": 15,
   "metadata": {},
   "outputs": [
    {
     "data": {
      "text/plain": [
       "1.0"
      ]
     },
     "execution_count": 15,
     "metadata": {},
     "output_type": "execute_result"
    }
   ],
   "source": [
    "# Para obtener la tasa de clasificación correcta con el conjunto de datos de prueba\n",
    "red.score(X_test, y_test)"
   ]
  }
 ],
 "metadata": {
  "kernelspec": {
   "display_name": "Python 3",
   "language": "python",
   "name": "python3"
  },
  "language_info": {
   "codemirror_mode": {
    "name": "ipython",
    "version": 3
   },
   "file_extension": ".py",
   "mimetype": "text/x-python",
   "name": "python",
   "nbconvert_exporter": "python",
   "pygments_lexer": "ipython3",
   "version": "3.7.3"
  }
 },
 "nbformat": 4,
 "nbformat_minor": 2
}
