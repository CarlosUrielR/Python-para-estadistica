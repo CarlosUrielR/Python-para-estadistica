{
 "cells": [
  {
   "cell_type": "markdown",
   "metadata": {},
   "source": [
    "# Obesidad de los niños en United Kingdom\n",
    "\n",
    "En este archivo se analiza la obesidad de niños en UK."
   ]
  },
  {
   "cell_type": "code",
   "execution_count": 1,
   "metadata": {},
   "outputs": [],
   "source": [
    "import pandas as pd\n",
    "import matplotlib.pyplot as plt\n",
    "import numpy as np"
   ]
  },
  {
   "cell_type": "markdown",
   "metadata": {},
   "source": [
    "Para leer los datos usamos:"
   ]
  },
  {
   "cell_type": "code",
   "execution_count": 3,
   "metadata": {},
   "outputs": [
    {
     "name": "stdout",
     "output_type": "stream",
     "text": [
      "['Chapter 7', '7.1', '7.2', '7.3', '7.4', '7.5', '7.6', '7.7', '7.8', '7.9', '7.10']\n"
     ]
    }
   ],
   "source": [
    "data = pd.ExcelFile(\"datasets/obesidad.xls\")\n",
    "print(data.sheet_names)"
   ]
  },
  {
   "cell_type": "markdown",
   "metadata": {},
   "source": [
    "Para limpiar los datos hacemos"
   ]
  },
  {
   "cell_type": "code",
   "execution_count": 7,
   "metadata": {
    "scrolled": true
   },
   "outputs": [
    {
     "name": "stdout",
     "output_type": "stream",
     "text": [
      "   Unnamed: 0    Total  Under 16  16-24   25-34   35-44   45-54   55-64  \\\n",
      "0         NaN      NaN       NaN    NaN     NaN     NaN     NaN     NaN   \n",
      "1     2002/03   1275.0     400.0   65.0   136.0   289.0   216.0    94.0   \n",
      "2     2003/04   1711.0     579.0   67.0   174.0   391.0   273.0   151.0   \n",
      "3     2004/05   2035.0     547.0  107.0   287.0   487.0   364.0   174.0   \n",
      "4     2005/06   2564.0     583.0   96.0   341.0   637.0   554.0   258.0   \n",
      "5     2006/07   3862.0     656.0  184.0   461.0  1069.0   872.0   459.0   \n",
      "6     2007/08   5018.0     747.0  228.0   564.0  1469.0  1198.0   598.0   \n",
      "7     2008/09   7988.0     775.0  322.0  1013.0  2359.0  2133.0  1099.0   \n",
      "8     2009/10  10571.0     632.0  361.0  1348.0  3132.0  3076.0  1555.0   \n",
      "9     2010/11  11574.0     525.0  375.0  1425.0  3277.0  3573.0  1820.0   \n",
      "10    2011/12  11736.0     495.0  391.0  1484.0  3104.0  3581.0  2119.0   \n",
      "11    2012/13  10957.0     556.0  356.0  1437.0  2744.0  3305.0  1965.0   \n",
      "\n",
      "    65-74  75 and over  \n",
      "0     NaN          NaN  \n",
      "1    52.0         23.0  \n",
      "2    52.0         24.0  \n",
      "3    36.0         32.0  \n",
      "4    72.0         20.0  \n",
      "5   118.0         43.0  \n",
      "6   157.0         53.0  \n",
      "7   221.0         63.0  \n",
      "8   378.0         87.0  \n",
      "9   456.0        115.0  \n",
      "10  468.0         94.0  \n",
      "11  495.0         99.0  \n"
     ]
    }
   ],
   "source": [
    "data_age = data.parse(u'7.2', skiprows=4, skipfooter=14)\n",
    "print(data_age)"
   ]
  },
  {
   "cell_type": "code",
   "execution_count": null,
   "metadata": {},
   "outputs": [],
   "source": []
  }
 ],
 "metadata": {
  "kernelspec": {
   "display_name": "Python 3",
   "language": "python",
   "name": "python3"
  },
  "language_info": {
   "codemirror_mode": {
    "name": "ipython",
    "version": 3
   },
   "file_extension": ".py",
   "mimetype": "text/x-python",
   "name": "python",
   "nbconvert_exporter": "python",
   "pygments_lexer": "ipython3",
   "version": "3.6.4"
  }
 },
 "nbformat": 4,
 "nbformat_minor": 2
}
